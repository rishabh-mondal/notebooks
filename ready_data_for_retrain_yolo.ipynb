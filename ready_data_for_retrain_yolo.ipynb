{
 "cells": [
  {
   "cell_type": "code",
   "execution_count": 1,
   "metadata": {},
   "outputs": [
    {
     "name": "stdout",
     "output_type": "stream",
     "text": [
      "Merged GeoJSON saved at: ../after_hand_validation_data/bangladesh_v1/bangladesh_v1.geojson\n"
     ]
    }
   ],
   "source": [
    "import geopandas as gpd\n",
    "import pandas as pd\n",
    "import glob\n",
    "\n",
    "# Get list of GeoJSON file paths using glob\n",
    "geojson_files = glob.glob(\"../after_hand_validation_data/bangladesh_v1/*.geojson\")\n",
    "\n",
    "if not geojson_files:\n",
    "    print(\"No GeoJSON files found.\")\n",
    "else:\n",
    "    # Read and merge all GeoJSON files into a single GeoDataFrame\n",
    "    merged_gdf = gpd.GeoDataFrame(pd.concat([gpd.read_file(file) for file in geojson_files], ignore_index=True))\n",
    "\n",
    "    # Save the merged GeoJSON file\n",
    "    output_path = \"../after_hand_validation_data/bangladesh_v1/bangladesh_v1.geojson\"\n",
    "    merged_gdf.to_file(output_path, driver=\"GeoJSON\")\n",
    "\n",
    "    print(f\"Merged GeoJSON saved at: {output_path}\")\n"
   ]
  },
  {
   "cell_type": "code",
   "execution_count": 2,
   "metadata": {},
   "outputs": [
    {
     "name": "stdout",
     "output_type": "stream",
     "text": [
      "Merged GeoJSON saved at: ../after_hand_validation_data/bangladesh_v1/rajshahi.geojson\n"
     ]
    }
   ],
   "source": [
    "import geopandas as gpd\n",
    "import pandas as pd\n",
    "# List of GeoJSON file paths\n",
    "geojson_files = [\n",
    "    \"../after_hand_validation_data/bangladesh_v1/v1_potential_kiln_rajshahi_0_499.geojson\",\n",
    "    \"../after_hand_validation_data/bangladesh_v1/v1_potential_kiln_rajshahi_500_999.geojson\",\n",
    "    \"../after_hand_validation_data/bangladesh_v1/v1_potential_kiln_rajshahi_1000_1053.geojson\"]\n",
    "\n",
    "# Read and merge all GeoJSON files into a single GeoDataFrame\n",
    "merged_gdf = gpd.GeoDataFrame(pd.concat([gpd.read_file(file) for file in geojson_files], ignore_index=True))\n",
    "\n",
    "# Save the merged GeoJSON file\n",
    "output_path = \"../after_hand_validation_data/bangladesh_v1/rajshahi.geojson\"\n",
    "merged_gdf.to_file(output_path, driver=\"GeoJSON\")\n",
    "\n",
    "print(f\"Merged GeoJSON saved at: {output_path}\")"
   ]
  },
  {
   "cell_type": "code",
   "execution_count": null,
   "metadata": {},
   "outputs": [],
   "source": []
  }
 ],
 "metadata": {
  "kernelspec": {
   "display_name": "rishabh_sat",
   "language": "python",
   "name": "python3"
  },
  "language_info": {
   "codemirror_mode": {
    "name": "ipython",
    "version": 3
   },
   "file_extension": ".py",
   "mimetype": "text/x-python",
   "name": "python",
   "nbconvert_exporter": "python",
   "pygments_lexer": "ipython3",
   "version": "3.12.4"
  }
 },
 "nbformat": 4,
 "nbformat_minor": 2
}
