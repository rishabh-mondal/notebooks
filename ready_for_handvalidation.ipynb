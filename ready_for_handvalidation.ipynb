{
 "cells": [
  {
   "cell_type": "code",
   "execution_count": 37,
   "metadata": {},
   "outputs": [
    {
     "data": {
      "text/html": [
       "\n",
       "            <style>\n",
       "                .geemap-dark {\n",
       "                    --jp-widgets-color: white;\n",
       "                    --jp-widgets-label-color: white;\n",
       "                    --jp-ui-font-color1: white;\n",
       "                    --jp-layout-color2: #454545;\n",
       "                    background-color: #383838;\n",
       "                }\n",
       "\n",
       "                .geemap-dark .jupyter-button {\n",
       "                    --jp-layout-color3: #383838;\n",
       "                }\n",
       "\n",
       "                .geemap-colab {\n",
       "                    background-color: var(--colab-primary-surface-color, white);\n",
       "                }\n",
       "\n",
       "                .geemap-colab .jupyter-button {\n",
       "                    --jp-layout-color3: var(--colab-primary-surface-color, white);\n",
       "                }\n",
       "            </style>\n",
       "            "
      ],
      "text/plain": [
       "<IPython.core.display.HTML object>"
      ]
     },
     "metadata": {},
     "output_type": "display_data"
    }
   ],
   "source": [
    "import json\n",
    "from shapely.geometry import Point, Polygon, MultiPolygon\n",
    "import geojson\n",
    "import geopandas as gpd\n",
    "import pandas as pd\n",
    "import numpy as np\n",
    "from time import time\n",
    "import leafmap.foliumap as leafmap\n",
    "import supervision as sv\n",
    "from garuda.od import ConfusionMatrix\n",
    "from IPython.display import Markdown"
   ]
  },
  {
   "cell_type": "code",
   "execution_count": 38,
   "metadata": {},
   "outputs": [
    {
     "data": {
      "text/html": [
       "\n",
       "            <style>\n",
       "                .geemap-dark {\n",
       "                    --jp-widgets-color: white;\n",
       "                    --jp-widgets-label-color: white;\n",
       "                    --jp-ui-font-color1: white;\n",
       "                    --jp-layout-color2: #454545;\n",
       "                    background-color: #383838;\n",
       "                }\n",
       "\n",
       "                .geemap-dark .jupyter-button {\n",
       "                    --jp-layout-color3: #383838;\n",
       "                }\n",
       "\n",
       "                .geemap-colab {\n",
       "                    background-color: var(--colab-primary-surface-color, white);\n",
       "                }\n",
       "\n",
       "                .geemap-colab .jupyter-button {\n",
       "                    --jp-layout-color3: var(--colab-primary-surface-color, white);\n",
       "                }\n",
       "            </style>\n",
       "            "
      ],
      "text/plain": [
       "<IPython.core.display.HTML object>"
      ]
     },
     "metadata": {},
     "output_type": "display_data"
    },
    {
     "name": "stdout",
     "output_type": "stream",
     "text": [
      "Region: sylhet\n",
      "Prediction file: ../data/predict/processed_labels/sylhet/predictions_0.25.geojson\n"
     ]
    }
   ],
   "source": [
    "region = 'sylhet'\n",
    "prediction_file = f\"../data/predict/processed_labels/{region}/predictions_0.25.geojson\"\n",
    "print(f\"Region: {region}\")\n",
    "print(f\"Prediction file: {prediction_file}\")"
   ]
  },
  {
   "cell_type": "code",
   "execution_count": 39,
   "metadata": {},
   "outputs": [
    {
     "data": {
      "text/html": [
       "\n",
       "            <style>\n",
       "                .geemap-dark {\n",
       "                    --jp-widgets-color: white;\n",
       "                    --jp-widgets-label-color: white;\n",
       "                    --jp-ui-font-color1: white;\n",
       "                    --jp-layout-color2: #454545;\n",
       "                    background-color: #383838;\n",
       "                }\n",
       "\n",
       "                .geemap-dark .jupyter-button {\n",
       "                    --jp-layout-color3: #383838;\n",
       "                }\n",
       "\n",
       "                .geemap-colab {\n",
       "                    background-color: var(--colab-primary-surface-color, white);\n",
       "                }\n",
       "\n",
       "                .geemap-colab .jupyter-button {\n",
       "                    --jp-layout-color3: var(--colab-primary-surface-color, white);\n",
       "                }\n",
       "            </style>\n",
       "            "
      ],
      "text/plain": [
       "<IPython.core.display.HTML object>"
      ]
     },
     "metadata": {},
     "output_type": "display_data"
    },
    {
     "name": "stdout",
     "output_type": "stream",
     "text": [
      "202\n",
      "EPSG:3857\n"
     ]
    },
    {
     "data": {
      "text/html": [
       "<div>\n",
       "<style scoped>\n",
       "    .dataframe tbody tr th:only-of-type {\n",
       "        vertical-align: middle;\n",
       "    }\n",
       "\n",
       "    .dataframe tbody tr th {\n",
       "        vertical-align: top;\n",
       "    }\n",
       "\n",
       "    .dataframe thead th {\n",
       "        text-align: right;\n",
       "    }\n",
       "</style>\n",
       "<table border=\"1\" class=\"dataframe\">\n",
       "  <thead>\n",
       "    <tr style=\"text-align: right;\">\n",
       "      <th></th>\n",
       "      <th>x</th>\n",
       "      <th>y</th>\n",
       "      <th>class_name</th>\n",
       "      <th>confidence</th>\n",
       "      <th>yolo_label</th>\n",
       "      <th>geometry</th>\n",
       "    </tr>\n",
       "  </thead>\n",
       "  <tbody>\n",
       "    <tr>\n",
       "      <th>0</th>\n",
       "      <td>10225442</td>\n",
       "      <td>2784751</td>\n",
       "      <td>Zigzag</td>\n",
       "      <td>0.782646</td>\n",
       "      <td>[2.0, 0.354836, 0.999618, 0.368349, 0.99992, 0...</td>\n",
       "      <td>POLYGON ((10224998.447 2783223.853, 10225039.7...</td>\n",
       "    </tr>\n",
       "    <tr>\n",
       "      <th>1</th>\n",
       "      <td>10222690</td>\n",
       "      <td>2793006</td>\n",
       "      <td>Zigzag</td>\n",
       "      <td>0.832081</td>\n",
       "      <td>[2.0, 0.679098, 0.238839, 0.692999, 0.241333, ...</td>\n",
       "      <td>POLYGON ((10223238.139 2793805.119, 10223280.6...</td>\n",
       "    </tr>\n",
       "    <tr>\n",
       "      <th>2</th>\n",
       "      <td>10225442</td>\n",
       "      <td>2801261</td>\n",
       "      <td>Zigzag</td>\n",
       "      <td>0.842850</td>\n",
       "      <td>[2.0, 0.275691, 0.445727, 0.278613, 0.43005, 0...</td>\n",
       "      <td>POLYGON ((10224756.463 2801427.762, 10224765.3...</td>\n",
       "    </tr>\n",
       "    <tr>\n",
       "      <th>3</th>\n",
       "      <td>10214435</td>\n",
       "      <td>2801261</td>\n",
       "      <td>FCBK</td>\n",
       "      <td>0.454749</td>\n",
       "      <td>[1.0, 0.00115462, 0.294584, 0.0139894, 0.30257...</td>\n",
       "      <td>POLYGON ((10212910.141 2801889.879, 10212949.3...</td>\n",
       "    </tr>\n",
       "    <tr>\n",
       "      <th>4</th>\n",
       "      <td>10228194</td>\n",
       "      <td>2801261</td>\n",
       "      <td>Zigzag</td>\n",
       "      <td>0.849970</td>\n",
       "      <td>[2.0, 0.83096, 0.455518, 0.844085, 0.457745, 0...</td>\n",
       "      <td>POLYGON ((10229205.92 2801397.826, 10229246.05...</td>\n",
       "    </tr>\n",
       "  </tbody>\n",
       "</table>\n",
       "</div>"
      ],
      "text/plain": [
       "          x        y class_name  confidence  \\\n",
       "0  10225442  2784751     Zigzag    0.782646   \n",
       "1  10222690  2793006     Zigzag    0.832081   \n",
       "2  10225442  2801261     Zigzag    0.842850   \n",
       "3  10214435  2801261       FCBK    0.454749   \n",
       "4  10228194  2801261     Zigzag    0.849970   \n",
       "\n",
       "                                          yolo_label  \\\n",
       "0  [2.0, 0.354836, 0.999618, 0.368349, 0.99992, 0...   \n",
       "1  [2.0, 0.679098, 0.238839, 0.692999, 0.241333, ...   \n",
       "2  [2.0, 0.275691, 0.445727, 0.278613, 0.43005, 0...   \n",
       "3  [1.0, 0.00115462, 0.294584, 0.0139894, 0.30257...   \n",
       "4  [2.0, 0.83096, 0.455518, 0.844085, 0.457745, 0...   \n",
       "\n",
       "                                            geometry  \n",
       "0  POLYGON ((10224998.447 2783223.853, 10225039.7...  \n",
       "1  POLYGON ((10223238.139 2793805.119, 10223280.6...  \n",
       "2  POLYGON ((10224756.463 2801427.762, 10224765.3...  \n",
       "3  POLYGON ((10212910.141 2801889.879, 10212949.3...  \n",
       "4  POLYGON ((10229205.92 2801397.826, 10229246.05...  "
      ]
     },
     "execution_count": 39,
     "metadata": {},
     "output_type": "execute_result"
    }
   ],
   "source": [
    "prediction_gdf = gpd.read_file(prediction_file) \n",
    "prediction_gdf['yolo_label'] = prediction_gdf['yolo_label'].apply(lambda x: np.array(list(map(float, x.split(\"_\")))))\n",
    "print(len(prediction_gdf))\n",
    "print(prediction_gdf.crs)\n",
    "prediction_gdf.head()\n",
    "\n"
   ]
  },
  {
   "cell_type": "code",
   "execution_count": 40,
   "metadata": {},
   "outputs": [
    {
     "data": {
      "text/html": [
       "\n",
       "            <style>\n",
       "                .geemap-dark {\n",
       "                    --jp-widgets-color: white;\n",
       "                    --jp-widgets-label-color: white;\n",
       "                    --jp-ui-font-color1: white;\n",
       "                    --jp-layout-color2: #454545;\n",
       "                    background-color: #383838;\n",
       "                }\n",
       "\n",
       "                .geemap-dark .jupyter-button {\n",
       "                    --jp-layout-color3: #383838;\n",
       "                }\n",
       "\n",
       "                .geemap-colab {\n",
       "                    background-color: var(--colab-primary-surface-color, white);\n",
       "                }\n",
       "\n",
       "                .geemap-colab .jupyter-button {\n",
       "                    --jp-layout-color3: var(--colab-primary-surface-color, white);\n",
       "                }\n",
       "            </style>\n",
       "            "
      ],
      "text/plain": [
       "<IPython.core.display.HTML object>"
      ]
     },
     "metadata": {},
     "output_type": "display_data"
    },
    {
     "name": "stdout",
     "output_type": "stream",
     "text": [
      "            x        y class_name  confidence  \\\n",
      "200  10181414  2886565     Zigzag    0.785869   \n",
      "201  10170407  2894820     Zigzag    0.903176   \n",
      "\n",
      "                                            yolo_label  \\\n",
      "200  [2.0, 0.722989, 0.550203, 0.731152, 0.535728, ...   \n",
      "201  [2.0, 0.855249, 0.529158, 0.869929, 0.542203, ...   \n",
      "\n",
      "                                              geometry  \n",
      "200  POLYGON ((10182096.339 2886412.052, 10182121.2...  \n",
      "201  POLYGON ((10171493.79 2894731.596, 10171538.67...  \n"
     ]
    }
   ],
   "source": [
    "prediction_gdf.crs.to_string()\n",
    "print(prediction_gdf.tail(2))"
   ]
  },
  {
   "cell_type": "code",
   "execution_count": 41,
   "metadata": {},
   "outputs": [
    {
     "data": {
      "text/html": [
       "\n",
       "            <style>\n",
       "                .geemap-dark {\n",
       "                    --jp-widgets-color: white;\n",
       "                    --jp-widgets-label-color: white;\n",
       "                    --jp-ui-font-color1: white;\n",
       "                    --jp-layout-color2: #454545;\n",
       "                    background-color: #383838;\n",
       "                }\n",
       "\n",
       "                .geemap-dark .jupyter-button {\n",
       "                    --jp-layout-color3: #383838;\n",
       "                }\n",
       "\n",
       "                .geemap-colab {\n",
       "                    background-color: var(--colab-primary-surface-color, white);\n",
       "                }\n",
       "\n",
       "                .geemap-colab .jupyter-button {\n",
       "                    --jp-layout-color3: var(--colab-primary-surface-color, white);\n",
       "                }\n",
       "            </style>\n",
       "            "
      ],
      "text/plain": [
       "<IPython.core.display.HTML object>"
      ]
     },
     "metadata": {},
     "output_type": "display_data"
    },
    {
     "name": "stdout",
     "output_type": "stream",
     "text": [
      "          x        y class_name  confidence  \\\n",
      "0  10225442  2784751     Zigzag    0.782646   \n",
      "1  10222690  2793006     Zigzag    0.832081   \n",
      "\n",
      "                                          yolo_label  \\\n",
      "0  [2.0, 0.354836, 0.999618, 0.368349, 0.99992, 0...   \n",
      "1  [2.0, 0.679098, 0.238839, 0.692999, 0.241333, ...   \n",
      "\n",
      "                                            geometry  \n",
      "0  POLYGON ((10224998.447 2783223.853, 10225039.7...  \n",
      "1  POLYGON ((10223238.139 2793805.119, 10223280.6...  \n"
     ]
    }
   ],
   "source": [
    "prediction_gdf.reset_index(inplace=True, drop=True)\n",
    "print(prediction_gdf.head(2))"
   ]
  },
  {
   "cell_type": "code",
   "execution_count": 42,
   "metadata": {},
   "outputs": [
    {
     "data": {
      "text/html": [
       "\n",
       "            <style>\n",
       "                .geemap-dark {\n",
       "                    --jp-widgets-color: white;\n",
       "                    --jp-widgets-label-color: white;\n",
       "                    --jp-ui-font-color1: white;\n",
       "                    --jp-layout-color2: #454545;\n",
       "                    background-color: #383838;\n",
       "                }\n",
       "\n",
       "                .geemap-dark .jupyter-button {\n",
       "                    --jp-layout-color3: #383838;\n",
       "                }\n",
       "\n",
       "                .geemap-colab {\n",
       "                    background-color: var(--colab-primary-surface-color, white);\n",
       "                }\n",
       "\n",
       "                .geemap-colab .jupyter-button {\n",
       "                    --jp-layout-color3: var(--colab-primary-surface-color, white);\n",
       "                }\n",
       "            </style>\n",
       "            "
      ],
      "text/plain": [
       "<IPython.core.display.HTML object>"
      ]
     },
     "metadata": {},
     "output_type": "display_data"
    },
    {
     "data": {
      "text/plain": [
       "4"
      ]
     },
     "execution_count": 42,
     "metadata": {},
     "output_type": "execute_result"
    }
   ],
   "source": [
    "intersection_gdf = gpd.sjoin(prediction_gdf, prediction_gdf, predicate=\"intersects\")[['index_right']].reset_index()\n",
    "intersection_gdf = intersection_gdf[intersection_gdf['index'] < intersection_gdf['index_right']]\n",
    "len(intersection_gdf)"
   ]
  },
  {
   "cell_type": "code",
   "execution_count": 43,
   "metadata": {},
   "outputs": [
    {
     "data": {
      "text/html": [
       "\n",
       "            <style>\n",
       "                .geemap-dark {\n",
       "                    --jp-widgets-color: white;\n",
       "                    --jp-widgets-label-color: white;\n",
       "                    --jp-ui-font-color1: white;\n",
       "                    --jp-layout-color2: #454545;\n",
       "                    background-color: #383838;\n",
       "                }\n",
       "\n",
       "                .geemap-dark .jupyter-button {\n",
       "                    --jp-layout-color3: #383838;\n",
       "                }\n",
       "\n",
       "                .geemap-colab {\n",
       "                    background-color: var(--colab-primary-surface-color, white);\n",
       "                }\n",
       "\n",
       "                .geemap-colab .jupyter-button {\n",
       "                    --jp-layout-color3: var(--colab-primary-surface-color, white);\n",
       "                }\n",
       "            </style>\n",
       "            "
      ],
      "text/plain": [
       "<IPython.core.display.HTML object>"
      ]
     },
     "metadata": {},
     "output_type": "display_data"
    },
    {
     "name": "stdout",
     "output_type": "stream",
     "text": [
      "    index  index_right       iou    left_area   right_area\n",
      "82     81           83  0.372959  1545.053932  3105.626457\n",
      "83     81           87  0.472139  1545.053932  2757.904602\n"
     ]
    }
   ],
   "source": [
    "def get_iou(row):\n",
    "    left_polygon = prediction_gdf.iloc[int(row['index'])]['geometry']\n",
    "    right_polygon = prediction_gdf.iloc[int(row['index_right'])]['geometry']\n",
    "    left_area = left_polygon.area\n",
    "    right_area = right_polygon.area\n",
    "    iou = left_polygon.intersection(right_polygon).area / left_polygon.union(right_polygon).area\n",
    "    return iou, left_area, right_area\n",
    "\n",
    "intersection_gdf[['iou', 'left_area', 'right_area']] = intersection_gdf.apply(get_iou, axis=1, result_type=\"expand\")\n",
    "intersection_gdf = intersection_gdf[intersection_gdf['iou'] > 0.33]\n",
    "len(intersection_gdf)\n",
    "print(intersection_gdf.head(2))"
   ]
  },
  {
   "cell_type": "code",
   "execution_count": 44,
   "metadata": {},
   "outputs": [
    {
     "data": {
      "text/html": [
       "\n",
       "            <style>\n",
       "                .geemap-dark {\n",
       "                    --jp-widgets-color: white;\n",
       "                    --jp-widgets-label-color: white;\n",
       "                    --jp-ui-font-color1: white;\n",
       "                    --jp-layout-color2: #454545;\n",
       "                    background-color: #383838;\n",
       "                }\n",
       "\n",
       "                .geemap-dark .jupyter-button {\n",
       "                    --jp-layout-color3: #383838;\n",
       "                }\n",
       "\n",
       "                .geemap-colab {\n",
       "                    background-color: var(--colab-primary-surface-color, white);\n",
       "                }\n",
       "\n",
       "                .geemap-colab .jupyter-button {\n",
       "                    --jp-layout-color3: var(--colab-primary-surface-color, white);\n",
       "                }\n",
       "            </style>\n",
       "            "
      ],
      "text/plain": [
       "<IPython.core.display.HTML object>"
      ]
     },
     "metadata": {},
     "output_type": "display_data"
    },
    {
     "name": "stdout",
     "output_type": "stream",
     "text": [
      "202\n",
      "200\n"
     ]
    },
    {
     "data": {
      "text/html": [
       "<div>\n",
       "<style scoped>\n",
       "    .dataframe tbody tr th:only-of-type {\n",
       "        vertical-align: middle;\n",
       "    }\n",
       "\n",
       "    .dataframe tbody tr th {\n",
       "        vertical-align: top;\n",
       "    }\n",
       "\n",
       "    .dataframe thead th {\n",
       "        text-align: right;\n",
       "    }\n",
       "</style>\n",
       "<table border=\"1\" class=\"dataframe\">\n",
       "  <thead>\n",
       "    <tr style=\"text-align: right;\">\n",
       "      <th></th>\n",
       "      <th>x</th>\n",
       "      <th>y</th>\n",
       "      <th>class_name</th>\n",
       "      <th>confidence</th>\n",
       "      <th>yolo_label</th>\n",
       "      <th>geometry</th>\n",
       "    </tr>\n",
       "  </thead>\n",
       "  <tbody>\n",
       "    <tr>\n",
       "      <th>0</th>\n",
       "      <td>10225442</td>\n",
       "      <td>2784751</td>\n",
       "      <td>Zigzag</td>\n",
       "      <td>0.782646</td>\n",
       "      <td>[2.0, 0.354836, 0.999618, 0.368349, 0.99992, 0...</td>\n",
       "      <td>POLYGON ((10224998.447 2783223.853, 10225039.7...</td>\n",
       "    </tr>\n",
       "    <tr>\n",
       "      <th>1</th>\n",
       "      <td>10222690</td>\n",
       "      <td>2793006</td>\n",
       "      <td>Zigzag</td>\n",
       "      <td>0.832081</td>\n",
       "      <td>[2.0, 0.679098, 0.238839, 0.692999, 0.241333, ...</td>\n",
       "      <td>POLYGON ((10223238.139 2793805.119, 10223280.6...</td>\n",
       "    </tr>\n",
       "  </tbody>\n",
       "</table>\n",
       "</div>"
      ],
      "text/plain": [
       "          x        y class_name  confidence  \\\n",
       "0  10225442  2784751     Zigzag    0.782646   \n",
       "1  10222690  2793006     Zigzag    0.832081   \n",
       "\n",
       "                                          yolo_label  \\\n",
       "0  [2.0, 0.354836, 0.999618, 0.368349, 0.99992, 0...   \n",
       "1  [2.0, 0.679098, 0.238839, 0.692999, 0.241333, ...   \n",
       "\n",
       "                                            geometry  \n",
       "0  POLYGON ((10224998.447 2783223.853, 10225039.7...  \n",
       "1  POLYGON ((10223238.139 2793805.119, 10223280.6...  "
      ]
     },
     "metadata": {},
     "output_type": "display_data"
    }
   ],
   "source": [
    "drop_idx = intersection_gdf.apply(lambda x: x['index'] if x['left_area'] < x['right_area'] else x['index_right'], axis=1).astype(int).values\n",
    "print(len(prediction_gdf))\n",
    "prediction_gdf.drop(drop_idx, inplace=True)\n",
    "print(len(prediction_gdf))\n",
    "display(prediction_gdf.head(2))"
   ]
  },
  {
   "cell_type": "code",
   "execution_count": 45,
   "metadata": {},
   "outputs": [
    {
     "data": {
      "text/html": [
       "\n",
       "            <style>\n",
       "                .geemap-dark {\n",
       "                    --jp-widgets-color: white;\n",
       "                    --jp-widgets-label-color: white;\n",
       "                    --jp-ui-font-color1: white;\n",
       "                    --jp-layout-color2: #454545;\n",
       "                    background-color: #383838;\n",
       "                }\n",
       "\n",
       "                .geemap-dark .jupyter-button {\n",
       "                    --jp-layout-color3: #383838;\n",
       "                }\n",
       "\n",
       "                .geemap-colab {\n",
       "                    background-color: var(--colab-primary-surface-color, white);\n",
       "                }\n",
       "\n",
       "                .geemap-colab .jupyter-button {\n",
       "                    --jp-layout-color3: var(--colab-primary-surface-color, white);\n",
       "                }\n",
       "            </style>\n",
       "            "
      ],
      "text/plain": [
       "<IPython.core.display.HTML object>"
      ]
     },
     "metadata": {},
     "output_type": "display_data"
    },
    {
     "data": {
      "text/html": [
       "<div>\n",
       "<style scoped>\n",
       "    .dataframe tbody tr th:only-of-type {\n",
       "        vertical-align: middle;\n",
       "    }\n",
       "\n",
       "    .dataframe tbody tr th {\n",
       "        vertical-align: top;\n",
       "    }\n",
       "\n",
       "    .dataframe thead th {\n",
       "        text-align: right;\n",
       "    }\n",
       "</style>\n",
       "<table border=\"1\" class=\"dataframe\">\n",
       "  <thead>\n",
       "    <tr style=\"text-align: right;\">\n",
       "      <th></th>\n",
       "      <th>x</th>\n",
       "      <th>y</th>\n",
       "      <th>class_name</th>\n",
       "      <th>confidence</th>\n",
       "      <th>yolo_label</th>\n",
       "      <th>geometry</th>\n",
       "    </tr>\n",
       "  </thead>\n",
       "  <tbody>\n",
       "    <tr>\n",
       "      <th>0</th>\n",
       "      <td>10225442</td>\n",
       "      <td>2784751</td>\n",
       "      <td>Zigzag</td>\n",
       "      <td>0.782646</td>\n",
       "      <td>[2.0, 0.354836, 0.999618, 0.368349, 0.99992, 0...</td>\n",
       "      <td>POLYGON ((91.85272 24.24445, 91.85309 24.24444...</td>\n",
       "    </tr>\n",
       "    <tr>\n",
       "      <th>1</th>\n",
       "      <td>10222690</td>\n",
       "      <td>2793006</td>\n",
       "      <td>Zigzag</td>\n",
       "      <td>0.832081</td>\n",
       "      <td>[2.0, 0.679098, 0.238839, 0.692999, 0.241333, ...</td>\n",
       "      <td>POLYGON ((91.83691 24.33109, 91.83729 24.33103...</td>\n",
       "    </tr>\n",
       "  </tbody>\n",
       "</table>\n",
       "</div>"
      ],
      "text/plain": [
       "          x        y class_name  confidence  \\\n",
       "0  10225442  2784751     Zigzag    0.782646   \n",
       "1  10222690  2793006     Zigzag    0.832081   \n",
       "\n",
       "                                          yolo_label  \\\n",
       "0  [2.0, 0.354836, 0.999618, 0.368349, 0.99992, 0...   \n",
       "1  [2.0, 0.679098, 0.238839, 0.692999, 0.241333, ...   \n",
       "\n",
       "                                            geometry  \n",
       "0  POLYGON ((91.85272 24.24445, 91.85309 24.24444...  \n",
       "1  POLYGON ((91.83691 24.33109, 91.83729 24.33103...  "
      ]
     },
     "metadata": {},
     "output_type": "display_data"
    }
   ],
   "source": [
    "final_kilns=prediction_gdf.to_crs(epsg=4326)\n",
    "display(final_kilns.head(2))"
   ]
  },
  {
   "cell_type": "code",
   "execution_count": 46,
   "metadata": {},
   "outputs": [
    {
     "data": {
      "text/html": [
       "\n",
       "            <style>\n",
       "                .geemap-dark {\n",
       "                    --jp-widgets-color: white;\n",
       "                    --jp-widgets-label-color: white;\n",
       "                    --jp-ui-font-color1: white;\n",
       "                    --jp-layout-color2: #454545;\n",
       "                    background-color: #383838;\n",
       "                }\n",
       "\n",
       "                .geemap-dark .jupyter-button {\n",
       "                    --jp-layout-color3: #383838;\n",
       "                }\n",
       "\n",
       "                .geemap-colab {\n",
       "                    background-color: var(--colab-primary-surface-color, white);\n",
       "                }\n",
       "\n",
       "                .geemap-colab .jupyter-button {\n",
       "                    --jp-layout-color3: var(--colab-primary-surface-color, white);\n",
       "                }\n",
       "            </style>\n",
       "            "
      ],
      "text/plain": [
       "<IPython.core.display.HTML object>"
      ]
     },
     "metadata": {},
     "output_type": "display_data"
    }
   ],
   "source": [
    "import os\n",
    "save_handvalidation_dir = f\"../hand_validation/{region}\"\n",
    "os.makedirs(save_handvalidation_dir, exist_ok=True)"
   ]
  },
  {
   "cell_type": "code",
   "execution_count": 47,
   "metadata": {},
   "outputs": [
    {
     "data": {
      "text/html": [
       "\n",
       "            <style>\n",
       "                .geemap-dark {\n",
       "                    --jp-widgets-color: white;\n",
       "                    --jp-widgets-label-color: white;\n",
       "                    --jp-ui-font-color1: white;\n",
       "                    --jp-layout-color2: #454545;\n",
       "                    background-color: #383838;\n",
       "                }\n",
       "\n",
       "                .geemap-dark .jupyter-button {\n",
       "                    --jp-layout-color3: #383838;\n",
       "                }\n",
       "\n",
       "                .geemap-colab {\n",
       "                    background-color: var(--colab-primary-surface-color, white);\n",
       "                }\n",
       "\n",
       "                .geemap-colab .jupyter-button {\n",
       "                    --jp-layout-color3: var(--colab-primary-surface-color, white);\n",
       "                }\n",
       "            </style>\n",
       "            "
      ],
      "text/plain": [
       "<IPython.core.display.HTML object>"
      ]
     },
     "metadata": {},
     "output_type": "display_data"
    },
    {
     "data": {
      "text/plain": [
       "200"
      ]
     },
     "execution_count": 47,
     "metadata": {},
     "output_type": "execute_result"
    }
   ],
   "source": [
    "len(final_kilns)"
   ]
  },
  {
   "cell_type": "code",
   "execution_count": 48,
   "metadata": {},
   "outputs": [
    {
     "data": {
      "text/html": [
       "\n",
       "            <style>\n",
       "                .geemap-dark {\n",
       "                    --jp-widgets-color: white;\n",
       "                    --jp-widgets-label-color: white;\n",
       "                    --jp-ui-font-color1: white;\n",
       "                    --jp-layout-color2: #454545;\n",
       "                    background-color: #383838;\n",
       "                }\n",
       "\n",
       "                .geemap-dark .jupyter-button {\n",
       "                    --jp-layout-color3: #383838;\n",
       "                }\n",
       "\n",
       "                .geemap-colab {\n",
       "                    background-color: var(--colab-primary-surface-color, white);\n",
       "                }\n",
       "\n",
       "                .geemap-colab .jupyter-button {\n",
       "                    --jp-layout-color3: var(--colab-primary-surface-color, white);\n",
       "                }\n",
       "            </style>\n",
       "            "
      ],
      "text/plain": [
       "<IPython.core.display.HTML object>"
      ]
     },
     "metadata": {},
     "output_type": "display_data"
    },
    {
     "name": "stderr",
     "output_type": "stream",
     "text": [
      "GARUDA INFO     : Created 200 records\n"
     ]
    }
   ],
   "source": [
    "version = \"v1\"  \n",
    "batch_size = 500\n",
    "for i in range(0, len(final_kilns), batch_size):\n",
    "    end = min(i+batch_size, len(final_kilns))\n",
    "    final_kilns.iloc[i:i+batch_size].to_file(f\"../hand_validation/{region}/{version}_potential_kiln_{region}_{i}_{end-1}.geojson\", driver='GeoJSON')"
   ]
  },
  {
   "cell_type": "code",
   "execution_count": null,
   "metadata": {},
   "outputs": [],
   "source": []
  },
  {
   "cell_type": "code",
   "execution_count": null,
   "metadata": {},
   "outputs": [],
   "source": []
  }
 ],
 "metadata": {
  "kernelspec": {
   "display_name": "rishabh_sat",
   "language": "python",
   "name": "python3"
  },
  "language_info": {
   "codemirror_mode": {
    "name": "ipython",
    "version": 3
   },
   "file_extension": ".py",
   "mimetype": "text/x-python",
   "name": "python",
   "nbconvert_exporter": "python",
   "pygments_lexer": "ipython3",
   "version": "3.12.4"
  }
 },
 "nbformat": 4,
 "nbformat_minor": 2
}
