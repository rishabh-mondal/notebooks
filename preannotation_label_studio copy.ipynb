{
 "cells": [
  {
   "cell_type": "code",
   "execution_count": 1,
   "metadata": {},
   "outputs": [],
   "source": [
    "import os\n",
    "# os.environ[\"LABEL_STUDIO_LOCAL_FILES_DOCUMENT_ROOT\"] = \"/home/patel_zeel\"\n",
    "# os.environ[\"LABEL_STUDIO_LOCAL_FILES_DOCUMENT_ROOT\"] = \"/home/shataxi.dubey\"\n",
    "\n",
    "os.environ[\"LABEL_STUDIO_LOCAL_FILES_DOCUMENT_ROOT\"] = '/home/rishabh.mondal/Brick-Kilns-project/ijcai_2025_kilns/data'\n",
    "\n",
    "import sys\n",
    "import requests\n",
    "from os.path import join, exists, basename\n",
    "from glob import glob\n",
    "from label_studio_sdk import Client\n",
    "from copy import deepcopy\n",
    "\n",
    "import torch\n",
    "import numpy as np\n",
    "from ultralytics.utils.ops import xyxyxyxy2xywhr, xywhr2xyxyxyxy\n",
    "from ultralytics.utils.metrics import probiou\n",
    "from tqdm.notebook import tqdm\n",
    "\n",
    "import matplotlib.pyplot as plt\n",
    "import warnings\n",
    "\n",
    "from joblib import Parallel, delayed\n",
    "\n",
    "sys.path.append(\"/home/patel_zeel/kilns_neurips24/scripts\")"
   ]
  },
  {
   "cell_type": "code",
   "execution_count": 2,
   "metadata": {},
   "outputs": [],
   "source": [
    "from utils import yolo_obb_to_label_studio_json, label_map\n",
    "# label_map"
   ]
  },
  {
   "cell_type": "markdown",
   "metadata": {},
   "source": [
    "## Label Studio Initialize"
   ]
  },
  {
   "cell_type": "code",
   "execution_count": 3,
   "metadata": {},
   "outputs": [],
   "source": [
    "LABEL_STUDIO_URL = 'http://10.0.62.168:8081'\n",
    "# API_KEY = '182f2ac0975d5cb5661c4ddc1b4ddc34d21c1867'\n",
    "API_KEY = '2557d98fa3032fc9a2eb033baf2775ebc2e1a0ef'\n",
    "\n",
    "ls = Client(url=LABEL_STUDIO_URL, api_key=API_KEY)"
   ]
  },
  {
   "cell_type": "markdown",
   "metadata": {},
   "source": [
    "## Process the input data"
   ]
  },
  {
   "cell_type": "code",
   "execution_count": 4,
   "metadata": {},
   "outputs": [
    {
     "name": "stdout",
     "output_type": "stream",
     "text": [
      "288\n"
     ]
    }
   ],
   "source": [
    "# pred_txt_path = \"/home/patel_zeel/kilns_neurips24/gujarat/labels\"\n",
    "# image_read_dir = \"/home/patel_zeel/kilns_neurips24/gujarat/images\"\n",
    "\n",
    "# pred_txt_path = \"/home/shataxi.dubey/shataxi_work/uplode_to_label_studio/lucknow_labels_with_cfcbk/labels\"\n",
    "# image_read_dir = \"/home/shataxi.dubey/shataxi_work/uplode_to_label_studio/lucknow_labels_with_cfcbk/images\"\n",
    "\n",
    "image_read_dir =  \"/home/rishabh.mondal/Brick-Kilns-project/ijcai_2025_kilns/data/gms_data/delhi_ncr_data/images_main\"\n",
    "pred_txt_path = \"/home/rishabh.mondal/Brick-Kilns-project/ijcai_2025_kilns/predict/trench_width_delhi_ncr_obb_v2_640_100/delhi_ncr_data/labels\"\n",
    "\n",
    "ls_project_name = f\"trench_width_delhi_ncr_obb_v3\"\n",
    "\n",
    "pred_files = sorted(glob(join(pred_txt_path, \"*.txt\")))\n",
    "pred_base_names = set([basename(f) for f in pred_files])\n",
    "\n",
    "print(len(pred_files))"
   ]
  },
  {
   "cell_type": "markdown",
   "metadata": {},
   "source": [
    "## Create Project"
   ]
  },
  {
   "cell_type": "code",
   "execution_count": 5,
   "metadata": {},
   "outputs": [],
   "source": [
    "image_read_dir = \"/home/rishabh.mondal/Brick-Kilns-project/ijcai_2025_kilns/data/gms_data/delhi_ncr_data/images_main\"\n",
    "# print(f\"Expected root: {Path(root)}\")\n",
    "# print(f\"Provided local_store_path: {Path(local_store_path)}\")\n",
    "\n"
   ]
  },
  {
   "cell_type": "code",
   "execution_count": 7,
   "metadata": {},
   "outputs": [
    {
     "name": "stderr",
     "output_type": "stream",
     "text": [
      "\n",
      "--------------------------------------------\n",
      "Request URL: http://10.0.62.168:8081/api/storages/localfiles?project=21\n",
      "Response status code: 400\n",
      "Response content:\n",
      "{\n",
      "  \"id\": \"f6cca913-34f8-4db7-9458-1336abb97114\",\n",
      "  \"status_code\": 400,\n",
      "  \"version\": \"1.15.0\",\n",
      "  \"detail\": \"Validation error\",\n",
      "  \"exc_info\": null,\n",
      "  \"validation_errors\": {\n",
      "    \"non_field_errors\": [\n",
      "      \"[ErrorDetail(string=\\\"Serving local files can be dangerous, so it's disabled by default. You can enable it with LOCAL_FILES_SERVING_ENABLED environment variable, please check docs: https://labelstud.io/guide/storage.html#Local-storage\\\", code='invalid')]\"\n",
      "    ]\n",
      "  }\n",
      "}\n",
      "\n",
      "SDK error traceback:\n"
     ]
    },
    {
     "name": "stdout",
     "output_type": "stream",
     "text": [
      "trench_width_delhi_ncr_obb_v3\n",
      "Project found. Using it...\n",
      "[]\n",
      "No storage found. Creating...\n",
      "Connecting local storage...\n",
      "/home/rishabh.mondal/Brick-Kilns-project/ijcai_2025_kilns/data/gms_data/delhi_ncr_data/images_main/\n"
     ]
    },
    {
     "ename": "HTTPError",
     "evalue": "400 Client Error: Bad Request for url: http://10.0.62.168:8081/api/storages/localfiles?project=21",
     "output_type": "error",
     "traceback": [
      "\u001b[0;31m---------------------------------------------------------------------------\u001b[0m",
      "\u001b[0;31mHTTPError\u001b[0m                                 Traceback (most recent call last)",
      "Cell \u001b[0;32mIn[7], line 25\u001b[0m\n\u001b[1;32m     23\u001b[0m     \u001b[38;5;28mprint\u001b[39m(image_read_dir)\n\u001b[1;32m     24\u001b[0m     image_read_dir\u001b[38;5;241m=\u001b[39m\u001b[38;5;124m\"\u001b[39m\u001b[38;5;124m/home/rishabh.mondal/Brick-Kilns-project/ijcai_2025_kilns/data/gms_data/delhi_ncr_data/images_main\u001b[39m\u001b[38;5;124m\"\u001b[39m\n\u001b[0;32m---> 25\u001b[0m     \u001b[43mproject\u001b[49m\u001b[38;5;241;43m.\u001b[39;49m\u001b[43mconnect_local_import_storage\u001b[49m\u001b[43m(\u001b[49m\u001b[43mimage_read_dir\u001b[49m\u001b[43m,\u001b[49m\u001b[43m \u001b[49m\u001b[43mregex_filter\u001b[49m\u001b[38;5;241;43m=\u001b[39;49m\u001b[38;5;124;43m\"\u001b[39;49m\u001b[38;5;124;43m.*png\u001b[39;49m\u001b[38;5;124;43m\"\u001b[39;49m\u001b[43m)\u001b[49m\n\u001b[1;32m     26\u001b[0m \u001b[38;5;28;01melse\u001b[39;00m:\n\u001b[1;32m     27\u001b[0m     \u001b[38;5;28;01massert\u001b[39;00m \u001b[38;5;28mlen\u001b[39m(storages) \u001b[38;5;241m==\u001b[39m \u001b[38;5;241m1\u001b[39m\n",
      "File \u001b[0;32m/opt/anaconda3/envs/rishabh_sat/lib/python3.12/site-packages/label_studio_sdk/_legacy/project.py:1869\u001b[0m, in \u001b[0;36mProject.connect_local_import_storage\u001b[0;34m(self, local_store_path, regex_filter, use_blob_urls, title, description)\u001b[0m\n\u001b[1;32m   1854\u001b[0m     \u001b[38;5;28;01mraise\u001b[39;00m \u001b[38;5;167;01mValueError\u001b[39;00m(\n\u001b[1;32m   1855\u001b[0m         \u001b[38;5;124mf\u001b[39m\u001b[38;5;124m\"\u001b[39m\u001b[38;5;132;01m{\u001b[39;00m\u001b[38;5;28mstr\u001b[39m(Path(root))\u001b[38;5;132;01m}\u001b[39;00m\u001b[38;5;124m is not presented in local_store_path parents: \u001b[39m\u001b[38;5;124m\"\u001b[39m\n\u001b[1;32m   1856\u001b[0m         \u001b[38;5;124mf\u001b[39m\u001b[38;5;124m\"\u001b[39m\u001b[38;5;132;01m{\u001b[39;00m\u001b[38;5;28mstr\u001b[39m(Path(local_store_path)\u001b[38;5;241m.\u001b[39mparents)\u001b[38;5;132;01m}\u001b[39;00m\u001b[38;5;124m\"\u001b[39m\n\u001b[1;32m   1857\u001b[0m     )\n\u001b[1;32m   1859\u001b[0m payload \u001b[38;5;241m=\u001b[39m {\n\u001b[1;32m   1860\u001b[0m     \u001b[38;5;124m\"\u001b[39m\u001b[38;5;124mregex_filter\u001b[39m\u001b[38;5;124m\"\u001b[39m: regex_filter,\n\u001b[1;32m   1861\u001b[0m     \u001b[38;5;124m\"\u001b[39m\u001b[38;5;124muse_blob_urls\u001b[39m\u001b[38;5;124m\"\u001b[39m: use_blob_urls,\n\u001b[0;32m   (...)\u001b[0m\n\u001b[1;32m   1867\u001b[0m     \u001b[38;5;124m\"\u001b[39m\u001b[38;5;124mproject\u001b[39m\u001b[38;5;124m\"\u001b[39m: \u001b[38;5;28mself\u001b[39m\u001b[38;5;241m.\u001b[39mid,\n\u001b[1;32m   1868\u001b[0m }\n\u001b[0;32m-> 1869\u001b[0m response \u001b[38;5;241m=\u001b[39m \u001b[38;5;28;43mself\u001b[39;49m\u001b[38;5;241;43m.\u001b[39;49m\u001b[43mmake_request\u001b[49m\u001b[43m(\u001b[49m\n\u001b[1;32m   1870\u001b[0m \u001b[43m    \u001b[49m\u001b[38;5;124;43m\"\u001b[39;49m\u001b[38;5;124;43mPOST\u001b[39;49m\u001b[38;5;124;43m\"\u001b[39;49m\u001b[43m,\u001b[49m\u001b[43m \u001b[49m\u001b[38;5;124;43mf\u001b[39;49m\u001b[38;5;124;43m\"\u001b[39;49m\u001b[38;5;124;43m/api/storages/localfiles?project=\u001b[39;49m\u001b[38;5;132;43;01m{\u001b[39;49;00m\u001b[38;5;28;43mself\u001b[39;49m\u001b[38;5;241;43m.\u001b[39;49m\u001b[43mid\u001b[49m\u001b[38;5;132;43;01m}\u001b[39;49;00m\u001b[38;5;124;43m\"\u001b[39;49m\u001b[43m,\u001b[49m\u001b[43m \u001b[49m\u001b[43mjson\u001b[49m\u001b[38;5;241;43m=\u001b[39;49m\u001b[43mpayload\u001b[49m\n\u001b[1;32m   1871\u001b[0m \u001b[43m\u001b[49m\u001b[43m)\u001b[49m\n\u001b[1;32m   1872\u001b[0m \u001b[38;5;28;01mreturn\u001b[39;00m response\u001b[38;5;241m.\u001b[39mjson()\n",
      "File \u001b[0;32m/opt/anaconda3/envs/rishabh_sat/lib/python3.12/site-packages/label_studio_sdk/_legacy/client.py:448\u001b[0m, in \u001b[0;36mClient.make_request\u001b[0;34m(self, method, url, *args, **kwargs)\u001b[0m\n\u001b[1;32m    446\u001b[0m     \u001b[38;5;28;01mif\u001b[39;00m response\u001b[38;5;241m.\u001b[39mstatus_code \u001b[38;5;241m>\u001b[39m\u001b[38;5;241m=\u001b[39m \u001b[38;5;241m400\u001b[39m:\n\u001b[1;32m    447\u001b[0m         \u001b[38;5;28mself\u001b[39m\u001b[38;5;241m.\u001b[39mlog_response_error(response)\n\u001b[0;32m--> 448\u001b[0m         \u001b[43mresponse\u001b[49m\u001b[38;5;241;43m.\u001b[39;49m\u001b[43mraise_for_status\u001b[49m\u001b[43m(\u001b[49m\u001b[43m)\u001b[49m\n\u001b[1;32m    450\u001b[0m \u001b[38;5;28;01mreturn\u001b[39;00m response\n",
      "File \u001b[0;32m/opt/anaconda3/envs/rishabh_sat/lib/python3.12/site-packages/requests/models.py:1024\u001b[0m, in \u001b[0;36mResponse.raise_for_status\u001b[0;34m(self)\u001b[0m\n\u001b[1;32m   1019\u001b[0m     http_error_msg \u001b[38;5;241m=\u001b[39m (\n\u001b[1;32m   1020\u001b[0m         \u001b[38;5;124mf\u001b[39m\u001b[38;5;124m\"\u001b[39m\u001b[38;5;132;01m{\u001b[39;00m\u001b[38;5;28mself\u001b[39m\u001b[38;5;241m.\u001b[39mstatus_code\u001b[38;5;132;01m}\u001b[39;00m\u001b[38;5;124m Server Error: \u001b[39m\u001b[38;5;132;01m{\u001b[39;00mreason\u001b[38;5;132;01m}\u001b[39;00m\u001b[38;5;124m for url: \u001b[39m\u001b[38;5;132;01m{\u001b[39;00m\u001b[38;5;28mself\u001b[39m\u001b[38;5;241m.\u001b[39murl\u001b[38;5;132;01m}\u001b[39;00m\u001b[38;5;124m\"\u001b[39m\n\u001b[1;32m   1021\u001b[0m     )\n\u001b[1;32m   1023\u001b[0m \u001b[38;5;28;01mif\u001b[39;00m http_error_msg:\n\u001b[0;32m-> 1024\u001b[0m     \u001b[38;5;28;01mraise\u001b[39;00m HTTPError(http_error_msg, response\u001b[38;5;241m=\u001b[39m\u001b[38;5;28mself\u001b[39m)\n",
      "\u001b[0;31mHTTPError\u001b[0m: 400 Client Error: Bad Request for url: http://10.0.62.168:8081/api/storages/localfiles?project=21"
     ]
    }
   ],
   "source": [
    "projects = ls.list_projects()\n",
    "for project in projects:\n",
    "    print(project.title)\n",
    "    if project.title == ls_project_name:\n",
    "        print(\"Project found. Using it...\")\n",
    "        break\n",
    "else:\n",
    "    print(\"No project found. Creating...\")\n",
    "    project = ls.start_project(title=ls_project_name, label_config='''\n",
    "<View>\n",
    "  <Image name=\"image\" value=\"$image\" rotateControl=\"true\" zoomControl=\"true\" zoom=\"true\"/>\n",
    "  <RectangleLabels name=\"label\" toName=\"image\">\n",
    "    \n",
    "    \n",
    "  <Label value=\"Inner_Box\" background=\"#FFA39E\"/><Label value=\"Outer_Box\" background=\"#63c205\"/></RectangleLabels>\n",
    "</View>\n",
    "    ''')\n",
    "storages = project.get_import_storages()\n",
    "print(storages)\n",
    "if len(storages) == 0:\n",
    "    print(\"No storage found. Creating...\")\n",
    "    print(\"Connecting local storage...\")\n",
    "    print(image_read_dir)\n",
    "    image_read_dir=\"/home/rishabh.mondal/Brick-Kilns-project/ijcai_2025_kilns/data/gms_data/delhi_ncr_data/images_main\"\n",
    "    project.connect_local_import_storage(image_read_dir, regex_filter=\".*png\")\n",
    "else:\n",
    "    assert len(storages) == 1\n",
    "    print(\"Storage found. Using it...\")\n",
    "storage = storages[0]\n",
    "if storage['last_sync'] is None:\n",
    "    print(\"Syncing storage...\")\n",
    "    project.sync_storage(storage['type'], storage['id'])\n",
    "else:\n",
    "    print(\"Storage already synced.\")\n",
    "\n",
    "print(\"Getting tasks...\")\n",
    "tasks = project.get_tasks()\n",
    "len(tasks)"
   ]
  },
  {
   "cell_type": "code",
   "execution_count": 34,
   "metadata": {},
   "outputs": [
    {
     "name": "stdout",
     "output_type": "stream",
     "text": [
      "trench_width_delhi_ncr_obb_v2\n",
      "trench_width_delhi_ncr_obb\n",
      "Project found. Using it...\n",
      "[{'id': 13, 'type': 'localfiles', 'synchronizable': True, 'path': '/home/rishabh.mondal/Brick-Kilns-project/ijcai_2025_kilns/data/gms_data/delhi_ncr_data/images_main', 'regex_filter': '.*png', 'use_blob_urls': True, 'last_sync': '2025-01-22T07:05:06.161739Z', 'last_sync_count': 294, 'last_sync_job': None, 'status': 'completed', 'traceback': None, 'meta': {'attempts': 1, 'time_queued': '2025-01-22 07:05:04.459038+00:00', 'time_in_progress': '2025-01-22 07:05:04.463547+00:00', 'time_last_ping': '2025-01-22 07:05:04.463547+00:00', 'time_completed': '2025-01-22 07:05:06.161742+00:00', 'duration': 1.698195, 'tasks_existed': 0}, 'title': '', 'description': '', 'created_at': '2025-01-22T07:00:54.027018Z', 'project': 19}]\n",
      "Storage found. Using it...\n",
      "Storage already synced.\n",
      "Getting tasks...\n",
      "Number of tasks: 294\n"
     ]
    }
   ],
   "source": [
    "projects = ls.list_projects()\n",
    "for project in projects:\n",
    "    print(project.title)\n",
    "    if project.title == ls_project_name:\n",
    "        print(\"Project found. Using it...\")\n",
    "        break\n",
    "else:\n",
    "    print(\"No project found. Creating...\")\n",
    "    project = ls.start_project(title=ls_project_name, label_config='''\n",
    "<View>\n",
    "  <Image name=\"image\" value=\"$image\" rotateControl=\"true\" zoomControl=\"true\" zoom=\"true\"/>\n",
    "  <RectangleLabels name=\"label\" toName=\"image\">\n",
    "    \n",
    "    \n",
    "  <Label value=\"Inner_Box\" background=\"#FFA39E\"/><Label value=\"Outer_Box\" background=\"#63c205\"/></RectangleLabels>\n",
    "</View>\n",
    "    ''')\n",
    "storages = project.get_import_storages()\n",
    "print(storages)\n",
    "\n",
    "if len(storages) == 0:\n",
    "    print(\"No storage found. Creating...\")\n",
    "    print(\"Connecting local storage...\")\n",
    "    print(image_read_dir)\n",
    "    project.connect_local_import_storage(image_read_dir, regex_filter=\".*png\")\n",
    "    # Re-fetch storages after creating one\n",
    "    storages = project.get_import_storages()\n",
    "else:\n",
    "    assert len(storages) == 1\n",
    "    print(\"Storage found. Using it...\")\n",
    "\n",
    "# Ensure storages is not empty before accessing\n",
    "if len(storages) > 0:\n",
    "    storage = storages[0]\n",
    "    if storage['last_sync'] is None:\n",
    "        print(\"Syncing storage...\")\n",
    "        project.sync_storage(storage['type'], storage['id'])\n",
    "    else:\n",
    "        print(\"Storage already synced.\")\n",
    "else:\n",
    "    print(\"Storage creation failed or not available.\")\n",
    "\n",
    "print(\"Getting tasks...\")\n",
    "tasks = project.get_tasks()\n",
    "print(f\"Number of tasks: {len(tasks)}\")\n"
   ]
  },
  {
   "cell_type": "code",
   "execution_count": 35,
   "metadata": {},
   "outputs": [
    {
     "data": {
      "text/plain": [
       "{'id': 2092,\n",
       " 'predictions': [{'id': 688,\n",
       "   'result': [{'type': 'rectanglelabels',\n",
       "     'from_name': 'label',\n",
       "     'to_name': 'image',\n",
       "     'original_width': 1120,\n",
       "     'original_height': 1220,\n",
       "     'image_rotation': 0,\n",
       "     'value': {'rotation': 26.83956336975098,\n",
       "      'x': 15.418297309972317,\n",
       "      'y': 27.04560176307251,\n",
       "      'width': 81.22051358222961,\n",
       "      'height': 24.669376015663147,\n",
       "      'rectanglelabels': ['Zigzag']}},\n",
       "    {'type': 'rectanglelabels',\n",
       "     'from_name': 'label',\n",
       "     'to_name': 'image',\n",
       "     'original_width': 1120,\n",
       "     'original_height': 1220,\n",
       "     'image_rotation': 0,\n",
       "     'value': {'rotation': 25.871191024780277,\n",
       "      'x': 19.132898094899648,\n",
       "      'y': 38.77640311611417,\n",
       "      'width': 63.456809520721436,\n",
       "      'height': 8.289225399494171,\n",
       "      'rectanglelabels': ['FCBK']}}],\n",
       "   'model_version': 'v1',\n",
       "   'created_ago': '3\\xa0minutes',\n",
       "   'score': 0.0,\n",
       "   'cluster': None,\n",
       "   'neighbors': None,\n",
       "   'mislabeling': 0.0,\n",
       "   'created_at': '2025-01-27T13:39:21.838573Z',\n",
       "   'updated_at': '2025-01-27T13:39:21.838588Z',\n",
       "   'model': None,\n",
       "   'model_run': None,\n",
       "   'task': 2092,\n",
       "   'project': 19}],\n",
       " 'annotations': [],\n",
       " 'drafts': [{'id': 75,\n",
       "   'user': 'rishabh.mondal@iitgn.ac.in',\n",
       "   'created_username': 'rishabh.mondal@iitgn.ac.in, 1',\n",
       "   'created_ago': '5\\xa0days, 6\\xa0hours',\n",
       "   'result': [{'original_width': 463,\n",
       "     'original_height': 340,\n",
       "     'image_rotation': 0,\n",
       "     'value': {'x': 16.327178128179742,\n",
       "      'y': 22.85029435726929,\n",
       "      'width': 69.63636833854068,\n",
       "      'height': 21.798678700062705,\n",
       "      'rotation': 26.83956336975109,\n",
       "      'rectanglelabels': ['Zigzag']},\n",
       "     'id': 'NXWd5gFR8v',\n",
       "     'from_name': 'label',\n",
       "     'to_name': 'image',\n",
       "     'type': 'rectanglelabels',\n",
       "     'origin': 'prediction-changed'},\n",
       "    {'original_width': 463,\n",
       "     'original_height': 340,\n",
       "     'image_rotation': 0,\n",
       "     'value': {'x': 19.132898094899648,\n",
       "      'y': 38.77640311611417,\n",
       "      'width': 63.456809520721436,\n",
       "      'height': 8.289225399494171,\n",
       "      'rotation': 25.871191024780277,\n",
       "      'rectanglelabels': ['FCBK']},\n",
       "     'id': 'AXSCCFzwH0',\n",
       "     'from_name': 'label',\n",
       "     'to_name': 'image',\n",
       "     'type': 'rectanglelabels',\n",
       "     'origin': 'prediction'}],\n",
       "   'lead_time': 49.704,\n",
       "   'was_postponed': False,\n",
       "   'import_id': None,\n",
       "   'created_at': '2025-01-22T07:28:20.602086Z',\n",
       "   'updated_at': '2025-01-22T07:28:29.611652Z',\n",
       "   'task': 2092,\n",
       "   'annotation': None}],\n",
       " 'annotators': [],\n",
       " 'inner_id': 1,\n",
       " 'cancelled_annotations': 0,\n",
       " 'total_annotations': 0,\n",
       " 'total_predictions': 1,\n",
       " 'completed_at': None,\n",
       " 'annotations_results': '',\n",
       " 'predictions_results': '[{type: rectanglelabels, from_name: label, to_name: image, original_width: 1120, original_height: 1220, image_rotation: 0, value: {rotation: 26.83956336975098, x: 15.418297309972317, y: 27.04560176307251, width: 81.22051358222961, height: 24.669376015663147, rectanglelabels: [Zigzag]}}, {type: rectanglelabels, from_name: label, to_name: image, original_width: 1120, original_height: 1220, image_rotation: 0, value: {rotation: 25.8711910247802',\n",
       " 'predictions_score': None,\n",
       " 'file_upload': None,\n",
       " 'storage_filename': '/home/rishabh.mondal/Brick-Kilns-project/ijcai_2025_kilns/data/gms_data/delhi_ncr_data/images_main/27.0681515_77.0250495.png',\n",
       " 'annotations_ids': '',\n",
       " 'predictions_model_versions': 'v1',\n",
       " 'avg_lead_time': None,\n",
       " 'draft_exists': True,\n",
       " 'updated_by': [{'user_id': 1}],\n",
       " 'data': {'image': '/data/local-files/?d=home/rishabh.mondal/Brick-Kilns-project/ijcai_2025_kilns/data/gms_data/delhi_ncr_data/images_main/27.0681515_77.0250495.png'},\n",
       " 'meta': {},\n",
       " 'created_at': '2025-01-22T07:05:04.474089Z',\n",
       " 'updated_at': '2025-01-27T13:39:21.834522Z',\n",
       " 'is_labeled': False,\n",
       " 'overlap': 1,\n",
       " 'comment_count': 0,\n",
       " 'unresolved_comment_count': 0,\n",
       " 'last_comment_updated_at': None,\n",
       " 'project': 19,\n",
       " 'comment_authors': []}"
      ]
     },
     "execution_count": 35,
     "metadata": {},
     "output_type": "execute_result"
    }
   ],
   "source": [
    "tasks[0]"
   ]
  },
  {
   "cell_type": "code",
   "execution_count": 37,
   "metadata": {},
   "outputs": [],
   "source": [
    "# ## Delete all predictions before going ahead\n",
    "# os.system(f\"curl -H 'Authorization: Token {API_KEY}' -X POST \\\"localhost:8082/api/dm/actions?id=delete_tasks_predictions&project={project.id}\\\"\")\n",
    "\n",
    "# for task in tqdm(tasks):\n",
    "#     # part = tile.split(\"/\")[-3]\n",
    "#     # name = tile.split(\"/\")[-1].replace(\".txt\", \".png\")\n",
    "#     # image_path = join(save_dir, name)\n",
    "#     image_path = task['storage_filename']\n",
    "#     txt_name = basename(image_path).replace(\".png\", \".txt\")\n",
    "    \n",
    "#     preds = np.loadtxt(join(pred_txt_path, txt_name))\n",
    "#     preds = np.atleast_2d(preds)\n",
    "\n",
    "#     results = []\n",
    "#     for pred in preds:\n",
    "#         print(pred.shape)\n",
    "#         label_id = int(pred[0])\n",
    "#         x1, y1, x2, y2, x3, y3, x4, y4 = pred[1:-1]\n",
    "#         score = pred[-1]\n",
    "#         # if score > score_threshold:\n",
    "#         prediction = yolo_obb_to_label_studio_json(label_id, x1, y1, x2, y2, x3, y3, x4, y4, score)\n",
    "#           # predictions.append(prediction)\n",
    "#         results.append(prediction['result'][0])\n",
    "#     if len(results) > 0:\n",
    "#       # I have tried parallelizing this but it doesn't work\n",
    "#       project.create_prediction(task['id'], results, model_version=\"v1\")"
   ]
  },
  {
   "cell_type": "code",
   "execution_count": 38,
   "metadata": {},
   "outputs": [
    {
     "name": "stderr",
     "output_type": "stream",
     "text": [
      "  % Total    % Received % Xferd  Average Speed   Time    Time     Time  Current\n",
      "                                 Dload  Upload   Total   Spent    Left  Speed\n",
      "  0     0    0     0    0     0      0      0 --:--:-- --:--:-- --:--:--     0\n",
      "curl: (7) Failed to connect to localhost port 8082 after 0 ms: Couldn't connect to server\n",
      "  1%|          | 2/294 [00:00<00:17, 16.63it/s]"
     ]
    },
    {
     "name": "stdout",
     "output_type": "stream",
     "text": [
      "(10,)\n",
      "[    0.76751     0.85728      0.8338     0.61435     0.15418     0.27046    0.087894     0.51339]\n",
      "(10,)\n",
      "[    0.72613     0.73924     0.74751     0.65748     0.19133     0.38776     0.16995     0.46952]\n",
      "(10,)\n",
      "[    0.82493     0.76276     0.84425     0.27341    0.064736     0.13327    0.045423     0.62262]\n",
      "(10,)\n",
      "[    0.81518     0.57126     0.81978     0.41074    0.096095     0.31635    0.091499     0.47687]\n",
      "(10,)\n",
      "[    0.65912     0.72274     0.68543     0.64958     0.16818     0.31616     0.14188     0.38932]\n",
      "(10,)\n",
      "[    0.65195     0.82965     0.74468     0.58424     0.17749     0.20001    0.084763     0.44542]\n"
     ]
    },
    {
     "name": "stderr",
     "output_type": "stream",
     "text": [
      "  1%|▏         | 4/294 [00:00<00:21, 13.49it/s]"
     ]
    },
    {
     "name": "stdout",
     "output_type": "stream",
     "text": [
      "(10,)\n",
      "[    0.75694     0.84502     0.86293     0.58928     0.26568     0.20076     0.15968      0.4565]\n",
      "(10,)\n",
      "[    0.75921     0.73225     0.78933     0.65764     0.26222     0.32359      0.2321     0.39819]\n",
      "(10,)\n",
      "[    0.71787     0.88677     0.85356     0.67594     0.24231     0.16177     0.10662     0.37259]\n",
      "(10,)\n",
      "[    0.75358     0.78803     0.79114     0.72672     0.19917     0.25269      0.1616       0.314]\n",
      "(10,)\n",
      "[    0.17806      0.7015     0.37638     0.82206     0.80604     0.31055     0.60772     0.18999]\n",
      "(10,)\n",
      "[    0.29815      0.7079     0.35654     0.74123     0.71132     0.29138     0.65293     0.25805]\n"
     ]
    },
    {
     "name": "stderr",
     "output_type": "stream",
     "text": [
      "  3%|▎         | 8/294 [00:00<00:23, 12.26it/s]"
     ]
    },
    {
     "name": "stdout",
     "output_type": "stream",
     "text": [
      "(10,)\n",
      "[    0.67132     0.81794     0.77298     0.58428     0.27021     0.24287     0.16856     0.47653]\n",
      "(10,)\n",
      "[    0.67614     0.70693     0.70475     0.63759     0.27299     0.35953     0.24438     0.42888]\n",
      "(10,)\n",
      "[    0.77956     0.87553     0.83289     0.56443     0.20559     0.28712     0.15226     0.59822]\n",
      "(10,)\n",
      "[    0.75784     0.72497     0.77221     0.62953     0.21257     0.41229     0.19821     0.50772]\n",
      "(10,)\n",
      "[    0.73521     0.74898     0.76934     0.66877     0.23457     0.32099     0.20044      0.4012]\n",
      "(10,)\n",
      "[    0.72981     0.86206     0.84073     0.62002     0.25756     0.21151     0.14665     0.45355]\n"
     ]
    },
    {
     "name": "stderr",
     "output_type": "stream",
     "text": [
      "  3%|▎         | 10/294 [00:00<00:23, 12.35it/s]"
     ]
    },
    {
     "name": "stdout",
     "output_type": "stream",
     "text": [
      "(10,)\n",
      "[     0.8023     0.72933     0.84992     0.66014     0.23886     0.22074     0.19124     0.28993]\n",
      "(10,)\n",
      "[    0.82415     0.87984      1.0012     0.61959     0.20634    0.054739    0.029303     0.31499]\n",
      "(10,)\n",
      "[    0.70936     0.86286     0.79368     0.60078     0.18812     0.18022      0.1038      0.4423]\n",
      "(10,)\n",
      "[    0.72094     0.75945     0.74669     0.67614     0.18155     0.29907      0.1558     0.38239]\n",
      "(10,)\n",
      "[    0.73341     0.75703     0.76337      0.6974     0.23224     0.29894     0.20228     0.35857]\n",
      "(10,)\n",
      "[     0.7012     0.83776      0.8022     0.64826     0.22874     0.19183     0.12773     0.38133]\n"
     ]
    },
    {
     "name": "stderr",
     "output_type": "stream",
     "text": [
      "  5%|▍         | 14/294 [00:01<00:23, 12.16it/s]"
     ]
    },
    {
     "name": "stdout",
     "output_type": "stream",
     "text": [
      "(10,)\n",
      "[    0.68885     0.73243      0.7288     0.66104    0.093934     0.22878    0.053983     0.30017]\n",
      "(10,)\n",
      "[    0.70929     0.87564       0.855     0.61961      0.1119     0.10504   -0.033817     0.36107]\n",
      "(10,)\n",
      "[    0.14511     0.65243     0.25286     0.81985     0.79313     0.40832     0.68538     0.24091]\n",
      "(10,)\n",
      "[    0.22706     0.67867     0.25792     0.72702     0.73329      0.3679     0.70242     0.31955]\n",
      "(10,)\n",
      "[    0.11185     0.78002     0.42098     0.89747     0.87693     0.23838      0.5678     0.12093]\n",
      "(10,)\n",
      "[    0.24876     0.78068     0.33971     0.81444     0.73707     0.22656     0.64612     0.19279]\n"
     ]
    },
    {
     "name": "stderr",
     "output_type": "stream",
     "text": [
      "  5%|▌         | 16/294 [00:01<00:22, 12.17it/s]"
     ]
    },
    {
     "name": "stdout",
     "output_type": "stream",
     "text": [
      "(10,)\n",
      "[    0.15476     0.80839     0.44745     0.89481     0.82705      0.2291     0.53436     0.14269]\n",
      "(10,)\n",
      "[    0.29118     0.78863     0.36916     0.81158     0.69464     0.23898     0.61665     0.21603]\n",
      "(10,)\n",
      "[    0.66052     0.85318     0.82283     0.62749     0.27777     0.14561     0.11546      0.3713]\n",
      "(10,)\n",
      "[    0.70938     0.74879     0.74869     0.69141      0.2342     0.25809     0.19489     0.31548]\n",
      "(10,)\n",
      "[    0.42031     0.74996     0.57508     0.74411     0.49578     0.27041     0.34101     0.27626]\n",
      "(10,)\n",
      "[    0.21971     0.77724     0.80838     0.74535     0.69514     0.27321     0.10647      0.3051]\n"
     ]
    },
    {
     "name": "stderr",
     "output_type": "stream",
     "text": [
      "  7%|▋         | 20/294 [00:01<00:22, 12.25it/s]"
     ]
    },
    {
     "name": "stdout",
     "output_type": "stream",
     "text": [
      "(10,)\n",
      "[    0.67517     0.79996     0.80181     0.61212     0.26312     0.15472     0.13649     0.34257]\n",
      "(10,)\n",
      "[    0.69818     0.70706     0.73273     0.65319     0.24957     0.26293     0.21502      0.3168]\n",
      "(10,)\n",
      "[     0.2027     0.78129       0.643     0.82646     0.81558     0.24975     0.37527     0.20458]\n",
      "(10,)\n",
      "[    0.36286     0.80037     0.48656     0.81285     0.65625     0.23584     0.53255     0.22337]\n",
      "(10,)\n",
      "[     0.5174     0.87299     0.74193     0.75215     0.36546     0.19365     0.14093      0.3145]\n",
      "(10,)\n",
      "[    0.56949     0.79171     0.64136     0.75241     0.29644     0.24868     0.22456     0.28798]\n"
     ]
    },
    {
     "name": "stderr",
     "output_type": "stream",
     "text": [
      "  7%|▋         | 22/294 [00:01<00:22, 12.33it/s]"
     ]
    },
    {
     "name": "stdout",
     "output_type": "stream",
     "text": [
      "(10,)\n",
      "[    0.68319      0.8464     0.80365     0.66026     0.23586     0.19065     0.11541      0.3768]\n",
      "(10,)\n",
      "[    0.69973     0.75878     0.73462     0.70295      0.2038     0.27894      0.1689     0.33477]\n",
      "(10,)\n",
      "[    0.59592     0.75563     0.74008     0.62306     0.30714     0.18338     0.16298     0.31595]\n",
      "(10,)\n",
      "[    0.61195     0.67476     0.65646     0.63414     0.28482     0.25393     0.24032     0.29456]\n",
      "(10,)\n",
      "[    0.65921     0.96506     0.90572     0.73269     0.25528    0.071445    0.008777     0.30382]\n",
      "(10,)\n",
      "[    0.64989     0.82405     0.72427      0.7613     0.22721     0.19671     0.15284     0.25946]\n"
     ]
    },
    {
     "name": "stderr",
     "output_type": "stream",
     "text": [
      "  9%|▉         | 26/294 [00:02<00:22, 12.13it/s]"
     ]
    },
    {
     "name": "stdout",
     "output_type": "stream",
     "text": [
      "(10,)\n",
      "[    0.23928     0.84089     0.58895     0.86597     0.67978    0.082735     0.33011    0.057652]\n",
      "(10,)\n",
      "[    0.37315      0.8393     0.46017     0.84526     0.54011      0.1223     0.45309     0.11635]\n",
      "(10,)\n",
      "[    0.72738     0.86987     0.83922     0.63129     0.25745     0.19502     0.14561     0.43361]\n",
      "(10,)\n",
      "[    0.73548     0.75504      0.7689     0.67933     0.23497     0.30229     0.20154       0.378]\n",
      "(10,)\n",
      "[    0.13065     0.74523     0.37496     0.85166     0.80867     0.23413     0.56437      0.1277]\n",
      "(10,)\n",
      "[    0.26828     0.73026     0.34482     0.76178     0.68016     0.25678     0.60362     0.22526]\n"
     ]
    },
    {
     "name": "stderr",
     "output_type": "stream",
     "text": [
      " 10%|▉         | 28/294 [00:02<00:22, 12.06it/s]"
     ]
    },
    {
     "name": "stdout",
     "output_type": "stream",
     "text": [
      "(10,)\n",
      "[    0.14864     0.66578     0.38736     0.83415     0.85598     0.30743     0.61727     0.13905]\n",
      "(10,)\n",
      "[    0.28721     0.70094     0.35298     0.74382     0.73696     0.27682     0.67119     0.23395]\n",
      "(10,)\n",
      "[    0.58846     0.95295     0.76352     0.74011     0.14952     0.22354   -0.025544     0.43638]\n",
      "(10,)\n",
      "[    0.62755      0.8548     0.67074     0.80309     0.10416     0.31905    0.060965     0.37077]\n",
      "(10,)\n",
      "[     0.1428     0.74187     0.34661     0.84986     0.74011     0.32754     0.53631     0.21955]\n",
      "(10,)\n",
      "[    0.26123     0.75281      0.3076      0.7761     0.63546     0.31697     0.58909     0.29368]\n"
     ]
    },
    {
     "name": "stderr",
     "output_type": "stream",
     "text": [
      " 11%|█         | 32/294 [00:02<00:21, 12.19it/s]"
     ]
    },
    {
     "name": "stdout",
     "output_type": "stream",
     "text": [
      "(10,)\n",
      "[    0.13214     0.67924      0.3152      0.8372     0.85153     0.30129     0.66847     0.14333]\n",
      "(10,)\n",
      "[    0.24518     0.70059     0.29605     0.74231     0.73519     0.28055     0.68432     0.23884]\n",
      "(10,)\n",
      "[    0.67007     0.81072     0.79871     0.62905     0.26967     0.17102     0.14103     0.35269]\n",
      "(10,)\n",
      "[     0.6835     0.71958     0.72281     0.65993     0.23935     0.27042     0.20004     0.33008]\n",
      "(10,)\n",
      "[  -0.089856     0.58452     0.15065     0.78474     0.70166    0.069091     0.46115    -0.13113]\n",
      "(10,)\n",
      "[   0.029692     0.63587    0.099349     0.68949      0.5408    0.069365     0.47115    0.015748]\n"
     ]
    },
    {
     "name": "stderr",
     "output_type": "stream",
     "text": [
      " 12%|█▏        | 34/294 [00:02<00:21, 12.10it/s]"
     ]
    },
    {
     "name": "stdout",
     "output_type": "stream",
     "text": [
      "(10,)\n",
      "[    0.71809     0.70378      0.8293     0.51377     0.29792     0.11854     0.18671     0.30855]\n",
      "(10,)\n",
      "[    0.72437     0.61198     0.75461     0.55665     0.25705     0.21114     0.22682     0.26647]\n",
      "(10,)\n",
      "[    0.70248     0.71497     0.74417     0.65167     0.13578     0.18406    0.094083     0.24736]\n",
      "(10,)\n",
      "[     0.6723     0.84262     0.83843     0.60113     0.16337      0.0592  -0.0027685      0.3007]\n",
      "(10,)\n",
      "[    0.76643     0.80676     0.82103     0.48101      0.1341     0.18549    0.079509     0.51124]\n",
      "(10,)\n",
      "[    0.78045     0.68285     0.79531      0.5869      0.1496     0.33025     0.13474      0.4262]\n"
     ]
    },
    {
     "name": "stderr",
     "output_type": "stream",
     "text": [
      " 13%|█▎        | 39/294 [00:03<00:18, 13.80it/s]"
     ]
    },
    {
     "name": "stdout",
     "output_type": "stream",
     "text": [
      "(10,)\n",
      "[    0.78275     0.76766     0.82439     0.68936     0.20006     0.18667     0.15842     0.26497]\n",
      "(10,)\n",
      "[    0.77784     0.89846     0.91303     0.64345     0.15115    0.032074    0.015958     0.28708]\n",
      "Skipping 27.2251515_77.1873575.txt: corresponding .txt file not found.\n",
      "(10,)\n",
      "[    0.76457     0.68548     0.88438     0.48853     0.33819    0.082151     0.21838     0.27911]\n",
      "(10,)\n",
      "[    0.78218     0.60038     0.81204     0.55085      0.3158     0.18496     0.28594     0.23449]\n",
      "(10,)\n",
      "[    0.19779     0.77706     0.45247     0.84743     0.77855     0.25828     0.52387     0.18791]\n",
      "(10,)\n",
      "[    0.31424     0.75933     0.38487     0.77814     0.65843     0.26522      0.5878     0.24642]\n"
     ]
    },
    {
     "name": "stderr",
     "output_type": "stream",
     "text": [
      " 14%|█▍        | 41/294 [00:03<00:19, 13.14it/s]"
     ]
    },
    {
     "name": "stdout",
     "output_type": "stream",
     "text": [
      "(10,)\n",
      "[    0.17538     0.71406     0.44541      0.8172     0.83793     0.22797      0.5679     0.12483]\n",
      "(10,)\n",
      "[    0.30469     0.71904     0.38361     0.74801     0.71819     0.22526     0.63928      0.1963]\n",
      "(10,)\n",
      "[    0.58903     0.83323     0.76777      0.7094     0.27911     0.14693     0.10037     0.27076]\n",
      "(10,)\n",
      "[     0.6146     0.73682     0.66658     0.70076     0.27073     0.24573     0.21875     0.28179]\n",
      "(10,)\n",
      "[   0.033715     0.51622    0.075014     0.99977     0.93367      0.8266     0.89237     0.34305]\n",
      "(10,)\n",
      "[    0.11286     0.68327     0.12353     0.79251     0.86174     0.62214     0.85107      0.5129]\n"
     ]
    },
    {
     "name": "stderr",
     "output_type": "stream",
     "text": [
      " 15%|█▌        | 45/294 [00:03<00:19, 12.63it/s]"
     ]
    },
    {
     "name": "stdout",
     "output_type": "stream",
     "text": [
      "(10,)\n",
      "[    0.72168     0.85467     0.88093     0.64727     0.31665      0.1404      0.1574      0.3478]\n",
      "(10,)\n",
      "[    0.76112     0.75728     0.80604     0.69473     0.26846      0.2431     0.22354     0.30565]\n",
      "(10,)\n",
      "[   0.068043     0.51698     0.18058     0.79884     0.97235     0.45849     0.85981     0.17663]\n",
      "(10,)\n",
      "[    0.16361     0.62064     0.19243      0.6852     0.86659      0.3611     0.83776     0.29654]\n",
      "(10,)\n",
      "[    0.73764     0.73612     0.77105     0.64792    0.088157     0.29217    0.054747     0.38038]\n",
      "(10,)\n",
      "[    0.74818     0.88259     0.86711     0.58803     0.10756     0.16626    -0.01137     0.46082]\n"
     ]
    },
    {
     "name": "stderr",
     "output_type": "stream",
     "text": [
      " 16%|█▌        | 47/294 [00:03<00:19, 12.41it/s]"
     ]
    },
    {
     "name": "stdout",
     "output_type": "stream",
     "text": [
      "(10,)\n",
      "[    0.70554     0.88455     0.84228     0.69283     0.28562     0.17077     0.14888      0.3625]\n",
      "(10,)\n",
      "[     0.7168      0.7708     0.75671     0.71128     0.26819     0.28064     0.22828     0.34016]\n",
      "(10,)\n",
      "[    0.76786     0.80364     0.88813     0.57851     0.24854     0.12705     0.12827     0.35218]\n",
      "(10,)\n",
      "[    0.80673     0.70494     0.84007     0.63921     0.23594     0.23433      0.2026     0.30006]\n",
      "(10,)\n",
      "[    0.67423     0.80532     0.79603     0.62762     0.23648     0.13603     0.11469     0.31372]\n",
      "(10,)\n",
      "[    0.70462     0.72681     0.73987     0.67269     0.21073     0.23104     0.17549     0.28516]\n"
     ]
    },
    {
     "name": "stderr",
     "output_type": "stream",
     "text": [
      " 17%|█▋        | 51/294 [00:04<00:19, 12.39it/s]"
     ]
    },
    {
     "name": "stdout",
     "output_type": "stream",
     "text": [
      "(10,)\n",
      "[     0.0868     0.76299     0.42701     0.81937     0.67447     0.19065     0.33426     0.13426]\n",
      "(10,)\n",
      "[     0.2392     0.76577     0.32229      0.7784     0.53947     0.17678     0.45638     0.16415]\n",
      "(10,)\n",
      "[     0.1744     0.65231     0.33689     0.80691     0.85702     0.30407     0.69453     0.14947]\n",
      "(10,)\n",
      "[    0.26744     0.68589     0.31669     0.72986     0.75226     0.28112     0.70301     0.23716]\n",
      "(10,)\n",
      "[    0.63622     0.83226      0.8143     0.66136     0.30218     0.14741      0.1241      0.3183]\n",
      "(10,)\n",
      "[    0.68154     0.74672     0.73293     0.69554     0.26724     0.24518     0.21584     0.29636]\n"
     ]
    },
    {
     "name": "stderr",
     "output_type": "stream",
     "text": [
      " 18%|█▊        | 53/294 [00:04<00:19, 12.16it/s]"
     ]
    },
    {
     "name": "stdout",
     "output_type": "stream",
     "text": [
      "(10,)\n",
      "[    0.62113     0.74523     0.67657     0.71235      0.3277     0.23184     0.27227     0.26473]\n",
      "(10,)\n",
      "[     0.5746     0.81221     0.77329     0.69522     0.37641     0.14443     0.17772     0.26142]\n",
      "(10,)\n",
      "[    0.18183     0.78463     0.39635     0.86984      0.8037     0.24594     0.58917     0.16073]\n",
      "(10,)\n",
      "[    0.29478      0.7639      0.3552     0.78722     0.69811     0.24675     0.63769     0.22343]\n"
     ]
    },
    {
     "name": "stderr",
     "output_type": "stream",
     "text": [
      " 19%|█▊        | 55/294 [00:04<00:33,  7.15it/s]"
     ]
    },
    {
     "name": "stdout",
     "output_type": "stream",
     "text": [
      "(10,)\n",
      "[    0.73132     0.79607     0.82639     0.55139     0.19507     0.16809    0.099997     0.41277]\n",
      "(10,)\n",
      "[    0.75888     0.69771     0.78546     0.62617     0.19084     0.28098     0.16425     0.35252]\n",
      "(10,)\n",
      "[   0.037909     0.57898     0.14124     0.85601      0.8437     0.44405     0.74037     0.16703]\n",
      "(10,)\n",
      "[    0.12624     0.63575     0.15513     0.71306     0.76146     0.35696     0.73259     0.27965]\n",
      "(10,)\n",
      "[    0.84442     0.70735     0.85305     0.61147     0.12824     0.42929     0.11961     0.52518]\n",
      "(10,)\n",
      "[    0.89342     0.87394     0.93056     0.50261    0.068644     0.26176    0.031506     0.63309]\n"
     ]
    },
    {
     "name": "stderr",
     "output_type": "stream",
     "text": [
      " 20%|██        | 59/294 [00:05<00:26,  8.96it/s]"
     ]
    },
    {
     "name": "stdout",
     "output_type": "stream",
     "text": [
      "(10,)\n",
      "[    0.14271     0.65249     0.31574      0.8088     0.85015     0.30607     0.67712     0.14977]\n",
      "(10,)\n",
      "[    0.24429      0.6752     0.30115     0.72395     0.74892     0.28014     0.69207      0.2314]\n",
      "(10,)\n",
      "[    0.60096      0.8657     0.80694     0.73305     0.33568     0.14591      0.1297     0.27857]\n",
      "(10,)\n",
      "[    0.62573     0.77827     0.68559     0.74048     0.27214     0.21507     0.21228     0.25286]\n",
      "(10,)\n",
      "[    0.60345     0.86785      0.6878     0.83623     0.31185     0.19415     0.22749     0.22576]\n",
      "(10,)\n",
      "[    0.51719     0.93212     0.80128     0.82443     0.38845     0.12737     0.10436     0.23505]\n"
     ]
    },
    {
     "name": "stderr",
     "output_type": "stream",
     "text": [
      " 21%|██        | 61/294 [00:05<00:23,  9.74it/s]"
     ]
    },
    {
     "name": "stdout",
     "output_type": "stream",
     "text": [
      "(10,)\n",
      "[      0.342      1.2645     0.64511     0.86775     0.36968     0.30662    0.066562     0.70334]\n",
      "(10,)\n",
      "[    0.40311      1.0269     0.49506     0.93021     0.33183      0.5161     0.23987     0.61275]\n",
      "(10,)\n",
      "[   0.064209     0.48487       0.133     0.80531       0.895     0.45991     0.82621     0.13947]\n",
      "(10,)\n",
      "[    0.18087     0.57181      0.1998     0.65247     0.80803       0.351      0.7891     0.27035]\n",
      "(10,)\n",
      "[    0.82417     0.79065     0.85631     0.35063     0.15835     0.15754     0.12621     0.59756]\n",
      "(10,)\n",
      "[    0.78628     0.59733     0.79316     0.48577     0.17456     0.34116     0.16767     0.45272]\n"
     ]
    },
    {
     "name": "stderr",
     "output_type": "stream",
     "text": [
      " 22%|██▏       | 65/294 [00:05<00:21, 10.85it/s]"
     ]
    },
    {
     "name": "stdout",
     "output_type": "stream",
     "text": [
      "(10,)\n",
      "[    0.86657     0.86842     0.93571       0.584    0.055597     0.36864   -0.013553     0.65307]\n",
      "(10,)\n",
      "[    0.79178     0.72519     0.80708       0.658    0.090583     0.49379    0.075283     0.56097]\n",
      "(10,)\n",
      "[    0.94815     0.73985      1.0314     0.37882     0.07654      0.1571  -0.0067525     0.51813]\n",
      "(10,)\n",
      "[    0.11249     0.76585     0.37141     0.85264     0.78244     0.21475     0.52352     0.12796]\n",
      "(10,)\n",
      "[    0.26603     0.73254     0.32994     0.75316     0.65214     0.23362     0.58823     0.21301]\n",
      "(10,)\n",
      "[    0.82778     0.83051     0.86414     0.44484    0.090286     0.23591    0.053928     0.62157]\n",
      "(10,)\n",
      "[    0.82288     0.67129     0.83133     0.57006      0.1109     0.39773     0.10245     0.49896]\n"
     ]
    },
    {
     "name": "stderr",
     "output_type": "stream",
     "text": [
      " 23%|██▎       | 67/294 [00:05<00:20, 11.15it/s]"
     ]
    },
    {
     "name": "stdout",
     "output_type": "stream",
     "text": [
      "(10,)\n",
      "[   0.012553     0.30513    0.045508     0.87358     0.90185     0.65644     0.86889    0.087993]\n",
      "(10,)\n",
      "[   0.073084     0.55274     0.08322     0.69132     0.80978     0.45889     0.79964     0.32031]\n",
      "(10,)\n",
      "[    0.69073     0.88068     0.80218     0.65845     0.22797     0.16033     0.11652     0.38256]\n",
      "(10,)\n",
      "[    0.70741     0.77521     0.73777     0.71068     0.19603     0.26982     0.16567     0.33435]\n",
      "(10,)\n",
      "[    0.16948     0.77522     0.58025      0.8205     0.77498     0.27584     0.36421     0.23056]\n",
      "(10,)\n",
      "[    0.30115     0.78394     0.45034     0.79987     0.63924     0.25458     0.49004     0.23864]\n"
     ]
    },
    {
     "name": "stderr",
     "output_type": "stream",
     "text": [
      " 24%|██▍       | 71/294 [00:06<00:19, 11.68it/s]"
     ]
    },
    {
     "name": "stdout",
     "output_type": "stream",
     "text": [
      "(10,)\n",
      "[    0.76166     0.69339      0.7826     0.62258     0.21474     0.31879      0.1938     0.38961]\n",
      "(10,)\n",
      "[    0.76091     0.81126     0.83981     0.56369     0.22161     0.20738     0.14272     0.45494]\n",
      "(10,)\n",
      "[    0.16871     0.65594     0.33633     0.79601      0.8437     0.30494     0.67608     0.16488]\n",
      "(10,)\n",
      "[    0.26645     0.68925     0.31488     0.72759     0.74636     0.28682     0.69793     0.24849]\n",
      "(10,)\n",
      "[  -0.031499     0.74568     0.36805     0.81878     0.66419     0.25513     0.26464     0.18202]\n",
      "(10,)\n",
      "[    0.12704     0.77829     0.23313     0.79677     0.51622     0.23079     0.41013     0.21231]\n"
     ]
    },
    {
     "name": "stderr",
     "output_type": "stream",
     "text": [
      " 25%|██▍       | 73/294 [00:06<00:18, 11.75it/s]"
     ]
    },
    {
     "name": "stdout",
     "output_type": "stream",
     "text": [
      "(10,)\n",
      "[    0.77694     0.65904     0.78608     0.55584    0.047993     0.43818     0.03886     0.54138]\n",
      "(10,)\n",
      "[    0.79477     0.81325     0.83654     0.43995    0.028316     0.27704   -0.013456     0.65035]\n",
      "(10,)\n",
      "[    0.74015     0.82205     0.84236     0.58548     0.20307     0.15114     0.10087     0.38771]\n",
      "(10,)\n",
      "[    0.72897     0.70422     0.75827     0.63433     0.21231     0.27441     0.18301      0.3443]\n",
      "(10,)\n",
      "[    0.13668     0.75458     0.32345     0.87351     0.83153     0.27161     0.64477     0.15268]\n",
      "(10,)\n",
      "[    0.25412     0.73904     0.30537     0.77129     0.71816      0.2763     0.66691     0.24406]\n"
     ]
    },
    {
     "name": "stderr",
     "output_type": "stream",
     "text": [
      " 26%|██▌       | 77/294 [00:06<00:18, 11.83it/s]"
     ]
    },
    {
     "name": "stdout",
     "output_type": "stream",
     "text": [
      "(10,)\n",
      "[    0.68368     0.62943     0.70642     0.53982  -0.0078135     0.28402   -0.030545     0.37363]\n",
      "(10,)\n",
      "[    0.74147      0.8055     0.83922     0.46585    0.021218     0.13346   -0.076538     0.47312]\n",
      "(10,)\n",
      "[    0.71689     0.70581     0.75828     0.63517     0.27211     0.26629     0.23072     0.33693]\n",
      "(10,)\n",
      "[    0.70319     0.80371     0.83279     0.58981     0.29446     0.16751     0.16486     0.38141]\n",
      "(10,)\n",
      "[     0.1151     0.78376     0.46122     0.85432     0.75129     0.21063     0.40517     0.14007]\n",
      "(10,)\n",
      "[    0.24826     0.80218     0.32437     0.81822      0.6229     0.17754     0.54679      0.1615]\n"
     ]
    },
    {
     "name": "stderr",
     "output_type": "stream",
     "text": [
      " 27%|██▋       | 79/294 [00:06<00:17, 12.11it/s]"
     ]
    },
    {
     "name": "stdout",
     "output_type": "stream",
     "text": [
      "(10,)\n",
      "[     0.8105     0.81648      0.8602      0.4765    0.087873     0.17226     0.03817     0.51224]\n",
      "(10,)\n",
      "[    0.79341     0.66539     0.80476     0.58241    0.099253     0.32225    0.087897     0.40523]\n",
      "(10,)\n",
      "[    0.19565     0.59036     0.54334     0.71052     0.84329   -0.013976      0.4956    -0.13414]\n",
      "(10,)\n",
      "[    0.36213     0.57881     0.46281     0.61134     0.70469   -0.013731     0.60401   -0.046255]\n",
      "(10,)\n",
      "[    0.74628     0.88186     0.82095     0.62734     0.20154     0.23292     0.12687     0.48744]\n",
      "(10,)\n",
      "[    0.74067      0.7641     0.75962     0.69566     0.19396     0.35575     0.17501     0.42419]\n"
     ]
    },
    {
     "name": "stderr",
     "output_type": "stream",
     "text": [
      " 28%|██▊       | 83/294 [00:07<00:17, 12.04it/s]"
     ]
    },
    {
     "name": "stdout",
     "output_type": "stream",
     "text": [
      "(10,)\n",
      "[    0.74777     0.85593     0.84425     0.61377     0.18935     0.17151    0.092873     0.41367]\n",
      "(10,)\n",
      "[    0.76386      0.7422     0.78664     0.68197       0.178     0.29178     0.15522     0.35202]\n",
      "(10,)\n",
      "[    0.13178     0.75258     0.34206     0.84626     0.72518     0.28404     0.51489     0.19036]\n",
      "(10,)\n",
      "[    0.23655     0.75319     0.29547     0.77849     0.61663     0.28963     0.55772     0.26433]\n",
      "(10,)\n",
      "[    0.74572     0.80523     0.84637     0.58843     0.25946      0.2012     0.15881     0.41801]\n",
      "(10,)\n",
      "[    0.76452     0.71796     0.79246     0.65291     0.24926     0.32131     0.22132     0.38636]\n"
     ]
    },
    {
     "name": "stderr",
     "output_type": "stream",
     "text": [
      " 29%|██▉       | 85/294 [00:07<00:17, 11.91it/s]"
     ]
    },
    {
     "name": "stdout",
     "output_type": "stream",
     "text": [
      "(10,)\n",
      "[    0.76031       0.839     0.85853     0.55329    0.011071     0.11664   -0.087152     0.40235]\n",
      "(10,)\n",
      "[    0.72182     0.69525     0.75062     0.60447    0.052727     0.27257    0.023922     0.36335]\n",
      "(10,)\n",
      "[    0.76556     0.95116     0.86361     0.68972     0.14347     0.16078    0.045419     0.42222]\n",
      "(10,)\n",
      "[     0.7634     0.79258     0.78576     0.72497     0.14676     0.31108      0.1244      0.3787]\n",
      "(10,)\n",
      "[    0.82292     0.66521     0.84621     0.57041      0.1754     0.40275     0.15211     0.49756]\n",
      "(10,)\n",
      "[    0.81977     0.76761     0.89638     0.48958     0.16836     0.28552     0.09175     0.56355]\n"
     ]
    },
    {
     "name": "stderr",
     "output_type": "stream",
     "text": [
      " 31%|███       | 90/294 [00:07<00:14, 13.66it/s]"
     ]
    },
    {
     "name": "stdout",
     "output_type": "stream",
     "text": [
      "(10,)\n",
      "[     0.6212     0.82368     0.74346     0.61386     0.23083     0.17796     0.10857     0.38778]\n",
      "(10,)\n",
      "[     0.6354     0.71942     0.66992     0.65646     0.20168     0.28178     0.16715     0.34475]\n",
      "Skipping 27.3757135_76.923652.txt: corresponding .txt file not found.\n",
      "(10,)\n",
      "[    0.81819     0.70726     0.84831     0.61728     0.17091     0.24169     0.14079     0.33167]\n",
      "(10,)\n",
      "[    0.81991      0.8122     0.91256     0.53562     0.17044     0.12379    0.077788     0.40037]\n",
      "(10,)\n",
      "[   0.014129     0.73352     0.43217     0.79029     0.65974     0.22439      0.2417     0.16761]\n",
      "(10,)\n",
      "[    0.19985     0.75417     0.28702      0.7651     0.49791     0.19702     0.41074     0.18609]\n"
     ]
    },
    {
     "name": "stderr",
     "output_type": "stream",
     "text": [
      " 31%|███▏      | 92/294 [00:07<00:15, 13.14it/s]"
     ]
    },
    {
     "name": "stdout",
     "output_type": "stream",
     "text": [
      "(10,)\n",
      "[    0.17983     0.79769      0.4546     0.89061      0.7864     0.24266     0.51163     0.14974]\n",
      "(10,)\n",
      "[    0.29804     0.79042     0.39018     0.82054     0.67494     0.24524     0.58279     0.21512]\n",
      "(10,)\n",
      "[    0.62677     0.85829     0.77428     0.68998     0.25025     0.21391     0.10274     0.38222]\n",
      "(10,)\n",
      "[    0.64368     0.76934     0.69351     0.71059     0.20338     0.27973     0.15355     0.33848]\n",
      "(10,)\n",
      "[    0.70011     0.82695     0.79623     0.58248     0.10532     0.10264   0.0092028     0.34711]\n",
      "(10,)\n",
      "[    0.71781      0.7267     0.74391     0.66017    0.094321     0.21006    0.068223     0.27659]\n"
     ]
    },
    {
     "name": "stderr",
     "output_type": "stream",
     "text": [
      " 33%|███▎      | 96/294 [00:08<00:16, 12.30it/s]"
     ]
    },
    {
     "name": "stdout",
     "output_type": "stream",
     "text": [
      "(10,)\n",
      "[    0.10667     0.78941     0.47795     0.84377     0.71841     0.27011     0.34712     0.21575]\n",
      "(10,)\n",
      "[    0.25411      0.8089      0.3568     0.82247     0.57501     0.24571     0.47232     0.23214]\n",
      "(10,)\n",
      "[    0.82539      0.7479     0.85166     0.68411     0.21672     0.29584     0.19045     0.35963]\n",
      "(10,)\n",
      "[    0.83048      0.8595     0.92485      0.6374     0.18487     0.17042    0.090493     0.39251]\n",
      "(10,)\n",
      "[    0.81461     0.86668     0.88381     0.57869       0.155      0.2332      0.0858     0.52119]\n",
      "(10,)\n",
      "[    0.77259     0.72432     0.78887     0.65434     0.19236     0.38064     0.17608     0.45061]\n"
     ]
    },
    {
     "name": "stderr",
     "output_type": "stream",
     "text": [
      " 33%|███▎      | 98/294 [00:08<00:15, 12.27it/s]"
     ]
    },
    {
     "name": "stdout",
     "output_type": "stream",
     "text": [
      "(10,)\n",
      "[    0.78978     0.77049     0.80754     0.68778     0.11866      0.3798      0.1009      0.4625]\n",
      "(10,)\n",
      "[    0.77243      0.8962     0.84403     0.58113     0.11175     0.23469    0.040144     0.54975]\n",
      "(10,)\n",
      "[     0.6674     0.81587     0.84024      0.6437     0.29873     0.13328     0.12589     0.30545]\n",
      "(10,)\n",
      "[    0.70452     0.72181     0.75298     0.67146     0.24611     0.21337     0.19765     0.26371]\n",
      "(10,)\n",
      "[    0.65865     0.76456     0.70025     0.71117     0.13306     0.19507    0.091464     0.24846]\n",
      "(10,)\n",
      "[    0.63235     0.85768     0.78013     0.67649     0.13634    0.063268   -0.011441     0.24446]\n"
     ]
    },
    {
     "name": "stderr",
     "output_type": "stream",
     "text": [
      " 35%|███▍      | 102/294 [00:08<00:15, 12.08it/s]"
     ]
    },
    {
     "name": "stdout",
     "output_type": "stream",
     "text": [
      "(10,)\n",
      "[    0.54766     0.90719     0.77377     0.81533     0.39376     0.16102     0.16766     0.25288]\n",
      "(10,)\n",
      "[    0.59002     0.83138     0.65848     0.80531     0.33124     0.20419     0.26278     0.23026]\n",
      "(10,)\n",
      "[    0.12128     0.68117     0.30493     0.82543     0.76995     0.32162      0.5863     0.17735]\n",
      "(10,)\n",
      "[    0.22956     0.70212      0.2851     0.74342     0.67839     0.29329     0.62286     0.25199]\n",
      "(10,)\n",
      "[   0.041864     0.69942     0.28174     0.78613     0.64996     0.19892     0.41008      0.1122]\n",
      "(10,)\n",
      "[    0.17443     0.69633     0.22812     0.71488     0.53939     0.19544      0.4857     0.17689]\n"
     ]
    },
    {
     "name": "stderr",
     "output_type": "stream",
     "text": [
      " 35%|███▌      | 104/294 [00:08<00:15, 12.11it/s]"
     ]
    },
    {
     "name": "stdout",
     "output_type": "stream",
     "text": [
      "(10,)\n",
      "[    0.15356     0.65614     0.31907     0.83945     0.87217     0.36151     0.70666     0.17821]\n",
      "(10,)\n",
      "[    0.25356       0.697     0.30215     0.75023      0.7898     0.32421     0.74121     0.27098]\n",
      "(10,)\n",
      "[    0.61266     0.83331     0.80318     0.64823     0.29801     0.14658      0.1075     0.33166]\n",
      "(10,)\n",
      "[    0.64847     0.72981     0.69836     0.67865     0.24199     0.24922      0.1921     0.30037]\n",
      "(10,)\n",
      "[     0.2573     0.61675     0.29793     0.63907     0.54907     0.28887     0.50844     0.26655]\n",
      "(10,)\n",
      "[    0.16244     0.61506     0.32303     0.70781      0.6277     0.30376     0.46711       0.211]\n"
     ]
    },
    {
     "name": "stderr",
     "output_type": "stream",
     "text": [
      " 36%|███▌      | 106/294 [00:08<00:15, 12.14it/s]"
     ]
    },
    {
     "name": "stdout",
     "output_type": "stream",
     "text": [
      "(10,)\n",
      "[   0.071323     0.85769     0.39557     0.94595     0.74057     0.27555     0.41632      0.1873]\n",
      "(10,)\n",
      "[    0.22551     0.84753     0.29858     0.86712     0.58995     0.29237     0.51688     0.27278]\n",
      "(10,)\n",
      "[   0.085413     0.81966     0.30138     0.92783     0.79545     0.22407     0.57949     0.11589]\n",
      "(10,)\n",
      "[    0.21288     0.79201     0.27226      0.8224     0.68678     0.24431      0.6274     0.21393]\n"
     ]
    },
    {
     "name": "stderr",
     "output_type": "stream",
     "text": [
      " 37%|███▋      | 110/294 [00:09<00:17, 10.60it/s]"
     ]
    },
    {
     "name": "stdout",
     "output_type": "stream",
     "text": [
      "(10,)\n",
      "[    0.16298     0.77734     0.44859     0.86402       0.834     0.20012     0.54838     0.11345]\n",
      "(10,)\n",
      "[    0.30576     0.75329     0.36869     0.77313     0.70771     0.21117     0.64477     0.19132]\n",
      "(10,)\n",
      "[    0.68088     0.75885     0.79676     0.58883     0.29169      0.1654     0.17581     0.33542]\n",
      "(10,)\n",
      "[    0.70045      0.6668      0.7326     0.61604     0.26838     0.25434     0.23622      0.3051]\n",
      "(10,)\n",
      "[    0.72738     0.79274     0.84419     0.58072     0.28972     0.16377     0.17292      0.3758]\n",
      "(10,)\n",
      "[     0.7406     0.69233     0.77386     0.62964     0.27473     0.26821     0.24147      0.3309]\n"
     ]
    },
    {
     "name": "stderr",
     "output_type": "stream",
     "text": [
      " 38%|███▊      | 113/294 [00:09<00:14, 12.60it/s]"
     ]
    },
    {
     "name": "stdout",
     "output_type": "stream",
     "text": [
      "Skipping 27.5323865_77.1217875.txt: corresponding .txt file not found.\n",
      "(10,)\n",
      "[    0.19541     0.77418      0.4926     0.84427     0.81288     0.28236     0.51569     0.21227]\n",
      "(10,)\n",
      "[    0.34267     0.75902     0.41409     0.77621     0.69996     0.28495     0.62855     0.26776]\n",
      "(10,)\n",
      "[    0.70224     0.78473     0.83759     0.61692     0.27979      0.1578     0.14443      0.3256]\n",
      "(10,)\n",
      "[    0.72879      0.6963     0.76654     0.64733     0.24695      0.2385     0.20919     0.28747]\n",
      "(10,)\n",
      "[    0.15607     0.75037     0.42838     0.86026     0.81699     0.26145     0.54468     0.15156]\n",
      "(10,)\n",
      "[    0.29945     0.74109     0.37463     0.77103     0.70565     0.25404     0.63047      0.2241]\n"
     ]
    },
    {
     "name": "stderr",
     "output_type": "stream",
     "text": [
      " 40%|███▉      | 117/294 [00:09<00:14, 12.41it/s]"
     ]
    },
    {
     "name": "stdout",
     "output_type": "stream",
     "text": [
      "(10,)\n",
      "[    0.69785     0.58856     0.80683     0.29958     0.25711    0.033934     0.14812     0.32291]\n",
      "(10,)\n",
      "[    0.69232     0.45503     0.71998     0.37848     0.24384     0.15805     0.21618      0.2346]\n",
      "(10,)\n",
      "[    0.78778     0.72643     0.84355     0.44249     0.15239     0.21274    0.096623     0.49667]\n",
      "(10,)\n",
      "[    0.75786     0.61866     0.77592       0.529     0.16872     0.32198     0.15066     0.41163]\n",
      "(10,)\n",
      "[   0.052978     0.49679     0.14996     0.70647     0.89041     0.37578     0.79342     0.16611]\n",
      "(10,)\n",
      "[    0.15346     0.55484     0.18099     0.61108     0.78977     0.32331     0.76223     0.26707]\n"
     ]
    },
    {
     "name": "stderr",
     "output_type": "stream",
     "text": [
      " 40%|████      | 119/294 [00:10<00:14, 12.34it/s]"
     ]
    },
    {
     "name": "stdout",
     "output_type": "stream",
     "text": [
      "(10,)\n",
      "[    0.79469     0.82216     0.86297     0.53216     0.20935     0.21889     0.14107     0.50889]\n",
      "(10,)\n",
      "[    0.78191     0.69788     0.79865     0.62063      0.2301      0.3699     0.21336     0.44714]\n",
      "(10,)\n",
      "[    0.10051     0.69875     0.28985     0.83655      0.7888     0.26746     0.59946     0.12966]\n",
      "(10,)\n",
      "[    0.19267     0.72545     0.24005     0.75928     0.67759     0.25051      0.6302     0.21668]\n",
      "(10,)\n",
      "[   0.055479     0.77006     0.30077     0.90187     0.80504     0.24732     0.55975     0.11551]\n",
      "(10,)\n",
      "[    0.19043     0.77768     0.25533     0.81109      0.6827     0.23214      0.6178     0.19872]\n"
     ]
    },
    {
     "name": "stderr",
     "output_type": "stream",
     "text": [
      " 42%|████▏     | 123/294 [00:10<00:13, 12.36it/s]"
     ]
    },
    {
     "name": "stdout",
     "output_type": "stream",
     "text": [
      "(10,)\n",
      "[     0.6793       0.733     0.72218     0.66628     0.14126     0.24534    0.098384     0.31205]\n",
      "(10,)\n",
      "[    0.67091     0.83938     0.81298     0.62918     0.17272     0.14123    0.030645     0.35143]\n",
      "(10,)\n",
      "[    0.11137     0.72487     0.28796     0.88019     0.88707     0.27068     0.71049     0.11536]\n",
      "(10,)\n",
      "[    0.24779     0.71767     0.28877     0.75416     0.77221     0.26836     0.73122     0.23186]\n",
      "(10,)\n",
      "[    0.82143     0.75007     0.85259     0.66473     0.15558     0.37604     0.12442     0.46138]\n",
      "(10,)\n",
      "[    0.81564     0.87653     0.92706     0.58885     0.10513     0.22773  -0.0062869     0.51542]\n"
     ]
    },
    {
     "name": "stderr",
     "output_type": "stream",
     "text": [
      " 43%|████▎     | 125/294 [00:10<00:13, 12.31it/s]"
     ]
    },
    {
     "name": "stdout",
     "output_type": "stream",
     "text": [
      "(10,)\n",
      "[    0.12136     0.76561     0.35537     0.87683     0.79592     0.24257     0.56192     0.13135]\n",
      "(10,)\n",
      "[    0.24329     0.76683     0.29089     0.79012     0.69414     0.22609     0.64655     0.20281]\n",
      "(10,)\n",
      "[    0.18383     0.81137     0.46368     0.97124      1.0319     0.29057     0.75209      0.1307]\n",
      "(10,)\n",
      "[   -0.14346     0.49387      0.5501     0.90941      1.2709     0.51012     0.57738    0.094583]\n",
      "(10,)\n",
      "[    0.41448     0.75551     0.53752     0.75947      0.5933     0.18428     0.47026     0.18032]\n",
      "(10,)\n",
      "[   0.067052     0.59579     0.44738      0.7109     0.89528     0.21976     0.51496     0.10465]\n",
      "(10,)\n",
      "[    0.15766     0.57552     0.23477     0.80174     0.86115     0.42747     0.78404     0.20125]\n",
      "(10,)\n",
      "[    0.22825     0.63436      0.2469     0.69126     0.80729     0.36941     0.78865     0.31251]\n"
     ]
    },
    {
     "name": "stderr",
     "output_type": "stream",
     "text": [
      " 44%|████▍     | 129/294 [00:10<00:13, 12.13it/s]"
     ]
    },
    {
     "name": "stdout",
     "output_type": "stream",
     "text": [
      "(10,)\n",
      "[     0.1082     0.23578     0.11691     0.77915     0.89519     0.72723     0.88648     0.18386]\n",
      "(10,)\n",
      "[    0.13855     0.47199     0.14213     0.61233     0.85252     0.53689     0.84893     0.39655]\n",
      "(10,)\n",
      "[    0.11453     0.64352     0.25758     0.82381      0.9018     0.30583     0.75875     0.12553]\n",
      "(10,)\n",
      "[    0.20851     0.69411     0.25183     0.74457     0.80761     0.26107     0.76429      0.2106]\n",
      "(10,)\n",
      "[    0.75073     0.85557      0.8719     0.60909       0.235     0.11086     0.11383     0.35734]\n",
      "(10,)\n",
      "[    0.77737     0.73381     0.80933     0.66117     0.20208     0.23604     0.17012     0.30867]\n"
     ]
    },
    {
     "name": "stderr",
     "output_type": "stream",
     "text": [
      " 45%|████▍     | 131/294 [00:11<00:13, 12.15it/s]"
     ]
    },
    {
     "name": "stdout",
     "output_type": "stream",
     "text": [
      "(10,)\n",
      "[    0.10673     0.51071     0.18299     0.82443     0.90324     0.50803     0.82698      0.1943]\n",
      "(10,)\n",
      "[     0.1647     0.64244     0.18283     0.71315     0.82994     0.41334     0.81181     0.34263]\n",
      "(10,)\n",
      "[    0.68953     0.84858     0.78948      0.6145     0.20767     0.21569     0.10772     0.44977]\n",
      "(10,)\n",
      "[    0.70426     0.74686      0.7355     0.66899     0.19244     0.31921      0.1612     0.39708]\n",
      "(10,)\n",
      "[    0.57407     0.81931     0.75097     0.70907     0.35083     0.17096     0.17393      0.2812]\n",
      "(10,)\n",
      "[    0.62889     0.74327     0.68039     0.70813      0.2948     0.23466      0.2433     0.26981]\n"
     ]
    },
    {
     "name": "stderr",
     "output_type": "stream",
     "text": [
      " 46%|████▌     | 135/294 [00:11<00:13, 12.11it/s]"
     ]
    },
    {
     "name": "stdout",
     "output_type": "stream",
     "text": [
      "(10,)\n",
      "[    0.68331     0.83266     0.77843      0.6371     0.22873     0.21316     0.13362     0.40873]\n",
      "(10,)\n",
      "[    0.69038      0.7433     0.71613      0.6894     0.20785     0.30437      0.1821     0.35828]\n",
      "(10,)\n",
      "[    0.19006     0.74574     0.39974     0.84399     0.79922     0.26383     0.58955     0.16558]\n",
      "(10,)\n",
      "[    0.29504     0.75061     0.35865     0.77948     0.71077     0.25148     0.64715     0.22261]\n",
      "(10,)\n",
      "[    0.72869      0.7689     0.77201     0.72546     0.26847     0.21271     0.22516     0.25616]\n",
      "(10,)\n",
      "[    0.68495     0.84792     0.85089     0.68334     0.31621     0.13267     0.15027     0.29726]\n"
     ]
    },
    {
     "name": "stderr",
     "output_type": "stream",
     "text": [
      " 47%|████▋     | 137/294 [00:11<00:12, 12.14it/s]"
     ]
    },
    {
     "name": "stdout",
     "output_type": "stream",
     "text": [
      "(10,)\n",
      "[    0.67426     0.82259     0.79409     0.65812     0.26119     0.18354     0.14136     0.34801]\n",
      "(10,)\n",
      "[    0.70819     0.75126     0.74363     0.69996     0.22492     0.26194     0.18949     0.31324]\n",
      "(10,)\n",
      "[    0.26919     0.53976     0.40564     0.64216      0.7341      0.2995     0.59764      0.1971]\n",
      "(10,)\n",
      "[    0.36852     0.54175     0.39249     0.56066      0.6772     0.27807     0.65322     0.25916]\n",
      "(10,)\n",
      "[   0.079051     0.51709      0.2284      1.2785      0.8158     0.82108     0.66645    0.059643]\n",
      "(10,)\n",
      "[    0.11702     0.65938     0.13066     0.77058     0.80301     0.44316     0.78938     0.33196]\n"
     ]
    },
    {
     "name": "stderr",
     "output_type": "stream",
     "text": [
      " 48%|████▊     | 141/294 [00:11<00:12, 12.17it/s]"
     ]
    },
    {
     "name": "stdout",
     "output_type": "stream",
     "text": [
      "(10,)\n",
      "[    0.11405     0.39363     0.15573     0.94235     0.89719     0.72606      0.8555     0.17734]\n",
      "(10,)\n",
      "[    0.18207     0.65432     0.19679     0.79538     0.84001     0.53749     0.82529     0.39643]\n",
      "(10,)\n",
      "[    0.88051      0.5962     0.89252     0.50619     0.20172     0.41209     0.18971      0.5021]\n",
      "(10,)\n",
      "[    0.84779     0.63794     0.86623     0.40685     0.17264     0.35038      0.1542     0.58147]\n",
      "(10,)\n",
      "[    0.91814     0.84628     0.94212     0.35062    0.070124     0.21029    0.046142     0.70595]\n"
     ]
    },
    {
     "name": "stderr",
     "output_type": "stream",
     "text": [
      " 49%|████▊     | 143/294 [00:12<00:12, 12.26it/s]"
     ]
    },
    {
     "name": "stdout",
     "output_type": "stream",
     "text": [
      "(10,)\n",
      "[   0.034245     0.50387     0.27254      1.2186     0.90417     0.52179     0.66588     -0.1929]\n",
      "(10,)\n",
      "[   0.097022     0.65133     0.11399     0.78317     0.83026     0.47826      0.8133     0.34642]\n",
      "(10,)\n",
      "[    0.09374     0.56346     0.14353     0.82991     0.84617      0.3955     0.79638     0.12905]\n",
      "(10,)\n",
      "[    0.15041     0.67918     0.31857     0.82116     0.80429     0.29188     0.63613      0.1499]\n",
      "(10,)\n",
      "[    0.26265     0.68093     0.30605     0.71756     0.70456     0.28302     0.66117      0.2464]\n",
      "(10,)\n",
      "[    0.10368     0.77459     0.31501     0.92525     0.82601     0.27095     0.61468     0.12029]\n",
      "(10,)\n",
      "[    0.22371     0.79201     0.27707     0.82974     0.72623      0.2499     0.67287     0.21217]\n"
     ]
    },
    {
     "name": "stderr",
     "output_type": "stream",
     "text": [
      " 50%|█████     | 147/294 [00:12<00:12, 12.05it/s]"
     ]
    },
    {
     "name": "stdout",
     "output_type": "stream",
     "text": [
      "(10,)\n",
      "[    0.15537     0.68969     0.35061     0.79903     0.80649     0.22892     0.61124     0.11958]\n",
      "(10,)\n",
      "[    0.26129     0.69719     0.29994     0.71888     0.69193      0.2299     0.65328      0.2082]\n",
      "(10,)\n",
      "[    0.15818      0.7273     0.39869     0.83626      0.8352     0.21202      0.5947     0.10305]\n",
      "(10,)\n",
      "[    0.28557     0.72221     0.34447     0.74838     0.71693     0.20511     0.65803     0.17894]\n",
      "(10,)\n",
      "[  -0.098687     0.65838     0.17547     0.81623     0.75725     0.16154     0.48309   0.0036905]\n",
      "(10,)\n",
      "[   0.063353     0.67093     0.12833     0.70634     0.63804     0.10032     0.57307    0.064915]\n",
      "(10,)\n",
      "[    0.11346     0.72565     0.65312     0.77602     0.83708     0.28583     0.29742     0.23546]\n",
      "(10,)\n",
      "[    0.37814      0.7391     0.51438     0.74241     0.56298      0.2443     0.42675       0.241]\n"
     ]
    },
    {
     "name": "stderr",
     "output_type": "stream",
     "text": [
      " 51%|█████     | 149/294 [00:12<00:11, 12.10it/s]"
     ]
    },
    {
     "name": "stdout",
     "output_type": "stream",
     "text": [
      "(10,)\n",
      "[    0.91009     0.81284     0.92312     0.27575    0.085588     0.19126    0.072555     0.72835]\n",
      "(10,)\n",
      "[    0.12862     0.73789     0.28696      0.8414     0.72041     0.35457     0.56208     0.25105]\n",
      "(10,)\n",
      "[    0.21293     0.75448     0.26783     0.78804     0.63755     0.34396     0.58264     0.31039]\n",
      "(10,)\n",
      "[    0.91108     0.85559     0.92656     0.35706     0.09583     0.25995    0.080346     0.75848]\n",
      "(10,)\n",
      "[    0.85719     0.65614     0.86032     0.52349     0.13428     0.45906     0.13115     0.59171]\n"
     ]
    },
    {
     "name": "stderr",
     "output_type": "stream",
     "text": [
      " 52%|█████▏    | 153/294 [00:12<00:11, 11.91it/s]"
     ]
    },
    {
     "name": "stdout",
     "output_type": "stream",
     "text": [
      "(10,)\n",
      "[    0.80168     0.73057     0.84009      0.3439     0.17521     0.18734      0.1368     0.57401]\n",
      "(10,)\n",
      "[    0.77511      0.5613     0.78209     0.44654     0.21129     0.36421     0.20431     0.47897]\n",
      "(10,)\n",
      "[    0.54604     0.78431     0.68171     0.77389     0.54594     0.21882     0.41027     0.22923]\n",
      "(10,)\n",
      "[    0.40071     0.86363     0.90879     0.82517     0.77489     0.26995     0.26681     0.30841]\n",
      "(10,)\n",
      "[    0.86618     0.75596     0.89556      0.3275  -0.0013266     0.16789   -0.030711     0.59635]\n",
      "(10,)\n",
      "[    0.74611     0.61944     0.75837     0.49454    0.026293     0.30814    0.014038     0.43304]\n"
     ]
    },
    {
     "name": "stderr",
     "output_type": "stream",
     "text": [
      " 53%|█████▎    | 155/294 [00:13<00:11, 12.08it/s]"
     ]
    },
    {
     "name": "stdout",
     "output_type": "stream",
     "text": [
      "(10,)\n",
      "[    0.88378     0.77727     0.89958     0.31831    0.087272     0.21258    0.071476     0.67154]\n",
      "(10,)\n",
      "[    0.83066     0.59437     0.83523      0.4719     0.11919      0.3709     0.11462     0.49338]\n",
      "(10,)\n",
      "[    0.84064      0.5962     0.84737     0.48457     0.13236     0.34087     0.12563      0.4525]\n",
      "(10,)\n",
      "[    0.88484     0.72244     0.89554     0.29796    0.085863     0.22993    0.075165     0.65441]\n",
      "(10,)\n",
      "[    0.14333     0.26683     0.14659     0.78394     0.90758     0.76514     0.90432     0.24803]\n",
      "(10,)\n",
      "[    0.21184     0.50126      0.2172     0.62096      0.8358     0.51232     0.83044     0.39261]\n"
     ]
    },
    {
     "name": "stderr",
     "output_type": "stream",
     "text": [
      " 54%|█████▍    | 159/294 [00:13<00:11, 11.96it/s]"
     ]
    },
    {
     "name": "stdout",
     "output_type": "stream",
     "text": [
      "(10,)\n",
      "[   0.082511     0.49404     0.30553      1.3466     0.91609     0.59498     0.69307    -0.25755]\n",
      "(10,)\n",
      "[    0.87922     0.95967     0.91279     0.57233     0.30255     0.32342     0.26898     0.71077]\n",
      "(10,)\n",
      "[    0.29496     0.65796     0.45628      1.0554     0.82611      0.3491     0.66479   -0.048362]\n",
      "(10,)\n",
      "[     0.3097     0.87438     0.57754     0.89388     0.64417     0.17008     0.37632     0.15058]\n",
      "(10,)\n",
      "[    0.42367     0.83131     0.49532     0.83387     0.52264     0.22876     0.45099      0.2262]\n",
      "(10,)\n",
      "[   0.020814     0.18968    0.063259      1.0632     0.98901      0.8731     0.94656 -0.00039347]\n",
      "(10,)\n",
      "[   0.085239     0.48386    0.097836     0.74279     0.83914     0.59041     0.82654     0.33148]\n",
      "(10,)\n",
      "[   0.040465     0.23509    0.071474     0.72619     0.81137     0.52878     0.78036    0.037688]\n"
     ]
    },
    {
     "name": "stderr",
     "output_type": "stream",
     "text": [
      " 55%|█████▍    | 161/294 [00:13<00:11, 11.94it/s]"
     ]
    },
    {
     "name": "stdout",
     "output_type": "stream",
     "text": [
      "(10,)\n",
      "[    0.25338     0.72455     0.79221     0.70413     0.71034     0.24432     0.17151     0.26474]\n",
      "(10,)\n",
      "[    0.45514     0.70652     0.59647     0.70137     0.51773     0.24145     0.37639      0.2466]\n",
      "(10,)\n",
      "[    0.17222     0.52881     0.17641      0.6484     0.90179     0.52698      0.8976      0.4074]\n",
      "(10,)\n",
      "[    0.16075     0.31977     0.17099     0.83981     0.99947     0.76189     0.98923     0.24185]\n",
      "(10,)\n",
      "[    0.98168     0.78599      1.0067     0.38429    0.088304     0.19216    0.063285     0.59385]\n",
      "(10,)\n",
      "[    0.85331     0.60028      0.8594     0.50938     0.12491      0.3441     0.11883     0.43499]\n"
     ]
    },
    {
     "name": "stderr",
     "output_type": "stream",
     "text": [
      " 56%|█████▌    | 165/294 [00:13<00:10, 12.13it/s]"
     ]
    },
    {
     "name": "stdout",
     "output_type": "stream",
     "text": [
      "(10,)\n",
      "[    0.43375     0.81305     0.56773     0.81844     0.63922     0.25901     0.50524     0.25363]\n",
      "(10,)\n",
      "[    0.27428     0.74679     0.75493     0.77226     0.84901     0.21389     0.36835     0.18842]\n",
      "(10,)\n",
      "[     1.0003     0.83705      1.0193      0.3473     0.18098     0.25324     0.16204     0.74298]\n",
      "(10,)\n",
      "[     0.9531     0.66478      0.9582     0.52584     0.22416     0.44768     0.21907     0.58662]\n",
      "(10,)\n",
      "[  -0.020323     0.43936    0.013528     0.95157     0.89363     0.72732     0.85978      0.2151]\n",
      "(10,)\n",
      "[   0.014422     0.60989     0.02351     0.75973     0.76289     0.58683      0.7538     0.43699]\n"
     ]
    },
    {
     "name": "stderr",
     "output_type": "stream",
     "text": [
      " 57%|█████▋    | 167/294 [00:14<00:10, 12.24it/s]"
     ]
    },
    {
     "name": "stdout",
     "output_type": "stream",
     "text": [
      "(10,)\n",
      "[    0.93503     0.86741     0.95026     0.33563    0.085129     0.19434    0.069897     0.72612]\n",
      "(10,)\n",
      "[    0.82613     0.63802     0.82903     0.49248     0.11682     0.41163     0.11393     0.55717]\n",
      "(10,)\n",
      "[    0.15462     0.72103     0.63245     0.74175     0.71362     0.21101     0.23578     0.19029]\n",
      "(10,)\n",
      "[    0.35205     0.72739     0.47597     0.73147     0.53771     0.19999      0.4138     0.19591]\n",
      "(10,)\n",
      "[    0.14584     0.52392     0.15263     0.60706     0.88077     0.41109     0.87397     0.32796]\n",
      "(10,)\n",
      "[    0.05169     0.37371    0.082757     0.79598     0.90029     0.59794     0.86922     0.17567]\n"
     ]
    },
    {
     "name": "stderr",
     "output_type": "stream",
     "text": [
      " 58%|█████▊    | 171/294 [00:14<00:10, 12.00it/s]"
     ]
    },
    {
     "name": "stdout",
     "output_type": "stream",
     "text": [
      "(10,)\n",
      "[    0.11212     0.23886     0.11439     0.79996     0.91069      0.7872     0.90842      0.2261]\n",
      "(10,)\n",
      "[    0.14308     0.48989     0.14693     0.63468     0.84608     0.56109     0.84223     0.41631]\n",
      "(10,)\n",
      "[   0.084652     0.49045    0.089697     0.62833     0.80486     0.51894     0.79982     0.38106]\n",
      "(10,)\n",
      "[    0.03742     0.24884    0.050464     0.81797     0.89253     0.73729     0.87948     0.16816]\n",
      "(10,)\n",
      "[    0.43316     0.76882     0.57344     0.76601     0.53501     0.24621     0.39473     0.24901]\n",
      "(10,)\n",
      "[    0.29525     0.73695     0.79223     0.70904     0.68488     0.19185      0.1879     0.21977]\n"
     ]
    },
    {
     "name": "stderr",
     "output_type": "stream",
     "text": [
      " 59%|█████▉    | 173/294 [00:14<00:10, 12.06it/s]"
     ]
    },
    {
     "name": "stdout",
     "output_type": "stream",
     "text": [
      "(10,)\n",
      "[    0.91852     0.90781     0.95354     0.39487    0.093188     0.14345    0.058177     0.65638]\n",
      "(10,)\n",
      "[   0.072827     0.76831     0.46125      1.3633     0.87281     0.21308     0.48438    -0.38194]\n",
      "(10,)\n",
      "[    0.11411      0.7003      0.7188     0.74593     0.88084     0.29254     0.27615     0.24691]\n",
      "(10,)\n",
      "[    0.36392     0.73841     0.54274     0.74266     0.59444     0.28382     0.41562     0.27957]\n",
      "(10,)\n",
      "[    0.86373     0.82164     0.89173     0.35009     0.10525     0.20854    0.077248     0.68009]\n",
      "(10,)\n",
      "[    0.84133     0.65538     0.84976     0.52626     0.15451     0.38863     0.14608     0.51776]\n"
     ]
    },
    {
     "name": "stderr",
     "output_type": "stream",
     "text": [
      " 60%|██████    | 177/294 [00:14<00:09, 11.96it/s]"
     ]
    },
    {
     "name": "stdout",
     "output_type": "stream",
     "text": [
      "(10,)\n",
      "[    0.78078      0.8577     0.89908     0.57317     0.21437     0.12109    0.096079     0.40562]\n",
      "(10,)\n",
      "[    0.81113     0.74809     0.84518     0.66393      0.1937     0.24538     0.15965     0.32954]\n",
      "(10,)\n",
      "[    0.19724     0.77295     0.68416     0.79928     0.78555     0.27146     0.29864     0.24512]\n",
      "(10,)\n",
      "[    0.37292     0.77128     0.51106     0.77802      0.6026     0.24968     0.46446     0.24295]\n",
      "(10,)\n",
      "[    0.68706     0.94179     0.78217     0.66585     0.15541     0.22519    0.060295     0.50113]\n",
      "(10,)\n",
      "[    0.71172     0.81313     0.73571     0.73668       0.112     0.33753    0.088018     0.41398]\n"
     ]
    },
    {
     "name": "stderr",
     "output_type": "stream",
     "text": [
      " 61%|██████    | 179/294 [00:15<00:09, 12.12it/s]"
     ]
    },
    {
     "name": "stdout",
     "output_type": "stream",
     "text": [
      "(10,)\n",
      "[   0.097021     0.28316     0.11091       0.809      0.9333     0.72466     0.91941     0.19882]\n",
      "(10,)\n",
      "[    0.14912     0.51281     0.15262     0.61179      0.8518     0.51598     0.84831       0.417]\n",
      "(10,)\n",
      "[    0.71668     0.83419     0.82341     0.58735     0.24682     0.22298     0.14009     0.46983]\n",
      "(10,)\n",
      "[    0.71426     0.71815      0.7431     0.64723     0.22129     0.33705     0.19245     0.40797]\n",
      "Skipping 27.88180355085224_76.16022977561951.txt: corresponding .txt file not found.\n",
      "(10,)\n",
      "[    0.12639     0.41131     0.15908     0.82483     0.94179     0.64522      0.9091     0.23169]\n",
      "(10,)\n",
      "[     0.1963     0.54449     0.20599     0.65684     0.87299     0.48969      0.8633     0.37734]\n"
     ]
    },
    {
     "name": "stderr",
     "output_type": "stream",
     "text": [
      " 63%|██████▎   | 184/294 [00:15<00:08, 13.36it/s]"
     ]
    },
    {
     "name": "stdout",
     "output_type": "stream",
     "text": [
      "(10,)\n",
      "[    0.10447    0.098032     0.16385     0.89827     0.81822     0.73885     0.75884   -0.061384]\n",
      "(10,)\n",
      "[    0.18848     0.44405     0.19431     0.62989     0.74162     0.57351     0.73579     0.38767]\n",
      "(10,)\n",
      "[    0.14143     0.69971       0.306     0.88307     0.87135     0.33058     0.70678     0.14721]\n",
      "(10,)\n",
      "[    0.25512     0.72906     0.30399     0.78159     0.77459     0.30487     0.72572     0.25234]\n",
      "(10,)\n",
      "[    0.22086     0.73482     0.69447     0.77311      0.8324     0.19818     0.35879      0.1599]\n",
      "(10,)\n",
      "[    0.43427     0.82884     0.56308     0.83078     0.58877     0.25811     0.45996     0.25616]\n"
     ]
    },
    {
     "name": "stderr",
     "output_type": "stream",
     "text": [
      " 63%|██████▎   | 186/294 [00:15<00:08, 12.74it/s]"
     ]
    },
    {
     "name": "stdout",
     "output_type": "stream",
     "text": [
      "(10,)\n",
      "[    0.84712     0.65489     0.88563     0.24421     0.15322    0.079867     0.11471     0.49055]\n",
      "(10,)\n",
      "[    0.80711     0.49433     0.81754     0.36994     0.17478     0.24096     0.16435     0.36535]\n",
      "(10,)\n",
      "[    0.77358      0.6678     0.79614     0.55071     0.29443     0.27289     0.27187     0.38998]\n",
      "(10,)\n",
      "[    0.79225     0.82761     0.86688     0.44847     0.32822     0.14374     0.25358     0.52288]\n",
      "(10,)\n",
      "[    0.16179     0.77002     0.45718      0.8726     0.82302     0.24806     0.52763     0.14548]\n",
      "(10,)\n",
      "[    0.31358     0.75397      0.3996     0.78229     0.69661     0.24741     0.61058     0.21909]\n"
     ]
    },
    {
     "name": "stderr",
     "output_type": "stream",
     "text": [
      " 65%|██████▍   | 190/294 [00:15<00:08, 12.40it/s]"
     ]
    },
    {
     "name": "stdout",
     "output_type": "stream",
     "text": [
      "(10,)\n",
      "[    0.20831     0.74888     0.67989     0.78286     0.79766     0.17946     0.32608     0.14547]\n",
      "(10,)\n",
      "[    0.40851     0.76799     0.53027      0.7728     0.59527     0.16646     0.47351     0.16164]\n",
      "(10,)\n",
      "[    0.49198     0.83555     0.91623     0.73364      0.6361     0.30309     0.21185     0.40501]\n",
      "(10,)\n",
      "[    0.88714     0.78409     0.91904     0.35939     0.13708     0.18939     0.10518      0.6141]\n",
      "(10,)\n",
      "[    0.84282     0.64447     0.85522       0.527     0.17419     0.31891     0.16179     0.43639]\n",
      "(10,)\n",
      "[    0.26512     0.79628     0.82887     0.76418     0.72044     0.24526     0.15669     0.27736]\n",
      "(10,)\n",
      "[    0.43485     0.74801     0.57598     0.74528     0.53894     0.22365      0.3978     0.22638]\n"
     ]
    },
    {
     "name": "stderr",
     "output_type": "stream",
     "text": [
      " 65%|██████▌   | 192/294 [00:16<00:08, 12.34it/s]"
     ]
    },
    {
     "name": "stdout",
     "output_type": "stream",
     "text": [
      "(10,)\n",
      "[    0.72888     0.82462     0.84569     0.61885     0.23521     0.15079      0.1184     0.35656]\n",
      "(10,)\n",
      "[    0.78007     0.74163     0.81076     0.68324     0.21948     0.26344     0.18878     0.32183]\n",
      "(10,)\n",
      "[    0.39582     0.83211     0.53885     0.82852     0.49212     0.29191     0.34908     0.29551]\n",
      "(10,)\n",
      "[    0.19154     0.80964     0.69705     0.79735     0.65184     0.26071     0.14634       0.273]\n",
      "(10,)\n",
      "[   0.073225     0.68318     0.62998     0.74657      0.8712     0.30204     0.31445     0.23865]\n",
      "(10,)\n",
      "[    0.31074     0.70014     0.48667     0.71051     0.61434     0.25621     0.43841     0.24584]\n",
      "(10,)\n",
      "[    0.47132     0.81136      1.0423     0.54358     0.32992     0.22489    -0.24106     0.49268]\n"
     ]
    },
    {
     "name": "stderr",
     "output_type": "stream",
     "text": [
      " 67%|██████▋   | 196/294 [00:16<00:08, 12.18it/s]"
     ]
    },
    {
     "name": "stdout",
     "output_type": "stream",
     "text": [
      "(10,)\n",
      "[   0.040932     0.31265    0.054846     0.83719     0.90551     0.75152      0.8916     0.22698]\n",
      "(10,)\n",
      "[   0.090985     0.53879    0.096595     0.63824     0.83139     0.48087     0.82578     0.38141]\n",
      "(10,)\n",
      "[    0.20884     0.78523     0.69457     0.80321     0.76112     0.24968     0.27539      0.2317]\n",
      "(10,)\n",
      "[    0.34965     0.78487      0.5316      0.7906      0.5883     0.23673     0.40635       0.231]\n",
      "(10,)\n",
      "[    0.02501     0.32141    0.086193      0.9439     0.91554      0.6364     0.85435    0.013915]\n",
      "(10,)\n",
      "[   0.071854     0.54387     0.07956     0.66887      0.8064     0.49985      0.7987     0.37485]\n"
     ]
    },
    {
     "name": "stderr",
     "output_type": "stream",
     "text": [
      " 67%|██████▋   | 198/294 [00:16<00:07, 12.27it/s]"
     ]
    },
    {
     "name": "stdout",
     "output_type": "stream",
     "text": [
      "(10,)\n",
      "[    0.86893     0.69888     0.88165     0.23131    0.023553     0.14333     0.01083      0.6109]\n",
      "(10,)\n",
      "[    0.74793      0.5662     0.75802     0.43275    0.033522     0.22647    0.023439     0.35992]\n",
      "(10,)\n",
      "[    0.93759     0.74343      0.9478     0.34955    0.072703     0.27648    0.062494     0.67036]\n",
      "(10,)\n",
      "[    0.76353     0.96718     0.87687     0.28372     0.17904   -0.089037    0.065698     0.59443]\n",
      "(10,)\n",
      "[    0.79902     0.67004     0.81384     0.45415     0.12185     0.30106     0.10702     0.51695]\n",
      "(10,)\n",
      "[   0.072764     0.31339    0.091711      0.8793     0.89337     0.78547     0.87442     0.21955]\n",
      "(10,)\n",
      "[     0.1382     0.50472     0.14366     0.65574     0.84718     0.56675     0.84171     0.41574]\n"
     ]
    },
    {
     "name": "stderr",
     "output_type": "stream",
     "text": [
      " 69%|██████▊   | 202/294 [00:16<00:07, 12.11it/s]"
     ]
    },
    {
     "name": "stdout",
     "output_type": "stream",
     "text": [
      "(10,)\n",
      "[    0.14306     0.32968     0.16073     0.75264     0.90061     0.67049     0.88294     0.24753]\n",
      "(10,)\n",
      "[    0.20473     0.48621     0.21228     0.60712     0.85132     0.50103     0.84377     0.38012]\n",
      "(10,)\n",
      "[    0.10741     0.42963     0.12606     0.93111     0.95259     0.75934     0.93394     0.25786]\n",
      "(10,)\n",
      "[    0.12785     0.59209     0.13105     0.68777     0.85467     0.55282     0.85148     0.45714]\n",
      "(10,)\n",
      "[    0.22404     0.78414     0.46877     0.85968     0.75102     0.32881     0.50628     0.25327]\n",
      "(10,)\n",
      "[       0.35     0.76063     0.42936     0.78329     0.65457     0.32541     0.57521     0.30275]\n"
     ]
    },
    {
     "name": "stderr",
     "output_type": "stream",
     "text": [
      " 69%|██████▉   | 204/294 [00:17<00:07, 12.05it/s]"
     ]
    },
    {
     "name": "stdout",
     "output_type": "stream",
     "text": [
      "(10,)\n",
      "[    0.89596     0.74368     0.90787      0.2879      0.1131     0.20292     0.10118      0.6587]\n",
      "(10,)\n",
      "[    0.82518     0.98996      0.9502     0.43933     0.28838    -0.10235     0.16337     0.44829]\n",
      "(10,)\n",
      "[    0.25891      0.4834     0.48934      1.0093     0.92722     0.31777      0.6968    -0.20818]\n",
      "(10,)\n",
      "[    0.11518     0.52454     0.12074     0.65025     0.86059     0.53152     0.85503     0.40582]\n",
      "(10,)\n",
      "[    0.07497     0.31301    0.094838     0.85044     0.88919     0.74387     0.86932     0.20644]\n"
     ]
    },
    {
     "name": "stderr",
     "output_type": "stream",
     "text": [
      " 71%|███████   | 208/294 [00:17<00:07, 12.19it/s]"
     ]
    },
    {
     "name": "stdout",
     "output_type": "stream",
     "text": [
      "(10,)\n",
      "[   0.086023     0.31834     0.10222     0.85751     0.86926     0.77743     0.85306     0.23826]\n",
      "(10,)\n",
      "[    0.17072     0.51814     0.17547     0.64304     0.83625     0.55574      0.8315     0.43083]\n",
      "(10,)\n",
      "[    0.26198     0.79041     0.74253     0.78801     0.73322     0.25076     0.25267     0.25316]\n",
      "(10,)\n",
      "[    0.45552     0.77425     0.57414     0.77133     0.52839     0.23462     0.40977     0.23754]\n",
      "(10,)\n",
      "[    0.10143     0.22343     0.12592     0.82784     0.92361     0.67575     0.89912     0.07133]\n",
      "(10,)\n",
      "[    0.82125     0.63319     0.82603     0.44733     0.17988     0.36917      0.1751     0.55502]\n"
     ]
    },
    {
     "name": "stderr",
     "output_type": "stream",
     "text": [
      " 71%|███████▏  | 210/294 [00:17<00:06, 12.19it/s]"
     ]
    },
    {
     "name": "stdout",
     "output_type": "stream",
     "text": [
      "(10,)\n",
      "[   -0.02893     0.31443   0.0047368     0.77444     0.91466     0.60129       0.881     0.14128]\n",
      "(10,)\n",
      "[     0.1596     0.44951     0.16469     0.55453     0.83932     0.46948     0.83422     0.36446]\n",
      "(10,)\n",
      "[    0.79805      0.8726     0.89443        0.61     0.18417     0.18427     0.08779     0.44686]\n",
      "(10,)\n",
      "[     0.7828     0.74118      0.8093     0.66838     0.20142     0.30698     0.17492     0.37978]\n",
      "(10,)\n",
      "[    0.15969     0.68629     0.68496     0.71674     0.80924      0.2575     0.28397     0.22705]\n",
      "(10,)\n",
      "[    0.36693      0.6986     0.51588     0.70397     0.59354     0.24254     0.44458     0.23716]\n"
     ]
    },
    {
     "name": "stderr",
     "output_type": "stream",
     "text": [
      " 73%|███████▎  | 214/294 [00:17<00:06, 12.19it/s]"
     ]
    },
    {
     "name": "stdout",
     "output_type": "stream",
     "text": [
      "(10,)\n",
      "[    0.92898     0.86805     0.94281     0.34726    0.073033     0.22515    0.059205     0.74594]\n",
      "(10,)\n",
      "[    0.83079     0.66334     0.83504     0.51441     0.10381     0.40402    0.099556     0.55295]\n",
      "(10,)\n",
      "[    0.87915     0.87396     0.94098     0.55623     0.13158     0.23194     0.06974     0.54966]\n",
      "(10,)\n",
      "[     0.8656     0.72631     0.87989       0.649     0.15989     0.37497      0.1456     0.45228]\n",
      "Skipping 27.923303_76.4696855.txt: corresponding .txt file not found.\n",
      "(10,)\n",
      "[    0.73318     0.87387     0.81462     0.62205     0.17083     0.19688    0.089389      0.4487]\n",
      "(10,)\n",
      "[    0.72341     0.75617     0.74598      0.6847     0.20211     0.33398     0.17954     0.40545]\n"
     ]
    },
    {
     "name": "stderr",
     "output_type": "stream",
     "text": [
      " 74%|███████▍  | 217/294 [00:18<00:05, 13.72it/s]"
     ]
    },
    {
     "name": "stdout",
     "output_type": "stream",
     "text": [
      "(10,)\n",
      "[    0.12261     0.30197     0.13216     0.87255       0.903     0.82068     0.89345     0.25011]\n",
      "(10,)\n",
      "[     0.1716     0.54865     0.17729      0.7183     0.85175     0.62735     0.84606      0.4577]\n",
      "(10,)\n",
      "[   0.064119     0.24073    0.080376     0.82785     0.93257     0.70276     0.91632     0.11564]\n",
      "(10,)\n",
      "[   0.093521     0.45569    0.098618     0.59334     0.80395      0.4549     0.79885     0.31725]\n",
      "(10,)\n",
      "[    0.64944     0.87349     0.83957     0.74869     0.35431     0.13558     0.16417     0.26038]\n",
      "(10,)\n",
      "[    0.70618     0.79244      0.7455     0.76509     0.27376     0.20263     0.23444     0.22998]\n"
     ]
    },
    {
     "name": "stderr",
     "output_type": "stream",
     "text": [
      " 75%|███████▌  | 221/294 [00:18<00:05, 12.64it/s]"
     ]
    },
    {
     "name": "stdout",
     "output_type": "stream",
     "text": [
      "(10,)\n",
      "[    0.16607     0.77741     0.70098     0.79538     0.76344     0.25984     0.22853     0.24188]\n",
      "(10,)\n",
      "[    0.35367      0.7671     0.50161     0.77177     0.56038     0.23611     0.41244     0.23144]\n",
      "(10,)\n",
      "[    0.18308      0.7497     0.44434     0.83841     0.84751     0.20585     0.58624     0.11713]\n",
      "(10,)\n",
      "[    0.30871     0.72857     0.38719     0.75592      0.7474     0.20519     0.66892     0.17785]\n",
      "(10,)\n",
      "[     0.9367     0.90904     0.96143     0.40074    0.082974     0.24152    0.058238     0.74982]\n",
      "(10,)\n",
      "[    0.85597     0.72548     0.86312     0.53687     0.12022     0.43192     0.11307     0.62054]\n"
     ]
    },
    {
     "name": "stderr",
     "output_type": "stream",
     "text": [
      " 76%|███████▌  | 223/294 [00:18<00:05, 12.42it/s]"
     ]
    },
    {
     "name": "stdout",
     "output_type": "stream",
     "text": [
      "(10,)\n",
      "[    0.43259     0.85931     0.57394     0.85598     0.53024     0.31824     0.38888     0.32157]\n",
      "(10,)\n",
      "[    0.26028     0.81045      0.7693     0.79558      0.7151     0.25811     0.20609     0.27298]\n",
      "(10,)\n",
      "[    0.12881     0.79031     0.66349     0.81649     0.75881     0.30751     0.22413     0.28134]\n",
      "(10,)\n",
      "[    0.32157     0.82427     0.47585     0.83328     0.58933     0.32529     0.43506     0.31628]\n",
      "(10,)\n",
      "[   0.051442     0.26209    0.090768     0.92202     0.93142      0.6893     0.89209    0.029372]\n",
      "(10,)\n",
      "[   0.086831     0.45321    0.096183     0.64551     0.83526     0.47855     0.82591     0.28625]\n",
      "(10,)\n",
      "[    0.11932     0.65478      0.2257      1.0975     0.80754     0.44812     0.70116    0.005371]\n"
     ]
    },
    {
     "name": "stderr",
     "output_type": "stream",
     "text": [
      " 77%|███████▋  | 227/294 [00:18<00:05, 11.99it/s]"
     ]
    },
    {
     "name": "stdout",
     "output_type": "stream",
     "text": [
      "(10,)\n",
      "[   0.051814     0.21137    0.062401     0.70911     0.87094     0.64706     0.86035     0.14933]\n",
      "(10,)\n",
      "[    0.10722     0.41637     0.11199     0.55932     0.81413     0.47472     0.80935     0.33177]\n",
      "(10,)\n",
      "[    0.46499     0.70434     0.88349     0.70652     0.89428     0.22405     0.47579     0.22187]\n",
      "(10,)\n",
      "[    0.70437     0.86682     0.88296     0.68835     0.28524    0.087608     0.10664     0.26609]\n",
      "(10,)\n",
      "[    0.72824     0.77533     0.77899     0.72551     0.25682     0.19123     0.20607     0.24105]\n"
     ]
    },
    {
     "name": "stderr",
     "output_type": "stream",
     "text": [
      " 78%|███████▊  | 229/294 [00:19<00:05, 11.96it/s]"
     ]
    },
    {
     "name": "stdout",
     "output_type": "stream",
     "text": [
      "(10,)\n",
      "[    0.90566     0.82875     0.93586     0.36824     0.09933     0.17272    0.069132     0.63323]\n",
      "(10,)\n",
      "[    0.85596     0.64363     0.86326     0.50513     0.12663      0.3666     0.11932     0.50509]\n",
      "(10,)\n",
      "[    0.20509     0.73654     0.66409     0.74935     0.71594     0.21228     0.25694     0.19946]\n",
      "(10,)\n",
      "[    0.36598      0.7345     0.49022     0.73746     0.53449     0.20019     0.41026     0.19723]\n",
      "(10,)\n",
      "[    0.85171     0.72062     0.85905     0.31686     0.17528     0.26846     0.16793     0.67221]\n",
      "(10,)\n",
      "[    0.81369     0.57533     0.81685     0.45969     0.21031     0.39524     0.20715     0.51089]\n"
     ]
    },
    {
     "name": "stderr",
     "output_type": "stream",
     "text": [
      " 79%|███████▉  | 233/294 [00:19<00:05, 12.00it/s]"
     ]
    },
    {
     "name": "stdout",
     "output_type": "stream",
     "text": [
      "(10,)\n",
      "[     0.1562      0.2886     0.16377     0.73674      1.0435       0.709      1.0359     0.26086]\n",
      "(10,)\n",
      "[    0.24052     0.79994     0.69901     0.82803     0.79522     0.19717     0.33673     0.16908]\n",
      "(10,)\n",
      "[    0.42483     0.83449     0.55904     0.83936     0.61626      0.2066     0.48205     0.20172]\n",
      "(10,)\n",
      "[     0.7646     0.69676      0.7983     0.61606     0.22009     0.26835     0.18639     0.34904]\n",
      "(10,)\n",
      "[    0.78241     0.82239     0.89241     0.57037     0.22476     0.15075     0.11477     0.40276]\n"
     ]
    },
    {
     "name": "stderr",
     "output_type": "stream",
     "text": [
      " 80%|███████▉  | 235/294 [00:19<00:04, 12.05it/s]"
     ]
    },
    {
     "name": "stdout",
     "output_type": "stream",
     "text": [
      "(10,)\n",
      "[    0.15744     0.73394     0.64943     0.79527     0.84925     0.19632     0.35726       0.135]\n",
      "(10,)\n",
      "[    0.45513     0.88657     0.61718     0.87861     0.53709      0.2693     0.37503     0.27725]\n",
      "(10,)\n",
      "[    0.11274     0.32716     0.13388     0.88089     0.93861     0.69153     0.91747      0.1378]\n",
      "(10,)\n",
      "[    0.14702     0.54638     0.15449     0.68663     0.88046     0.44844       0.873     0.30819]\n",
      "(10,)\n",
      "[    0.16003     0.78044      0.6255     0.79683      0.6913       0.264     0.22582     0.24761]\n",
      "(10,)\n",
      "[    0.30863     0.75336     0.42941     0.75843     0.50774     0.22609     0.38695     0.22102]\n"
     ]
    },
    {
     "name": "stderr",
     "output_type": "stream",
     "text": [
      " 81%|████████▏ | 239/294 [00:19<00:04, 11.95it/s]"
     ]
    },
    {
     "name": "stdout",
     "output_type": "stream",
     "text": [
      "(10,)\n",
      "[    0.21501     0.77567     0.67979     0.79466     0.75459     0.25143     0.28981     0.23244]\n",
      "(10,)\n",
      "[    0.39496     0.79959     0.51949     0.80223     0.55836     0.25788     0.43383     0.25524]\n",
      "(10,)\n",
      "[    0.26663     0.88462     0.72037     0.90782     0.79797     0.25284     0.34422     0.22964]\n",
      "(10,)\n",
      "[    0.43149      1.0136     0.56332       1.018     0.61395     0.36188     0.48212     0.35748]\n",
      "(10,)\n",
      "[     0.8712      0.8703     0.88197      0.3224     0.10591      0.2493    0.095134      0.7972]\n",
      "(10,)\n",
      "[    0.82477     0.69881     0.83149     0.51738     0.15312     0.39695      0.1464     0.57839]\n"
     ]
    },
    {
     "name": "stderr",
     "output_type": "stream",
     "text": [
      " 82%|████████▏ | 241/294 [00:20<00:04, 12.11it/s]"
     ]
    },
    {
     "name": "stdout",
     "output_type": "stream",
     "text": [
      "(10,)\n",
      "[    0.89069     0.81325     0.89471     0.30227     0.12955     0.28025     0.12553     0.79122]\n",
      "(10,)\n",
      "[      0.873     0.69037     0.88001     0.50376     0.15953     0.40481     0.15251     0.59142]\n",
      "(10,)\n",
      "[    0.94008     0.92701     0.96106     0.38313    0.066047     0.17676     0.04506     0.72064]\n",
      "(10,)\n",
      "[    0.79871     0.66257     0.80319     0.53253     0.15482     0.39895     0.15033       0.529]\n",
      "(10,)\n",
      "[   0.042192     0.24112    0.074439     0.77832     0.92634      0.6718     0.89409     0.13461]\n",
      "(10,)\n",
      "[    0.10985     0.45132     0.11858     0.57549     0.82909     0.47144     0.82036     0.34727]\n"
     ]
    },
    {
     "name": "stderr",
     "output_type": "stream",
     "text": [
      " 83%|████████▎ | 245/294 [00:20<00:04, 12.07it/s]"
     ]
    },
    {
     "name": "stdout",
     "output_type": "stream",
     "text": [
      "(10,)\n",
      "[    0.82178     0.78339     0.85132     0.36208     0.10621     0.20629    0.076668      0.6276]\n",
      "(10,)\n",
      "[    0.78097     0.60918     0.78662     0.49525     0.13778     0.39928     0.13213     0.51321]\n",
      "(10,)\n",
      "[    0.85415     0.74068     0.87608     0.23399     0.14378     0.13046     0.12184     0.63715]\n",
      "(10,)\n",
      "[    0.85488     0.52571     0.85892     0.39042     0.16787     0.32304     0.16383     0.45833]\n",
      "(10,)\n",
      "[    0.85995       0.796     0.88623     0.42368     0.14847     0.27379     0.12219     0.64611]\n",
      "(10,)\n",
      "[    0.84776     0.64694     0.85383     0.54491     0.16408     0.42677     0.15801      0.5288]\n"
     ]
    },
    {
     "name": "stderr",
     "output_type": "stream",
     "text": [
      " 84%|████████▍ | 247/294 [00:20<00:03, 12.02it/s]"
     ]
    },
    {
     "name": "stdout",
     "output_type": "stream",
     "text": [
      "(10,)\n",
      "[    0.36375     0.82143     0.50385     0.82656     0.56228     0.20166     0.42218     0.19653]\n",
      "(10,)\n",
      "[    0.20765     0.80731     0.65794     0.82889     0.73428     0.20475     0.28399     0.18316]\n",
      "(10,)\n",
      "[    0.18301     0.78035     0.51329     0.86355     0.85301     0.20758     0.52272     0.12437]\n",
      "(10,)\n",
      "[    0.29841     0.82039     0.41847     0.84796     0.73126      0.1855      0.6112     0.15793]\n",
      "(10,)\n",
      "[    0.80167     0.80893     0.86933     0.54141      0.2028     0.19058     0.13513     0.45811]\n",
      "(10,)\n",
      "[    0.78043     0.68824     0.79809     0.61823     0.19966     0.30405       0.182     0.37405]\n"
     ]
    },
    {
     "name": "stderr",
     "output_type": "stream",
     "text": [
      " 85%|████████▌ | 251/294 [00:20<00:03, 11.96it/s]"
     ]
    },
    {
     "name": "stdout",
     "output_type": "stream",
     "text": [
      "(10,)\n",
      "[    0.87562     0.86239     0.89373     0.35658     0.12639     0.24671     0.10828     0.75252]\n",
      "(10,)\n",
      "[    0.87624     0.67471     0.88022     0.53405       0.154     0.45194     0.15002     0.59259]\n",
      "(10,)\n",
      "[    0.30278     0.77494     0.82588     0.74329     0.71061     0.22534     0.18752     0.25699]\n",
      "(10,)\n",
      "[   -0.29637     0.63515     0.67508     0.81509      1.0098     0.32375     0.03837     0.14381]\n",
      "(10,)\n",
      "[    0.19001     0.80364      0.4768     0.88394     0.84131     0.21785     0.55453     0.13756]\n",
      "(10,)\n",
      "[    0.31484     0.81261     0.39785     0.83465     0.71613     0.22131     0.63311     0.19926]\n"
     ]
    },
    {
     "name": "stderr",
     "output_type": "stream",
     "text": [
      " 86%|████████▌ | 253/294 [00:21<00:03, 12.12it/s]"
     ]
    },
    {
     "name": "stdout",
     "output_type": "stream",
     "text": [
      "(10,)\n",
      "[    0.91419     0.81567     0.93628     0.35531     0.12583     0.23247     0.10374     0.69283]\n",
      "(10,)\n",
      "[    0.87735     0.67022     0.88515     0.53729     0.15195      0.4013     0.14414     0.53422]\n",
      "(10,)\n",
      "[    0.74276     0.77914     0.82717     0.48272    0.047655      0.1195   -0.036759     0.41591]\n",
      "(10,)\n",
      "[    0.68202     0.62869     0.70463     0.54468     0.02089     0.24349  -0.0017266     0.32749]\n",
      "(10,)\n",
      "[    0.70411     0.65097     0.72718     0.56893     0.44402     0.43862     0.42095     0.52066]\n",
      "(10,)\n",
      "[    0.12615     0.71009     0.83033     0.75682     0.96188     0.26116      0.2577     0.21444]\n",
      "(10,)\n",
      "[    0.38111     0.73971     0.51867     0.74518     0.59797     0.24676     0.46041     0.24129]\n"
     ]
    },
    {
     "name": "stderr",
     "output_type": "stream",
     "text": [
      " 87%|████████▋ | 257/294 [00:21<00:03, 12.02it/s]"
     ]
    },
    {
     "name": "stdout",
     "output_type": "stream",
     "text": [
      "(10,)\n",
      "[    0.18835      0.7587     0.73599     0.77972      0.8101     0.26463     0.26245     0.24361]\n",
      "(10,)\n",
      "[    0.37036     0.75545     0.53227     0.76022     0.58923     0.24455     0.42732     0.23978]\n",
      "(10,)\n",
      "[    0.20337      0.7281     0.69018     0.74802     0.77689     0.27975     0.29009     0.25983]\n",
      "(10,)\n",
      "[    0.38377     0.71947      0.5142     0.72476     0.60014     0.25646     0.46971     0.25117]\n",
      "(10,)\n",
      "[    0.14557     0.74776     0.66278     0.76585     0.72665     0.22046     0.20944     0.20237]\n",
      "(10,)\n",
      "[    0.33685      0.7674     0.44791     0.77212     0.52543     0.22725     0.41437     0.22254]\n"
     ]
    },
    {
     "name": "stderr",
     "output_type": "stream",
     "text": [
      " 88%|████████▊ | 259/294 [00:21<00:02, 11.98it/s]"
     ]
    },
    {
     "name": "stdout",
     "output_type": "stream",
     "text": [
      "(10,)\n",
      "[    0.11243     0.52457      0.1214     0.68661     0.86174     0.53663     0.85277     0.37459]\n",
      "(10,)\n",
      "[   0.087669     0.30476     0.10762     0.83456     0.92759     0.72168     0.90764     0.19188]\n",
      "(10,)\n",
      "[    0.83789     0.74941     0.85617     0.29642     0.14379      0.1864     0.12551     0.63939]\n",
      "(10,)\n",
      "[    0.79408     0.68775     0.81164     0.50826     0.18239     0.27267     0.16482     0.45216]\n",
      "(10,)\n",
      "[    0.53593      1.2153     0.87509      0.6772     0.41892    -0.32605    0.079756     0.21207]\n"
     ]
    },
    {
     "name": "stderr",
     "output_type": "stream",
     "text": [
      " 89%|████████▉ | 263/294 [00:21<00:02, 11.92it/s]"
     ]
    },
    {
     "name": "stdout",
     "output_type": "stream",
     "text": [
      "(10,)\n",
      "[     0.1733     0.76703     0.69037     0.78879     0.76602     0.23574     0.24895     0.21397]\n",
      "(10,)\n",
      "[    0.35512     0.81072     0.53207     0.81419     0.56743     0.25989     0.39048     0.25642]\n",
      "(10,)\n",
      "[    0.89542     0.85293     0.92555       0.408     0.11461     0.23847    0.084472     0.68339]\n",
      "(10,)\n",
      "[     0.8753     0.66307     0.88134     0.55003     0.15097     0.42954     0.14493     0.54258]\n",
      "(10,)\n",
      "[    0.30782     0.84288     0.79407     0.79715     0.65068     0.15468     0.16442     0.20042]\n",
      "(10,)\n",
      "[    0.36661     0.76406     0.51716     0.78838     0.72613     0.24315     0.57558     0.21883]\n",
      "(10,)\n",
      "[     0.4748     0.82087     0.63725     0.80992     0.53438     0.16723     0.37194     0.17819]\n",
      "(10,)\n",
      "[    0.72414      0.7211     0.86925      0.6175     0.23482     0.24299    0.089709     0.34659]\n"
     ]
    },
    {
     "name": "stderr",
     "output_type": "stream",
     "text": [
      " 90%|█████████ | 265/294 [00:22<00:02, 11.91it/s]"
     ]
    },
    {
     "name": "stdout",
     "output_type": "stream",
     "text": [
      "(10,)\n",
      "[    0.67082     0.88799     0.83286     0.69074     0.26238     0.14075     0.10034       0.338]\n",
      "(10,)\n",
      "[    0.69206     0.77381     0.73847      0.7166     0.23596     0.23815     0.18954     0.29537]\n",
      "(10,)\n",
      "[    0.88569     0.51891     0.90323      0.1453      0.1855    0.042974     0.16796     0.41658]\n",
      "(10,)\n",
      "[    0.86724     0.35732     0.87173     0.26738     0.22736      0.1697     0.22287     0.25964]\n",
      "(10,)\n",
      "[    0.76653     0.78391     0.83349     0.52648     0.16071     0.20453    0.093755     0.46196]\n",
      "(10,)\n",
      "[    0.73028     0.65902     0.74835     0.58734     0.20319     0.33437     0.18511     0.40605]\n"
     ]
    },
    {
     "name": "stderr",
     "output_type": "stream",
     "text": [
      " 91%|█████████▏| 269/294 [00:22<00:02, 12.14it/s]"
     ]
    },
    {
     "name": "stdout",
     "output_type": "stream",
     "text": [
      "(10,)\n",
      "[    0.21747     0.75416     0.72068     0.74851      0.6966     0.28213     0.19338     0.28779]\n",
      "(10,)\n",
      "[    0.39515     0.71855     0.55921     0.71391      0.4986     0.24825     0.33454      0.2529]\n",
      "(10,)\n",
      "[    0.17059     0.78595     0.68836     0.81043     0.77947     0.29579     0.26169     0.27131]\n",
      "(10,)\n",
      "[    0.36481     0.79227     0.52471     0.79728     0.58516     0.28143     0.42527     0.27642]\n",
      "(10,)\n",
      "[    0.12687     0.56901     0.22923     0.81772     0.85634     0.44212     0.75398     0.19342]\n",
      "(10,)\n",
      "[    0.22183     0.61287     0.24998     0.68151     0.77342     0.36913     0.74527     0.30049]\n"
     ]
    },
    {
     "name": "stderr",
     "output_type": "stream",
     "text": [
      " 92%|█████████▏| 271/294 [00:22<00:01, 11.90it/s]"
     ]
    },
    {
     "name": "stdout",
     "output_type": "stream",
     "text": [
      "(10,)\n",
      "[    0.37404     0.77329     0.52329     0.77802      0.5826     0.24529     0.43334     0.24056]\n",
      "(10,)\n",
      "[    0.19268     0.77341     0.72112      0.7953      0.7985     0.26323     0.27007     0.24134]\n",
      "(10,)\n",
      "[    0.38568     0.78008     0.53733     0.77501     0.47442     0.24572     0.32277     0.25079]\n",
      "(10,)\n",
      "[    0.21199     0.79815     0.68633     0.78857     0.64829     0.25861     0.17395     0.26819]\n",
      "(10,)\n",
      "[    0.90251     0.81344     0.92325     0.35391     0.10338      0.2111    0.082638     0.67064]\n",
      "(10,)\n",
      "[    0.85701     0.63953     0.86277      0.4629     0.12363     0.36993     0.11787     0.54656]\n"
     ]
    },
    {
     "name": "stderr",
     "output_type": "stream",
     "text": [
      " 94%|█████████▎| 275/294 [00:22<00:01, 11.93it/s]"
     ]
    },
    {
     "name": "stdout",
     "output_type": "stream",
     "text": [
      "(10,)\n",
      "[     0.2695      0.7641     0.76067     0.74552     0.69124     0.20341     0.20007     0.22199]\n",
      "(10,)\n",
      "[    0.42681     0.74993     0.62099     0.73868     0.51498     0.19832     0.32081     0.20957]\n",
      "(10,)\n",
      "[    0.11216     0.61419     0.64003     0.73072     0.94488      0.3229     0.41702     0.20637]\n",
      "(10,)\n",
      "[     0.1944     0.75827     0.44814     0.85725      0.8652     0.22671     0.61145     0.12772]\n",
      "(10,)\n",
      "[    0.31962     0.75367     0.40382     0.78407     0.75254     0.21428     0.66835     0.18389]\n",
      "(10,)\n",
      "[     0.1081     0.29813     0.11687     0.80682     0.90082     0.75999     0.89205     0.25129]\n",
      "(10,)\n",
      "[    0.14398     0.53902     0.14915      0.6685     0.88466     0.56669     0.87948     0.43721]\n"
     ]
    },
    {
     "name": "stderr",
     "output_type": "stream",
     "text": [
      " 94%|█████████▍| 277/294 [00:23<00:01, 12.01it/s]"
     ]
    },
    {
     "name": "stdout",
     "output_type": "stream",
     "text": [
      "(10,)\n",
      "[    0.15457     0.79941     0.41313      0.8827     0.81637     0.21375     0.55782     0.13046]\n",
      "(10,)\n",
      "[    0.28025     0.80176     0.35172     0.82289     0.69756     0.19782     0.62609     0.17669]\n",
      "(10,)\n",
      "[    0.43797     0.79585     0.59282     0.78734     0.50323     0.17838     0.34838      0.1869]\n",
      "(10,)\n",
      "[    0.27165     0.77333     0.73456       0.754     0.66641       0.144     0.20349     0.16334]\n",
      "(10,)\n",
      "[    0.22539     0.81382     0.67104     0.83357     0.74658     0.25011     0.30093     0.23036]\n",
      "(10,)\n",
      "[    0.36666     0.81553     0.53123     0.82091     0.58706     0.23669     0.42249     0.23131]\n"
     ]
    },
    {
     "name": "stderr",
     "output_type": "stream",
     "text": [
      " 96%|█████████▌| 282/294 [00:23<00:00, 13.82it/s]"
     ]
    },
    {
     "name": "stdout",
     "output_type": "stream",
     "text": [
      "(10,)\n",
      "[    0.61052     0.79633      0.7433     0.78019     0.53779      0.2136     0.40501     0.22974]\n",
      "(10,)\n",
      "[    0.44661     0.80367     0.85779     0.75246     0.64747     0.18646     0.23629     0.23767]\n",
      "Skipping 27.97971863399117_77.21360155439373.txt: corresponding .txt file not found.\n",
      "(10,)\n",
      "[    0.20527     0.70734     0.73173     0.74618     0.85277     0.14569     0.32632     0.10685]\n",
      "(10,)\n",
      "[    0.35996     0.75046     0.50392     0.76523     0.67111      0.1688     0.52716     0.15404]\n",
      "(10,)\n",
      "[    0.76696      0.8219     0.86825     0.59562      0.1978     0.13923     0.09651     0.36551]\n",
      "(10,)\n",
      "[    0.79702     0.71596     0.82239     0.65511     0.17538     0.24492     0.15001     0.30577]\n"
     ]
    },
    {
     "name": "stderr",
     "output_type": "stream",
     "text": [
      " 97%|█████████▋| 284/294 [00:23<00:00, 13.24it/s]"
     ]
    },
    {
     "name": "stdout",
     "output_type": "stream",
     "text": [
      "(10,)\n",
      "[    0.16183     0.74157     0.39765     0.88739     0.85305     0.29379     0.61723     0.14797]\n",
      "(10,)\n",
      "[    0.28567     0.76992     0.33971      0.8031     0.73246     0.28754     0.67842     0.25436]\n",
      "(10,)\n",
      "[    0.82694     0.69672     0.89267     0.35625     0.18999    0.026903     0.12426     0.36738]\n",
      "(10,)\n",
      "[    0.83514     0.55254     0.85297     0.44989     0.17893     0.16566      0.1611     0.26831]\n",
      "(10,)\n",
      "[    0.71673     0.77217     0.77609     0.44872     0.14071     0.19031    0.081349     0.51376]\n",
      "(10,)\n",
      "[     0.6903      0.6601     0.71023     0.55754     0.14185     0.31278     0.12192     0.41534]\n"
     ]
    },
    {
     "name": "stderr",
     "output_type": "stream",
     "text": [
      " 98%|█████████▊| 288/294 [00:23<00:00, 12.65it/s]"
     ]
    },
    {
     "name": "stdout",
     "output_type": "stream",
     "text": [
      "(10,)\n",
      "[      0.116     0.78157     0.44324     0.86937     0.80055     0.21431     0.47331     0.12651]\n",
      "(10,)\n",
      "[    0.26548     0.79755      0.3553     0.81905     0.65389     0.20547     0.56408     0.18397]\n",
      "(10,)\n",
      "[    0.84958     0.93746     0.90263     0.40965     0.11732    0.068607     0.06426     0.59642]\n",
      "(10,)\n",
      "[    0.82217     0.66255     0.82907     0.53213     0.13525     0.37342     0.12834     0.50384]\n",
      "(10,)\n",
      "[    0.20163     0.81329     0.53988     0.89401     0.86765     0.24421     0.52939      0.1635]\n",
      "(10,)\n",
      "[    0.33994     0.82026     0.44128     0.84297     0.73069     0.23204     0.62935     0.20933]\n"
     ]
    },
    {
     "name": "stderr",
     "output_type": "stream",
     "text": [
      " 99%|█████████▊| 290/294 [00:24<00:00, 12.61it/s]"
     ]
    },
    {
     "name": "stdout",
     "output_type": "stream",
     "text": [
      "(10,)\n",
      "[     0.8167     0.78111     0.85209     0.49919     0.17216     0.28376     0.13677     0.56568]\n",
      "(10,)\n",
      "[    0.74979     0.80921     0.80951     0.51858     0.19441     0.25578     0.13468     0.54641]\n",
      "(10,)\n",
      "[     0.7204     0.69584     0.73859      0.6091     0.20659     0.37719      0.1884     0.46394]\n",
      "(10,)\n",
      "[    0.11116     0.71828     0.40647     0.80122     0.77226     0.13612     0.47694    0.053179]\n",
      "(10,)\n",
      "[    0.23145      0.7119     0.32114     0.73671     0.64019     0.14765      0.5505     0.12284]\n"
     ]
    },
    {
     "name": "stderr",
     "output_type": "stream",
     "text": [
      "100%|██████████| 294/294 [00:24<00:00, 12.06it/s]"
     ]
    },
    {
     "name": "stdout",
     "output_type": "stream",
     "text": [
      "(10,)\n",
      "[    0.10422     0.81427     0.65668     0.85601     0.79029     0.30069     0.23783     0.25895]\n",
      "(10,)\n",
      "[    0.29389     0.84134     0.52009     0.85278     0.60998     0.29471     0.38378     0.28327]\n",
      "(10,)\n",
      "[    0.19741     0.79526     0.67824     0.82826     0.78949     0.21898     0.30866     0.18598]\n",
      "(10,)\n",
      "[    0.38505     0.79388       0.519      0.8005     0.59931      0.1894     0.46535     0.18279]\n"
     ]
    },
    {
     "name": "stderr",
     "output_type": "stream",
     "text": [
      "\n"
     ]
    }
   ],
   "source": [
    "import os\n",
    "import numpy as np\n",
    "from tqdm import tqdm\n",
    "from os.path import join, basename, exists\n",
    "\n",
    "# Deleting all predictions before proceeding\n",
    "os.system(f\"curl -H 'Authorization: Token {API_KEY}' -X POST \\\"localhost:8082/api/dm/actions?id=delete_tasks_predictions&project={project.id}\\\"\")\n",
    "\n",
    "for task in tqdm(tasks):\n",
    "    image_path = task['storage_filename']\n",
    "    txt_name = basename(image_path).replace(\".png\", \".txt\")\n",
    "    txt_path = join(pred_txt_path, txt_name)\n",
    "    \n",
    "    # Check if the .txt file exists\n",
    "    if not exists(txt_path):\n",
    "        print(f\"Skipping {txt_name}: corresponding .txt file not found.\")\n",
    "        continue\n",
    "\n",
    "    # Load predictions from the .txt file\n",
    "    preds = np.loadtxt(txt_path)\n",
    "    preds = np.atleast_2d(preds)\n",
    "\n",
    "    results = []\n",
    "    for pred in preds:\n",
    "        print(pred.shape)\n",
    "        label_id = int(pred[0])\n",
    "        print(pred[1:9])\n",
    "\n",
    "        x1, y1, x2, y2, x3, y3, x4, y4 = pred[1:9]\n",
    "        score = pred[-1]\n",
    "    #     # Convert YOLO OBB to Label Studio format\n",
    "        prediction = yolo_obb_to_label_studio_json(label_id, x1, y1, x2, y2, x3, y3, x4, y4, score)\n",
    "        results.append(prediction['result'][0])\n",
    "\n",
    "    if len(results) > 0:\n",
    "    #     # Create prediction in Label Studio\n",
    "        project.create_prediction(task['id'], results, model_version=\"v1\")\n"
   ]
  },
  {
   "cell_type": "markdown",
   "metadata": {},
   "source": [
    "## Appendix"
   ]
  },
  {
   "cell_type": "code",
   "execution_count": null,
   "metadata": {},
   "outputs": [],
   "source": [
    "# areas = []\n",
    "# for item in json_list:\n",
    "#     for pred in item[\"predictions\"]:\n",
    "#         area = pred['result'][0]['value']['width'] * pred['result'][0]['value']['height']\n",
    "#         area = area * (1120 * 1120) / (100 * 100)\n",
    "#         areas.append(area)\n",
    "# len(areas)"
   ]
  },
  {
   "cell_type": "code",
   "execution_count": null,
   "metadata": {},
   "outputs": [],
   "source": [
    "# max(areas), min(areas), np.mean(areas), np.median(areas)"
   ]
  },
  {
   "cell_type": "code",
   "execution_count": null,
   "metadata": {},
   "outputs": [],
   "source": [
    "# import seaborn as sns\n",
    "\n",
    "# sns.kdeplot(areas)"
   ]
  },
  {
   "cell_type": "code",
   "execution_count": null,
   "metadata": {},
   "outputs": [],
   "source": [
    "# (areas < np.mean(areas) - 2 * np.std(areas)).sum()"
   ]
  }
 ],
 "metadata": {
  "kernelspec": {
   "display_name": "rishabh_sat",
   "language": "python",
   "name": "python3"
  },
  "language_info": {
   "codemirror_mode": {
    "name": "ipython",
    "version": 3
   },
   "file_extension": ".py",
   "mimetype": "text/x-python",
   "name": "python",
   "nbconvert_exporter": "python",
   "pygments_lexer": "ipython3",
   "version": "3.12.4"
  }
 },
 "nbformat": 4,
 "nbformat_minor": 2
}
