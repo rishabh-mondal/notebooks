{
 "cells": [
  {
   "cell_type": "code",
   "execution_count": 10,
   "metadata": {},
   "outputs": [],
   "source": [
    "import os\n",
    "os.environ[\"LABEL_STUDIO_LOCAL_FILES_DOCUMENT_ROOT\"] = \"/home/rishabh.mondal/Brick-Kilns-project/ijcai_2025_kilns/data\"\n",
    "\n",
    "import sys\n",
    "import requests\n",
    "from os.path import join, exists, basename\n",
    "from glob import glob\n",
    "from label_studio_sdk import Client\n",
    "from copy import deepcopy\n",
    "\n",
    "import torch\n",
    "import numpy as np\n",
    "from ultralytics.utils.ops import xyxyxyxy2xywhr, xywhr2xyxyxyxy\n",
    "from ultralytics.utils.metrics import probiou\n",
    "from tqdm.notebook import tqdm\n",
    "\n",
    "import matplotlib.pyplot as plt\n",
    "import warnings\n",
    "\n",
    "from joblib import Parallel, delayed\n",
    "\n",
    "sys.path.append(\"/home/patel_zeel/kilns_neurips24/scripts\")"
   ]
  },
  {
   "cell_type": "code",
   "execution_count": 11,
   "metadata": {},
   "outputs": [],
   "source": [
    "from utils import yolo_obb_to_label_studio_json"
   ]
  },
  {
   "cell_type": "markdown",
   "metadata": {},
   "source": [
    "## Label Studio Initialize"
   ]
  },
  {
   "cell_type": "code",
   "execution_count": 12,
   "metadata": {},
   "outputs": [],
   "source": [
    "LABEL_STUDIO_URL = 'http://10.0.62.168:8082'\n",
    "API_KEY = '2557d98fa3032fc9a2eb033baf2775ebc2e1a0ef'\n",
    "\n",
    "ls = Client(url=LABEL_STUDIO_URL, api_key=API_KEY)"
   ]
  },
  {
   "cell_type": "markdown",
   "metadata": {},
   "source": [
    "## Process the input data"
   ]
  },
  {
   "cell_type": "code",
   "execution_count": 9,
   "metadata": {},
   "outputs": [
    {
     "name": "stdout",
     "output_type": "stream",
     "text": [
      "16921 7183\n"
     ]
    }
   ],
   "source": [
    "pred_txt_path = \"../data/predict/trench_width_delhi_ncr_obb_v1_640_100/delhi_ncr_data/predict_v1/labels\"\n",
    "image_read_dir = \"../data/predict/trench_width_delhi_ncr_obb_v1_640_100/delhi_ncr_data/predict_v1/images\"\n",
    "\n",
    "state = \"delhi_ncr\"\n",
    "version = \"250\"\n",
    "score_threshold = 0.25\n",
    "ls_project_name = f\"{state}_{version}_{version}\"\n",
    "save_dir = f\"/home/patel_zeel/kilns_neurips24/pred_images/{state}_{version}\"\n",
    "corrected_txt_path = join(\"/home/patel_zeel/compass24/corrected_txt/\", state)\n",
    "\n",
    "\n",
    "pred_files = sorted(glob(join(pred_txt_path, state, \"labels\", \"*.txt\")))\n",
    "pred_base_names = set([basename(f) for f in pred_files])\n",
    "corrected_files = sorted(glob(join(corrected_txt_path, \"*.txt\")))\n",
    "corrected_base_names = set([basename(f) for f in corrected_files])\n",
    "\n",
    "print(len(pred_files), len(corrected_files))"
   ]
  },
  {
   "cell_type": "code",
   "execution_count": 10,
   "metadata": {},
   "outputs": [
    {
     "data": {
      "application/vnd.jupyter.widget-view+json": {
       "model_id": "5e9691dd5ea44c13b5752dc4a2f01603",
       "version_major": 2,
       "version_minor": 0
      },
      "text/plain": [
       "0it [00:00, ?it/s]"
      ]
     },
     "metadata": {},
     "output_type": "display_data"
    },
    {
     "data": {
      "text/plain": [
       "(6491, 10430)"
      ]
     },
     "execution_count": 10,
     "metadata": {},
     "output_type": "execute_result"
    }
   ],
   "source": [
    "common_tiles = []\n",
    "uncommon_tiles = []\n",
    "for pred_base, pred_full in tqdm(zip(pred_base_names, pred_files)):\n",
    "    if pred_base in corrected_base_names:\n",
    "        common_tiles.append(pred_base)\n",
    "    else:\n",
    "        uncommon_tiles.append(pred_full)\n",
    "len(common_tiles), len(uncommon_tiles)"
   ]
  },
  {
   "cell_type": "markdown",
   "metadata": {},
   "source": [
    "Remove lucknow files"
   ]
  },
  {
   "cell_type": "code",
   "execution_count": 11,
   "metadata": {},
   "outputs": [
    {
     "data": {
      "application/vnd.jupyter.widget-view+json": {
       "model_id": "ed9daa058deb4276b7bd3580a7d39b62",
       "version_major": 2,
       "version_minor": 0
      },
      "text/plain": [
       "  0%|          | 0/10430 [00:00<?, ?it/s]"
      ]
     },
     "metadata": {},
     "output_type": "display_data"
    },
    {
     "data": {
      "text/plain": [
       "10264"
      ]
     },
     "execution_count": 11,
     "metadata": {},
     "output_type": "execute_result"
    }
   ],
   "source": [
    "lucknow_files = glob(join(\"/home/patel_zeel/kilns_neurips24/processed_data/lucknow_sarath_grid_obb_v3/labels\", \"*.txt\"))\n",
    "lucknow_base_names = set([basename(f) for f in lucknow_files])\n",
    "\n",
    "lucknow_removed_uncommon = []\n",
    "for full in tqdm(uncommon_tiles):\n",
    "    base = basename(full)\n",
    "    if base in lucknow_base_names:\n",
    "        pass\n",
    "    else:\n",
    "        lucknow_removed_uncommon.append(full)\n",
    "    \n",
    "len(lucknow_removed_uncommon)"
   ]
  },
  {
   "cell_type": "markdown",
   "metadata": {},
   "source": [
    "## Filter further"
   ]
  },
  {
   "cell_type": "code",
   "execution_count": 17,
   "metadata": {},
   "outputs": [
    {
     "name": "stdout",
     "output_type": "stream",
     "text": [
      "9887\n",
      "10264\n"
     ]
    },
    {
     "data": {
      "text/plain": [
       "5049"
      ]
     },
     "execution_count": 17,
     "metadata": {},
     "output_type": "execute_result"
    }
   ],
   "source": [
    "set_all_till_now = set(map(basename, glob(\"/home/patel_zeel/kilns_neurips24/corrected_txt_obb/uttar_pradesh/*.txt\")))\n",
    "print(len(set_all_till_now))\n",
    "print(len(lucknow_removed_uncommon))\n",
    "filtered_uncommon = [file for file in lucknow_removed_uncommon if basename(file) not in set_all_till_now]\n",
    "len(filtered_uncommon)"
   ]
  },
  {
   "cell_type": "code",
   "execution_count": null,
   "metadata": {},
   "outputs": [
    {
     "name": "stdout",
     "output_type": "stream",
     "text": [
      "saving to /home/rishabh.mondal/Brick-Kilns-project/ijcai_2025_kilns/data/predict/trench_width_delhi_ncr_obb_v1_640_100/delhi_ncr_data/predict_v1/images /home/rishabh.mondal/Brick-Kilns-project/ijcai_2025_kilns/data/predict/trench_width_delhi_ncr_obb_v1_640_100/delhi_ncr_data/predict_v1/labels\n"
     ]
    },
    {
     "ename": "NameError",
     "evalue": "name 'filtered_uncommon' is not defined",
     "output_type": "error",
     "traceback": [
      "\u001b[0;31m---------------------------------------------------------------------------\u001b[0m",
      "\u001b[0;31mNameError\u001b[0m                                 Traceback (most recent call last)",
      "Cell \u001b[0;32mIn[16], line 10\u001b[0m\n\u001b[1;32m      7\u001b[0m os\u001b[38;5;241m.\u001b[39mmakedirs(save_image_dir)\n\u001b[1;32m      8\u001b[0m os\u001b[38;5;241m.\u001b[39mmakedirs(save_label_dir)\n\u001b[0;32m---> 10\u001b[0m \u001b[38;5;28;01mfor\u001b[39;00m tile \u001b[38;5;129;01min\u001b[39;00m tqdm(\u001b[43mfiltered_uncommon\u001b[49m):\n\u001b[1;32m     11\u001b[0m     part \u001b[38;5;241m=\u001b[39m tile\u001b[38;5;241m.\u001b[39msplit(\u001b[38;5;124m\"\u001b[39m\u001b[38;5;124m/\u001b[39m\u001b[38;5;124m\"\u001b[39m)[\u001b[38;5;241m-\u001b[39m\u001b[38;5;241m3\u001b[39m]\n\u001b[1;32m     12\u001b[0m     name \u001b[38;5;241m=\u001b[39m tile\u001b[38;5;241m.\u001b[39msplit(\u001b[38;5;124m\"\u001b[39m\u001b[38;5;124m/\u001b[39m\u001b[38;5;124m\"\u001b[39m)[\u001b[38;5;241m-\u001b[39m\u001b[38;5;241m1\u001b[39m]\u001b[38;5;241m.\u001b[39mreplace(\u001b[38;5;124m\"\u001b[39m\u001b[38;5;124m.txt\u001b[39m\u001b[38;5;124m\"\u001b[39m, \u001b[38;5;124m\"\u001b[39m\u001b[38;5;124m.png\u001b[39m\u001b[38;5;124m\"\u001b[39m)\n",
      "\u001b[0;31mNameError\u001b[0m: name 'filtered_uncommon' is not defined"
     ]
    }
   ],
   "source": [
    "# Save symlink of files\n",
    "save_image_dir = f\"/home/rishabh.mondal/Brick-Kilns-project/ijcai_2025_kilns/data/predict/trench_width_delhi_ncr_obb_v1_640_100/delhi_ncr_data/predict_v1/images\"\n",
    "save_label_dir = f\"/home/rishabh.mondal/Brick-Kilns-project/ijcai_2025_kilns/data/predict/trench_width_delhi_ncr_obb_v1_640_100/delhi_ncr_data/predict_v1/labels\"\n",
    "print(\"saving to\", save_image_dir, save_label_dir)\n",
    "os.system(\"rm -rf \" + save_image_dir)\n",
    "os.system(\"rm -rf \" + save_label_dir)\n",
    "os.makedirs(save_image_dir)\n",
    "os.makedirs(save_label_dir)\n",
    "\n",
    "for tile in tqdm(filtered_uncommon):\n",
    "    part = tile.split(\"/\")[-3]\n",
    "    name = tile.split(\"/\")[-1].replace(\".txt\", \".png\")\n",
    "    image_path = join(image_read_dir, part, name)\n",
    "    txt_path = join(pred_txt_path, part, \"labels\", name.replace(\".png\", \".txt\"))\n",
    "    os.symlink(image_path, join(save_image_dir, name))\n",
    "    os.symlink(txt_path, join(save_label_dir, name.replace(\".png\", \".txt\")))\n",
    "\n",
    "print(\"image_path\", image_path)\n",
    "print(\"txt_path\", txt_path)\n",
    "print(join(save_image_dir, name))\n",
    "print(join(save_label_dir, name.replace(\".png\", \".txt\")))"
   ]
  },
  {
   "cell_type": "markdown",
   "metadata": {},
   "source": [
    "## Create Project"
   ]
  },
  {
   "cell_type": "code",
   "execution_count": 14,
   "metadata": {},
   "outputs": [],
   "source": [
    "state = \"delhi_ncr\"\n",
    "version = \"250\""
   ]
  },
  {
   "cell_type": "code",
   "execution_count": 15,
   "metadata": {},
   "outputs": [
    {
     "name": "stdout",
     "output_type": "stream",
     "text": [
      "No project found. Creating...\n",
      "No storage found. Creating...\n"
     ]
    },
    {
     "ename": "NameError",
     "evalue": "name 'save_image_dir' is not defined",
     "output_type": "error",
     "traceback": [
      "\u001b[0;31m---------------------------------------------------------------------------\u001b[0m",
      "\u001b[0;31mNameError\u001b[0m                                 Traceback (most recent call last)",
      "Cell \u001b[0;32mIn[15], line 20\u001b[0m\n\u001b[1;32m     18\u001b[0m \u001b[38;5;28;01mif\u001b[39;00m \u001b[38;5;28mlen\u001b[39m(storages) \u001b[38;5;241m==\u001b[39m \u001b[38;5;241m0\u001b[39m:\n\u001b[1;32m     19\u001b[0m     \u001b[38;5;28mprint\u001b[39m(\u001b[38;5;124m\"\u001b[39m\u001b[38;5;124mNo storage found. Creating...\u001b[39m\u001b[38;5;124m\"\u001b[39m)\n\u001b[0;32m---> 20\u001b[0m     project\u001b[38;5;241m.\u001b[39mconnect_local_import_storage(\u001b[43msave_image_dir\u001b[49m, regex_filter\u001b[38;5;241m=\u001b[39m\u001b[38;5;124m\"\u001b[39m\u001b[38;5;124m.*png\u001b[39m\u001b[38;5;124m\"\u001b[39m)\n\u001b[1;32m     21\u001b[0m \u001b[38;5;28;01melse\u001b[39;00m:\n\u001b[1;32m     22\u001b[0m     \u001b[38;5;28;01massert\u001b[39;00m \u001b[38;5;28mlen\u001b[39m(storages) \u001b[38;5;241m==\u001b[39m \u001b[38;5;241m1\u001b[39m\n",
      "\u001b[0;31mNameError\u001b[0m: name 'save_image_dir' is not defined"
     ]
    }
   ],
   "source": [
    "projects = ls.list_projects()\n",
    "for project in projects:\n",
    "    if project.title == f\"{state}_OBB_{version}\":\n",
    "        print(\"Project found. Using it...\")\n",
    "        break\n",
    "else:\n",
    "    print(\"No project found. Creating...\")\n",
    "    project = ls.start_project(title=f\"{state}_OBB_{version}\", label_config='''\n",
    "<View>\n",
    "  <Image name=\"image\" value=\"$image\" rotateControl=\"true\" zoomControl=\"true\" zoom=\"true\"/>\n",
    "  <RectangleLabels name=\"label\" toName=\"image\">\n",
    "    \n",
    "    \n",
    "  <Label value=\"Inner_Box\" background=\"#FFA39E\"/><Label value=\"Outer_Box\" background=\"#63c205\"/></RectangleLabels>\n",
    "</View>\n",
    "    ''')\n",
    "storages = project.get_import_storages()\n",
    "if len(storages) == 0:\n",
    "    print(\"No storage found. Creating...\")\n",
    "    project.connect_local_import_storage(save_image_dir, regex_filter=\".*png\")\n",
    "else:\n",
    "    assert len(storages) == 1\n",
    "    print(\"Storage found. Using it...\")\n",
    "storage = storages[0]\n",
    "if storage['last_sync'] is None:\n",
    "    print(\"Syncing storage...\")\n",
    "    project.sync_storage(storage['type'], storage['id'])\n",
    "else:\n",
    "    print(\"Storage already synced.\")\n",
    "\n",
    "print(\"Getting tasks...\")\n",
    "tasks = project.get_tasks()\n",
    "len(tasks)"
   ]
  },
  {
   "cell_type": "code",
   "execution_count": 21,
   "metadata": {},
   "outputs": [
    {
     "data": {
      "text/plain": [
       "{'id': 183999,\n",
       " 'predictions': [],\n",
       " 'annotations': [],\n",
       " 'drafts': [],\n",
       " 'annotators': [],\n",
       " 'inner_id': 1,\n",
       " 'cancelled_annotations': 0,\n",
       " 'total_annotations': 0,\n",
       " 'total_predictions': 0,\n",
       " 'completed_at': None,\n",
       " 'annotations_results': '',\n",
       " 'predictions_results': '',\n",
       " 'predictions_score': None,\n",
       " 'file_upload': None,\n",
       " 'storage_filename': '/home/patel_zeel/kilns_neurips24/pred_images/uttar_pradesh_v2/images/23.93,82.91.png',\n",
       " 'annotations_ids': '',\n",
       " 'predictions_model_versions': '',\n",
       " 'avg_lead_time': None,\n",
       " 'draft_exists': False,\n",
       " 'updated_by': [],\n",
       " 'data': {'image': '/data/local-files/?d=home/patel_zeel/kilns_neurips24/pred_images/uttar_pradesh_v2/images/23.93%2C82.91.png'},\n",
       " 'meta': {},\n",
       " 'created_at': '2024-06-04T06:27:51.726793Z',\n",
       " 'updated_at': '2024-06-04T06:27:51.726815Z',\n",
       " 'is_labeled': False,\n",
       " 'overlap': 1,\n",
       " 'comment_count': 0,\n",
       " 'unresolved_comment_count': 0,\n",
       " 'last_comment_updated_at': None,\n",
       " 'project': 63,\n",
       " 'comment_authors': []}"
      ]
     },
     "execution_count": 21,
     "metadata": {},
     "output_type": "execute_result"
    }
   ],
   "source": [
    "tasks[0]"
   ]
  },
  {
   "cell_type": "code",
   "execution_count": 22,
   "metadata": {},
   "outputs": [
    {
     "name": "stdout",
     "output_type": "stream",
     "text": [
      "{\"processed_items\":0,\"detail\":\"Deleted 0 predictions\"}"
     ]
    },
    {
     "name": "stderr",
     "output_type": "stream",
     "text": [
      "  % Total    % Received % Xferd  Average Speed   Time    Time     Time  Current\n",
      "                                 Dload  Upload   Total   Spent    Left  Speed\n",
      "100    54  100    54    0     0   1636      0 --:--:-- --:--:-- --:--:--  1636\n"
     ]
    },
    {
     "data": {
      "application/vnd.jupyter.widget-view+json": {
       "model_id": "36296a97fa194d599db60b20cea1f0da",
       "version_major": 2,
       "version_minor": 0
      },
      "text/plain": [
       "  0%|          | 0/5049 [00:00<?, ?it/s]"
      ]
     },
     "metadata": {},
     "output_type": "display_data"
    }
   ],
   "source": [
    "## Delete all predictions before going ahead\n",
    "os.system(f\"curl -H 'Authorization: Token {API_KEY}' -X POST \\\"localhost:8080/api/dm/actions?id=delete_tasks_predictions&project={project.id}\\\"\")\n",
    "\n",
    "for task in tqdm(tasks):\n",
    "    # part = tile.split(\"/\")[-3]\n",
    "    # name = tile.split(\"/\")[-1].replace(\".txt\", \".png\")\n",
    "    # image_path = join(save_dir, name)\n",
    "    image_path = task['storage_filename']\n",
    "    txt_name = basename(image_path).replace(\".png\", \".txt\")\n",
    "    \n",
    "    preds = np.loadtxt(join(save_label_dir, txt_name))\n",
    "    preds = np.atleast_2d(preds)\n",
    "\n",
    "    results = []\n",
    "    for pred in preds:\n",
    "        label_id = int(pred[0])\n",
    "        x1, y1, x2, y2, x3, y3, x4, y4 = pred[1:-1]\n",
    "        score = pred[-1]\n",
    "        if score > score_threshold:\n",
    "          prediction = yolo_obb_to_label_studio_json(label_id, x1, y1, x2, y2, x3, y3, x4, y4, score)\n",
    "          # predictions.append(prediction)\n",
    "          results.append(prediction['result'][0])\n",
    "    if len(results) > 0:\n",
    "      # I have tried parallelizing this but it doesn't work\n",
    "      project.create_prediction(task['id'], results, model_version=version)"
   ]
  },
  {
   "cell_type": "markdown",
   "metadata": {},
   "source": [
    "## Appendix"
   ]
  },
  {
   "cell_type": "code",
   "execution_count": null,
   "metadata": {},
   "outputs": [],
   "source": [
    "# areas = []\n",
    "# for item in json_list:\n",
    "#     for pred in item[\"predictions\"]:\n",
    "#         area = pred['result'][0]['value']['width'] * pred['result'][0]['value']['height']\n",
    "#         area = area * (1120 * 1120) / (100 * 100)\n",
    "#         areas.append(area)\n",
    "# len(areas)"
   ]
  },
  {
   "cell_type": "code",
   "execution_count": null,
   "metadata": {},
   "outputs": [],
   "source": [
    "# max(areas), min(areas), np.mean(areas), np.median(areas)"
   ]
  },
  {
   "cell_type": "code",
   "execution_count": null,
   "metadata": {},
   "outputs": [],
   "source": [
    "# import seaborn as sns\n",
    "\n",
    "# sns.kdeplot(areas)"
   ]
  },
  {
   "cell_type": "code",
   "execution_count": null,
   "metadata": {},
   "outputs": [],
   "source": [
    "# (areas < np.mean(areas) - 2 * np.std(areas)).sum()"
   ]
  }
 ],
 "metadata": {
  "kernelspec": {
   "display_name": "rishabh_sat",
   "language": "python",
   "name": "python3"
  },
  "language_info": {
   "codemirror_mode": {
    "name": "ipython",
    "version": 3
   },
   "file_extension": ".py",
   "mimetype": "text/x-python",
   "name": "python",
   "nbconvert_exporter": "python",
   "pygments_lexer": "ipython3",
   "version": "3.12.4"
  }
 },
 "nbformat": 4,
 "nbformat_minor": 2
}
