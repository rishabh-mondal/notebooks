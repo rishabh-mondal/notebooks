{
 "cells": [
  {
   "cell_type": "code",
   "execution_count": 37,
   "metadata": {},
   "outputs": [],
   "source": [
    "import geopandas as gpd\n",
    "import folium\n",
    "import leafmap.leafmap as leafmap\n"
   ]
  },
  {
   "cell_type": "code",
   "execution_count": 38,
   "metadata": {},
   "outputs": [
    {
     "data": {
      "text/html": [
       "<div>\n",
       "<style scoped>\n",
       "    .dataframe tbody tr th:only-of-type {\n",
       "        vertical-align: middle;\n",
       "    }\n",
       "\n",
       "    .dataframe tbody tr th {\n",
       "        vertical-align: top;\n",
       "    }\n",
       "\n",
       "    .dataframe thead th {\n",
       "        text-align: right;\n",
       "    }\n",
       "</style>\n",
       "<table border=\"1\" class=\"dataframe\">\n",
       "  <thead>\n",
       "    <tr style=\"text-align: right;\">\n",
       "      <th></th>\n",
       "      <th>x_idx</th>\n",
       "      <th>y_idx</th>\n",
       "      <th>x</th>\n",
       "      <th>y</th>\n",
       "      <th>geometry</th>\n",
       "    </tr>\n",
       "  </thead>\n",
       "  <tbody>\n",
       "    <tr>\n",
       "      <th>0</th>\n",
       "      <td>23936</td>\n",
       "      <td>28544</td>\n",
       "      <td>10230945</td>\n",
       "      <td>2779247</td>\n",
       "      <td>POLYGON ((10229417.009 2780776.7, 10232474.49 ...</td>\n",
       "    </tr>\n",
       "    <tr>\n",
       "      <th>1</th>\n",
       "      <td>23360</td>\n",
       "      <td>28544</td>\n",
       "      <td>10228194</td>\n",
       "      <td>2779247</td>\n",
       "      <td>POLYGON ((10226665.276 2780776.7, 10229722.757...</td>\n",
       "    </tr>\n",
       "  </tbody>\n",
       "</table>\n",
       "</div>"
      ],
      "text/plain": [
       "   x_idx  y_idx         x        y  \\\n",
       "0  23936  28544  10230945  2779247   \n",
       "1  23360  28544  10228194  2779247   \n",
       "\n",
       "                                            geometry  \n",
       "0  POLYGON ((10229417.009 2780776.7, 10232474.49 ...  \n",
       "1  POLYGON ((10226665.276 2780776.7, 10229722.757...  "
      ]
     },
     "metadata": {},
     "output_type": "display_data"
    }
   ],
   "source": [
    "region = 'sylhet'\n",
    "meta_data_path = f\"../data/processed_data/{region}/metadata.geojson\"\n",
    "region_meta_data = gpd.read_file(meta_data_path)\n",
    "\n",
    "\n",
    "display(region_meta_data.head(2))\n"
   ]
  },
  {
   "cell_type": "code",
   "execution_count": 39,
   "metadata": {},
   "outputs": [
    {
     "data": {
      "text/html": [
       "<div>\n",
       "<style scoped>\n",
       "    .dataframe tbody tr th:only-of-type {\n",
       "        vertical-align: middle;\n",
       "    }\n",
       "\n",
       "    .dataframe tbody tr th {\n",
       "        vertical-align: top;\n",
       "    }\n",
       "\n",
       "    .dataframe thead th {\n",
       "        text-align: right;\n",
       "    }\n",
       "</style>\n",
       "<table border=\"1\" class=\"dataframe\">\n",
       "  <thead>\n",
       "    <tr style=\"text-align: right;\">\n",
       "      <th></th>\n",
       "      <th>x_idx</th>\n",
       "      <th>y_idx</th>\n",
       "      <th>x</th>\n",
       "      <th>y</th>\n",
       "      <th>geometry</th>\n",
       "    </tr>\n",
       "  </thead>\n",
       "  <tbody>\n",
       "    <tr>\n",
       "      <th>0</th>\n",
       "      <td>23936</td>\n",
       "      <td>28544</td>\n",
       "      <td>10230945</td>\n",
       "      <td>2779247</td>\n",
       "      <td>POLYGON ((10229417.009 2780776.7, 10232474.49 ...</td>\n",
       "    </tr>\n",
       "    <tr>\n",
       "      <th>1</th>\n",
       "      <td>23360</td>\n",
       "      <td>28544</td>\n",
       "      <td>10228194</td>\n",
       "      <td>2779247</td>\n",
       "      <td>POLYGON ((10226665.276 2780776.7, 10229722.757...</td>\n",
       "    </tr>\n",
       "  </tbody>\n",
       "</table>\n",
       "</div>"
      ],
      "text/plain": [
       "   x_idx  y_idx         x        y  \\\n",
       "0  23936  28544  10230945  2779247   \n",
       "1  23360  28544  10228194  2779247   \n",
       "\n",
       "                                            geometry  \n",
       "0  POLYGON ((10229417.009 2780776.7, 10232474.49 ...  \n",
       "1  POLYGON ((10226665.276 2780776.7, 10229722.757...  "
      ]
     },
     "metadata": {},
     "output_type": "display_data"
    }
   ],
   "source": [
    "region_meta_data = region_meta_data.to_crs(\"EPSG:3857\")\n",
    "display(region_meta_data.head(2))"
   ]
  },
  {
   "cell_type": "code",
   "execution_count": 40,
   "metadata": {},
   "outputs": [
    {
     "data": {
      "application/vnd.jupyter.widget-view+json": {
       "model_id": "76b3aa47b24640118f895d05e12b057f",
       "version_major": 2,
       "version_minor": 0
      },
      "text/plain": [
       "Map(center=[20, 0], controls=(ZoomControl(options=['position', 'zoom_in_text', 'zoom_in_title', 'zoom_out_text…"
      ]
     },
     "execution_count": 40,
     "metadata": {},
     "output_type": "execute_result"
    }
   ],
   "source": [
    "#print the first geometry\n",
    "first_geometry = region_meta_data.iloc[[0]]\n",
    "m = leafmap.Map()\n",
    "m.add_basemap(\"HYBRID\")\n",
    "m.add_gdf(region_meta_data, layer_name=\"Shape\", style={\"color\": \"black\"},zoom_to_layer=15)\n",
    "m.add_gdf(first_geometry,zoom_to_layer=True)\n",
    "\n",
    "\n",
    "m.add_gdf(first_geometry, layer_name=\"First Geometry\", style={\"color\": \"red\"}, zoom_to_layer=True)\n",
    "m\n",
    "\n",
    "\n"
   ]
  },
  {
   "cell_type": "code",
   "execution_count": 41,
   "metadata": {},
   "outputs": [],
   "source": [
    "from os.path import join\n",
    "from glob import glob\n",
    "import numpy as np\n",
    "import pandas as pd\n",
    "import geopandas as gpd\n",
    "from shapely.geometry import Polygon\n",
    "from time import time\n",
    "from joblib import Parallel, delayed\n",
    "from tqdm import tqdm"
   ]
  },
  {
   "cell_type": "code",
   "execution_count": 42,
   "metadata": {},
   "outputs": [
    {
     "name": "stdout",
     "output_type": "stream",
     "text": [
      "Image dir: ../data/processed_data/sylhet/images/\n",
      "Prediction dir: ../data/predict/processed_labels/sylhet/\n",
      "Metadata path: ../data/processed_data/sylhet/metadata.geojson\n",
      "Save dir: ../data/predict/processed_labels/sylhet\n"
     ]
    }
   ],
   "source": [
    "# region = ''\n",
    "image_dir=f\"../data/processed_data/{region}/images/\"\n",
    "prediction_dir=f\"../data/predict/processed_labels/{region}/\"\n",
    "metadata_path=f\"../data/processed_data/{region}/metadata.geojson\"\n",
    "save_dir=f\"../data/predict/processed_labels/{region}\"\n",
    "\n",
    "print(f\"Image dir: {image_dir}\")\n",
    "print(f\"Prediction dir: {prediction_dir}\")\n",
    "print(f\"Metadata path: {metadata_path}\")\n",
    "print(f\"Save dir: {save_dir}\")\n",
    "\n",
    "\n"
   ]
  },
  {
   "cell_type": "code",
   "execution_count": 43,
   "metadata": {},
   "outputs": [
    {
     "name": "stdout",
     "output_type": "stream",
     "text": [
      "Image directory: ../data/processed_data/sylhet/images/\n",
      "Prediction directory: ../data/predict/processed_labels/sylhet/\n",
      "Number of images: 1782\n",
      "Reading predictions from ../data/predict/processed_labels/sylhet/labels/*\n",
      "Number of predictions: 163\n",
      "Number of images with at least one prediction: 163\n",
      "Number of metadata entries: 1782\n"
     ]
    }
   ],
   "source": [
    "print(f\"Image directory: {image_dir}\")\n",
    "print(f\"Prediction directory: {prediction_dir}\")\n",
    "\n",
    "image_paths = glob(join(image_dir, \"*\"))\n",
    "print(f\"Number of images: {len(image_paths)}\")\n",
    "prediction_path = join(prediction_dir, \"labels\", \"*\")\n",
    "print(\"Reading predictions from\", prediction_path)\n",
    "prediction_paths = glob(prediction_path)\n",
    "print(f\"Number of predictions: {len(prediction_paths)}\")\n",
    "print(f\"Number of images with at least one prediction: {len(prediction_paths)}\")\n",
    "metadata_gdf = gpd.read_file(metadata_path)\n",
    "print(f\"Number of metadata entries: {len(metadata_gdf)}\")\n",
    "# target_gdf = gpd.read_file(target_geojson_path)\n",
    "# print(f\"Number of ground truth labels: {len(target_gdf)}\")\n",
    "# print(f\"Time taken to read files: {time() - init:.2f}s\")"
   ]
  },
  {
   "cell_type": "code",
   "execution_count": 44,
   "metadata": {},
   "outputs": [
    {
     "name": "stdout",
     "output_type": "stream",
     "text": [
      "Predictions head\n",
      "   x_idx  y_idx         x        y  \\\n",
      "0  23936  28544  10230945  2779247   \n",
      "1  23360  28544  10228194  2779247   \n",
      "\n",
      "                                            geometry  \n",
      "0  POLYGON ((10229417.009 2780776.7, 10232474.49 ...  \n",
      "1  POLYGON ((10226665.276 2780776.7, 10229722.757...  \n"
     ]
    }
   ],
   "source": [
    "print(\"Predictions head\")\n",
    "print(metadata_gdf.head(2))"
   ]
  },
  {
   "cell_type": "code",
   "execution_count": 45,
   "metadata": {},
   "outputs": [],
   "source": [
    "classes = [\"CFCBK\", \"FCBK\", \"Zigzag\"]\n",
    "conf_threshold=0.25\n",
    "nms_iou=0.5\n",
    "task=\"obb\"\n",
    "def obb_load_prediction(row,task=task,classes=classes):\n",
    "    try:\n",
    "        prediction = np.loadtxt(join(prediction_dir, \"labels\", f\"{row['x']}_{row['y']}.txt\"), ndmin=2)\n",
    "    except FileNotFoundError:\n",
    "        prediction = np.zeros((0, 10)) if task == \"obb\" else np.zeros((0, 6))\n",
    "\n",
    "    # Preserve original prediction for later\n",
    "    original_prediction = prediction.copy().tolist()\n",
    "    original_prediction = [\"_\".join(map(str, x)) for x in original_prediction]\n",
    "\n",
    "    # scale predictions\n",
    "    min_x, min_y, max_x, max_y = row[\"geometry\"].bounds\n",
    "    prediction[:, 1:-1:2] = prediction[:, 1:-1:2] * (max_x - min_x) + min_x\n",
    "    prediction[:, 2:-1:2] = (1 - prediction[:, 2:-1:2]) * (max_y - min_y) + min_y\n",
    "    class_names = [classes[int(cls_id)] for cls_id in prediction[:, 0]]\n",
    "    confidence = prediction[:, -1].tolist()\n",
    "\n",
    "    box = prediction[:, 1:-1]\n",
    "    return box, class_names, confidence, original_prediction\n",
    "\n"
   ]
  },
  {
   "cell_type": "code",
   "execution_count": 46,
   "metadata": {},
   "outputs": [
    {
     "name": "stdout",
     "output_type": "stream",
     "text": [
      "Predictions head after getting box, class_name, confidence\n",
      "Time taken to load predictions: 0.51s\n",
      "Length before explode:  1782\n",
      "Length after explode:  1862\n",
      "Length after dropping NaN:  243\n",
      "Time taken to explode predictions: 0.01s\n",
      "Length before conf filtering:  243\n",
      "Length after conf filtering:  243\n"
     ]
    }
   ],
   "source": [
    "init = time()\n",
    "metadata_gdf[[\"box\", \"class_name\", \"confidence\", \"yolo_label\"]] = metadata_gdf.apply(\n",
    "    obb_load_prediction, axis=1, result_type=\"expand\"\n",
    ")\n",
    "print(\"Predictions head after getting box, class_name, confidence\")\n",
    "# print(metadata_gdf.head(2))\n",
    "print(f\"Time taken to load predictions: {time() - init:.2f}s\")\n",
    "\n",
    "init = time()\n",
    "print(\"Length before explode: \", len(metadata_gdf))\n",
    "metadata_gdf = metadata_gdf.apply(pd.Series.explode).reset_index(drop=True)\n",
    "print(\"Length after explode: \", len(metadata_gdf))\n",
    "metadata_gdf = metadata_gdf.dropna(subset=[\"box\"]).reset_index(drop=True)\n",
    "print(\"Length after dropping NaN: \", len(metadata_gdf))\n",
    "# print(metadata_gdf.head(2))\n",
    "print(f\"Time taken to explode predictions: {time() - init:.2f}s\")\n",
    "\n",
    "print(\"Length before conf filtering: \", len(metadata_gdf))\n",
    "metadata_gdf = metadata_gdf[metadata_gdf[\"confidence\"] >= float(conf_threshold)]\n",
    "print(\"Length after conf filtering: \", len(metadata_gdf))\n",
    "\n",
    "init = time()"
   ]
  },
  {
   "cell_type": "code",
   "execution_count": 47,
   "metadata": {},
   "outputs": [
    {
     "name": "stdout",
     "output_type": "stream",
     "text": [
      "   x_idx  y_idx         x        y  \\\n",
      "0  22784  27392  10225442  2784751   \n",
      "1  22208  25664  10222690  2793006   \n",
      "\n",
      "                                            geometry  \\\n",
      "0  POLYGON ((10223913.543 2786280.166, 10226971.0...   \n",
      "1  POLYGON ((10221161.81 2794535.365, 10224219.29...   \n",
      "\n",
      "                                                 box class_name confidence  \\\n",
      "0  [10224998.446929628, 2783223.852839994, 102250...     Zigzag   0.782646   \n",
      "1  [10223238.13885824, 2793805.119330983, 1022328...     Zigzag   0.832081   \n",
      "\n",
      "                                          yolo_label  \\\n",
      "0  2.0_0.354836_0.999618_0.368349_0.99992_0.36882...   \n",
      "1  2.0_0.679098_0.238839_0.692999_0.241333_0.6984...   \n",
      "\n",
      "                                      label_geometry  \n",
      "0  POLYGON ((10224998.446929628 2783223.852839994...  \n",
      "1  POLYGON ((10223238.13885824 2793805.119330983,...  \n",
      "Time taken to convert predictions to geometry: 0.01s\n",
      "type(metadata_gdf)=<class 'geopandas.geodataframe.GeoDataFrame'>\n",
      "metadata_gdf.columns=Index(['x', 'y', 'class_name', 'confidence', 'yolo_label', 'geometry'], dtype='object')\n",
      "metadata_gdf.crs=<Projected CRS: EPSG:3857>\n",
      "Name: WGS 84 / Pseudo-Mercator\n",
      "Axis Info [cartesian]:\n",
      "- X[east]: Easting (metre)\n",
      "- Y[north]: Northing (metre)\n",
      "Area of Use:\n",
      "- name: World between 85.06°S and 85.06°N.\n",
      "- bounds: (-180.0, -85.06, 180.0, 85.06)\n",
      "Coordinate Operation:\n",
      "- name: Popular Visualisation Pseudo-Mercator\n",
      "- method: Popular Visualisation Pseudo Mercator\n",
      "Datum: World Geodetic System 1984 ensemble\n",
      "- Ellipsoid: WGS 84\n",
      "- Prime Meridian: Greenwich\n",
      "\n",
      "intersection_gdf.head(2)=   index_left  index_right\n",
      "0           9           14\n",
      "1          15           16\n",
      "Size before NMS:  243\n",
      "Size after NMS:  202\n",
      "metadata_gdf.class_name.isnull().sum()=0\n",
      "metadata_gdf.dtypes=x                int32\n",
      "y                int32\n",
      "class_name      object\n",
      "confidence     float64\n",
      "yolo_label      object\n",
      "geometry      geometry\n",
      "dtype: object\n",
      "Time taken to save predictions: 0.01s\n"
     ]
    }
   ],
   "source": [
    "init = time()\n",
    "if task == \"obb\":\n",
    "    #     # metadata_gdf[\"label_geometry\"] = metadata_gdf[\"box\"].apply(\n",
    "    #     #     lambda box: Polygon(\n",
    "    #     #         [\n",
    "    #     #             (box[0], box[1]),\n",
    "    #     #             (box[2], box[3]),\n",
    "    #     #             (box[4], box[5]),\n",
    "    #     #             (box[6], box[7]),\n",
    "    #     #             (box[0], box[1]),\n",
    "    #     #         ]\n",
    "    #     #     )\n",
    "    #     # )\n",
    "    # metadata_gdf[\"label_geometry\"] = np.apply_along_axis(\n",
    "    #     lambda x: Polygon(x.reshape(-1, 2)), 1, np.asarray(metadata_gdf.box.tolist())\n",
    "    # )\n",
    "    # metadata_gdf[\"label_geometry\"] = Parallel(n_jobs=32)(\n",
    "    #     delayed(Polygon)(box.reshape(-1, 2)) for box in tqdm(metadata_gdf.box)\n",
    "    # )\n",
    "    metadata_gdf[\"label_geometry\"] = metadata_gdf[\"box\"].apply(lambda x: Polygon(x.reshape(-1, 2)))\n",
    "    # metadata_gdf[\"label_geometry\"] = metadata_gdf.box.apply(\n",
    "    #     lambda x: {\"type\": \"Polygon\", \"coordinates\": [x.reshape(-1, 2).tolist()]}\n",
    "    # )\n",
    "# else:\n",
    "#     metadata_gdf[\"label_geometry\"] = metadata_gdf[\"box\"].apply(\n",
    "#         lambda box: Polygon(\n",
    "#             [\n",
    "#                 (box[0] - box[2] / 2, box[1] - box[3] / 2),\n",
    "#                 (box[0] + box[2] / 2, box[1] - box[3] / 2),\n",
    "#                 (box[0] + box[2] / 2, box[1] + box[3] / 2),\n",
    "#                 (box[0] - box[2] / 2, box[1] + box[3] / 2),\n",
    "#                 (box[0] - box[2] / 2, box[1] - box[3] / 2),\n",
    "#             ]\n",
    "#         )\n",
    "#     )\n",
    "print(metadata_gdf.head(2))\n",
    "print(f\"Time taken to convert predictions to geometry: {time() - init:.2f}s\")\n",
    "\n",
    "crs = metadata_gdf.crs\n",
    "metadata_gdf.drop(columns=[\"box\", \"x_idx\", \"y_idx\", \"geometry\"], inplace=True)\n",
    "metadata_gdf.rename(columns={\"label_geometry\": \"geometry\"}, inplace=True)\n",
    "metadata_gdf.set_geometry(\"geometry\", inplace=True)\n",
    "metadata_gdf.crs = crs\n",
    "\n",
    "############# Overlap removal\n",
    "metadata_gdf.reset_index(drop=True, inplace=True)\n",
    "print(f\"{type(metadata_gdf)=}\")\n",
    "print(f\"{metadata_gdf.columns=}\")\n",
    "print(f\"{metadata_gdf.crs=}\")\n",
    "intersection_gdf = gpd.sjoin(metadata_gdf, metadata_gdf, predicate=\"intersects\")\n",
    "# remove same points and duplicate pairs\n",
    "intersection_gdf = intersection_gdf[intersection_gdf.index < intersection_gdf.index_right][\n",
    "    [\"index_right\"]\n",
    "].reset_index(drop=False)\n",
    "intersection_gdf.rename(columns={\"index\": \"index_left\"}, inplace=True)\n",
    "print(f\"{intersection_gdf.head(2)=}\")\n",
    "def get_iou(row):\n",
    "    geometry_left = metadata_gdf.loc[row.index_left, \"geometry\"]\n",
    "    geometry_right = metadata_gdf.loc[row.index_right, \"geometry\"]\n",
    "    return geometry_left.intersection(geometry_right).area / geometry_left.union(geometry_right).area\n",
    "\n",
    "\n",
    "\n",
    "intersection_gdf[\"iou\"] = intersection_gdf.apply(get_iou, axis=1)\n",
    "\n",
    "def get_remove_indices(row):\n",
    "    if row.iou >= nms_iou:\n",
    "        left_area = metadata_gdf.loc[row.index_left, \"geometry\"].area\n",
    "        right_area = metadata_gdf.loc[row.index_right, \"geometry\"].area\n",
    "        return row.index_left if left_area > right_area else row.index_right\n",
    "\n",
    "intersection_gdf[\"index_remove\"] = intersection_gdf.apply(get_remove_indices, axis=1)\n",
    "intersection_gdf.dropna(subset=[\"index_remove\"], inplace=True)\n",
    "print(\"Size before NMS: \", len(metadata_gdf))\n",
    "metadata_gdf.drop(index=intersection_gdf[\"index_remove\"], inplace=True)\n",
    "print(\"Size after NMS: \", len(metadata_gdf))\n",
    "\n",
    "print(f\"{metadata_gdf.class_name.isnull().sum()=}\")\n",
    "\n",
    "metadata_gdf[\"confidence\"] = metadata_gdf[\"confidence\"].astype(float)\n",
    "print(f\"{metadata_gdf.dtypes=}\")\n",
    "\n",
    "init = time()\n",
    "metadata_gdf.to_file(\n",
    "    join(save_dir, f\"predictions_{conf_threshold}.geojson\"),\n",
    "    driver=\"GeoJSON\",\n",
    ")\n",
    "print(f\"Time taken to save predictions: {time() - init:.2f}s\")\n",
    "# print(f\"Total time taken: {time() - overall_init:.2f}s\")"
   ]
  },
  {
   "cell_type": "code",
   "execution_count": 48,
   "metadata": {},
   "outputs": [
    {
     "name": "stdout",
     "output_type": "stream",
     "text": [
      "Predictions head after saving\n",
      "          x        y class_name  confidence  \\\n",
      "0  10225442  2784751     Zigzag    0.782646   \n",
      "1  10222690  2793006     Zigzag    0.832081   \n",
      "\n",
      "                                          yolo_label  \\\n",
      "0  2.0_0.354836_0.999618_0.368349_0.99992_0.36882...   \n",
      "1  2.0_0.679098_0.238839_0.692999_0.241333_0.6984...   \n",
      "\n",
      "                                            geometry  \n",
      "0  POLYGON ((10224998.447 2783223.853, 10225039.7...  \n",
      "1  POLYGON ((10223238.139 2793805.119, 10223280.6...  \n",
      "Number of predictions: 202\n"
     ]
    }
   ],
   "source": [
    "print(\"Predictions head after saving\")\n",
    "print(metadata_gdf.head(2))\n",
    "# print total number of predictions\n",
    "print(f\"Number of predictions: {len(metadata_gdf)}\")"
   ]
  },
  {
   "cell_type": "code",
   "execution_count": null,
   "metadata": {},
   "outputs": [],
   "source": []
  },
  {
   "cell_type": "code",
   "execution_count": null,
   "metadata": {},
   "outputs": [],
   "source": []
  },
  {
   "cell_type": "code",
   "execution_count": null,
   "metadata": {},
   "outputs": [],
   "source": []
  },
  {
   "cell_type": "code",
   "execution_count": null,
   "metadata": {},
   "outputs": [],
   "source": []
  },
  {
   "cell_type": "code",
   "execution_count": null,
   "metadata": {},
   "outputs": [],
   "source": []
  }
 ],
 "metadata": {
  "kernelspec": {
   "display_name": "rishabh_sat",
   "language": "python",
   "name": "python3"
  },
  "language_info": {
   "codemirror_mode": {
    "name": "ipython",
    "version": 3
   },
   "file_extension": ".py",
   "mimetype": "text/x-python",
   "name": "python",
   "nbconvert_exporter": "python",
   "pygments_lexer": "ipython3",
   "version": "3.12.4"
  }
 },
 "nbformat": 4,
 "nbformat_minor": 2
}
